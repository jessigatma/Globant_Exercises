{
  "cells": [
    {
      "cell_type": "markdown",
      "metadata": {
        "id": "view-in-github",
        "colab_type": "text"
      },
      "source": [
        "<a href=\"https://colab.research.google.com/github/jessigatma/Globant_Exercises/blob/main/purchases.ipynb\" target=\"_parent\"><img src=\"https://colab.research.google.com/assets/colab-badge.svg\" alt=\"Open In Colab\"/></a>"
      ]
    },
    {
      "cell_type": "markdown",
      "source": [
        "# Purchases"
      ],
      "metadata": {
        "id": "LTEQCXbmdtvX"
      }
    },
    {
      "cell_type": "markdown",
      "source": [
        "## 1. Problema\n",
        "\n",
        "**Objetivo**: Descubrir transacciones inusuales"
      ],
      "metadata": {
        "id": "9_zSrrY2g2KU"
      }
    },
    {
      "cell_type": "markdown",
      "source": [
        "## 2. Obtención de Datos"
      ],
      "metadata": {
        "id": "5sdzdOVye6i1"
      }
    },
    {
      "cell_type": "markdown",
      "source": [
        "En el siguiente link hay una colección de transacciones de compra de tarjeta de crédito del Ayuntamiento de Birminham https://data.birmingham.gov.uk/dataset/purchase-card-transactions\n",
        "\n"
      ],
      "metadata": {
        "id": "sbjXIy_EeO_V"
      }
    },
    {
      "cell_type": "markdown",
      "source": [
        "Los datos se enuentran en formato xls, son un total de 43 archivos del año 2014 al 2017. Estos archivos los juntamos en uno sólo. Se guardará en un csv llamado *total_purchase.csv*"
      ],
      "metadata": {
        "id": "TVrcwsW5exOP"
      }
    },
    {
      "cell_type": "code",
      "execution_count": 1,
      "metadata": {
        "id": "7MkJwD50FHnZ"
      },
      "outputs": [],
      "source": [
        "import pandas as pd\n",
        "import os\n",
        "import glob"
      ]
    },
    {
      "cell_type": "code",
      "source": [
        "path_files = './PURCHASES/'\n",
        "xls_files = glob.glob(os.path.join(path_files, \"*.xls\"))\n",
        "column_list = ['TRANS DATE', 'TRANS VAT DESC', 'ORIGINAL GROSS AMT', 'MERCHANT NAME', 'CARD NUMBER',  'TRANS CAC CODE 1', 'TRANS CAC DESC 1', 'TRANS CAC CODE 2', 'TRANS CAC DESC 2','TRANS CAC CODE 3', 'Directorate']\n",
        "dfs =[]\n",
        "\n",
        "for file in xls_files:\n",
        "    df = pd.read_excel(file)\n",
        "    df.rename({'Directorate ':'Directorate', 'Directorates':'Directorate', 'Unnamed: 10':'Directorate'}, axis='columns',inplace=True)\n",
        "    df = df[column_list]\n",
        "    dfs.append(df)\n",
        "\n",
        "result = pd.concat(dfs)\n",
        "result.to_csv('total_purchase.csv',index=False)\n",
        "result.shape\n"
      ],
      "metadata": {
        "id": "pWZdkQoofwfO"
      },
      "execution_count": null,
      "outputs": []
    },
    {
      "cell_type": "markdown",
      "source": [
        "Ya que se tiene el archivo, es momento de entender los datos"
      ],
      "metadata": {
        "id": "NOCqvz7uggjP"
      }
    },
    {
      "cell_type": "code",
      "source": [
        "from google.colab import drive\n",
        "drive.mount('/content/drive')"
      ],
      "metadata": {
        "colab": {
          "base_uri": "https://localhost:8080/"
        },
        "id": "bubAoEl6FZEc",
        "outputId": "414a5b7c-b3f0-4ff1-e947-46fd938b650b"
      },
      "execution_count": 4,
      "outputs": [
        {
          "output_type": "stream",
          "name": "stdout",
          "text": [
            "Mounted at /content/drive\n"
          ]
        }
      ]
    },
    {
      "cell_type": "code",
      "execution_count": 5,
      "metadata": {
        "colab": {
          "base_uri": "https://localhost:8080/",
          "height": 206
        },
        "id": "6zUAv_tlFHnb",
        "outputId": "8694e303-a517-4bdf-ffec-75659d34f03b"
      },
      "outputs": [
        {
          "output_type": "execute_result",
          "data": {
            "text/plain": [
              "   TRANS DATE TRANS VAT DESC  ORIGINAL GROSS AMT      MERCHANT NAME  \\\n",
              "0  2015-05-06             VR               38.28  shell corrida 108   \n",
              "1  2015-05-14             VR               34.23      tex city sstn   \n",
              "2  2015-05-21             VR               42.61      tex city sstn   \n",
              "3  2015-05-29             VR               43.57      tex city sstn   \n",
              "4  2015-05-07             VR               54.17    shell kings 587   \n",
              "\n",
              "        CARD NUMBER TRANS CAC CODE 1 TRANS CAC DESC 1 TRANS CAC CODE 2  \\\n",
              "0  ************0541             K020     Vehicle Fuel            RV12T   \n",
              "1  ************0541             K020     Vehicle Fuel            RV12T   \n",
              "2  ************0541             K020     Vehicle Fuel            RV12T   \n",
              "3  ************0541             K020     Vehicle Fuel            RV12T   \n",
              "4  ************5770             K020     Vehicle Fuel            RV12N   \n",
              "\n",
              "                         TRANS CAC DESC 2 TRANS CAC CODE 3  \\\n",
              "0  Shakti Elders Dce, 73 Conybere St, B12              A00   \n",
              "1  Shakti Elders Dce, 73 Conybere St, B12              A00   \n",
              "2  Shakti Elders Dce, 73 Conybere St, B12              A00   \n",
              "3  Shakti Elders Dce, 73 Conybere St, B12              A00   \n",
              "4                    African-Caribbean DC              A00   \n",
              "\n",
              "           Directorate  \n",
              "0  Adult & Communities  \n",
              "1  Adult & Communities  \n",
              "2  Adult & Communities  \n",
              "3  Adult & Communities  \n",
              "4  Adult & Communities  "
            ],
            "text/html": [
              "\n",
              "  <div id=\"df-d2562612-4ad3-48a0-9eb3-c151f4f015a5\">\n",
              "    <div class=\"colab-df-container\">\n",
              "      <div>\n",
              "<style scoped>\n",
              "    .dataframe tbody tr th:only-of-type {\n",
              "        vertical-align: middle;\n",
              "    }\n",
              "\n",
              "    .dataframe tbody tr th {\n",
              "        vertical-align: top;\n",
              "    }\n",
              "\n",
              "    .dataframe thead th {\n",
              "        text-align: right;\n",
              "    }\n",
              "</style>\n",
              "<table border=\"1\" class=\"dataframe\">\n",
              "  <thead>\n",
              "    <tr style=\"text-align: right;\">\n",
              "      <th></th>\n",
              "      <th>TRANS DATE</th>\n",
              "      <th>TRANS VAT DESC</th>\n",
              "      <th>ORIGINAL GROSS AMT</th>\n",
              "      <th>MERCHANT NAME</th>\n",
              "      <th>CARD NUMBER</th>\n",
              "      <th>TRANS CAC CODE 1</th>\n",
              "      <th>TRANS CAC DESC 1</th>\n",
              "      <th>TRANS CAC CODE 2</th>\n",
              "      <th>TRANS CAC DESC 2</th>\n",
              "      <th>TRANS CAC CODE 3</th>\n",
              "      <th>Directorate</th>\n",
              "    </tr>\n",
              "  </thead>\n",
              "  <tbody>\n",
              "    <tr>\n",
              "      <th>0</th>\n",
              "      <td>2015-05-06</td>\n",
              "      <td>VR</td>\n",
              "      <td>38.28</td>\n",
              "      <td>shell corrida 108</td>\n",
              "      <td>************0541</td>\n",
              "      <td>K020</td>\n",
              "      <td>Vehicle Fuel</td>\n",
              "      <td>RV12T</td>\n",
              "      <td>Shakti Elders Dce, 73 Conybere St, B12</td>\n",
              "      <td>A00</td>\n",
              "      <td>Adult &amp; Communities</td>\n",
              "    </tr>\n",
              "    <tr>\n",
              "      <th>1</th>\n",
              "      <td>2015-05-14</td>\n",
              "      <td>VR</td>\n",
              "      <td>34.23</td>\n",
              "      <td>tex city sstn</td>\n",
              "      <td>************0541</td>\n",
              "      <td>K020</td>\n",
              "      <td>Vehicle Fuel</td>\n",
              "      <td>RV12T</td>\n",
              "      <td>Shakti Elders Dce, 73 Conybere St, B12</td>\n",
              "      <td>A00</td>\n",
              "      <td>Adult &amp; Communities</td>\n",
              "    </tr>\n",
              "    <tr>\n",
              "      <th>2</th>\n",
              "      <td>2015-05-21</td>\n",
              "      <td>VR</td>\n",
              "      <td>42.61</td>\n",
              "      <td>tex city sstn</td>\n",
              "      <td>************0541</td>\n",
              "      <td>K020</td>\n",
              "      <td>Vehicle Fuel</td>\n",
              "      <td>RV12T</td>\n",
              "      <td>Shakti Elders Dce, 73 Conybere St, B12</td>\n",
              "      <td>A00</td>\n",
              "      <td>Adult &amp; Communities</td>\n",
              "    </tr>\n",
              "    <tr>\n",
              "      <th>3</th>\n",
              "      <td>2015-05-29</td>\n",
              "      <td>VR</td>\n",
              "      <td>43.57</td>\n",
              "      <td>tex city sstn</td>\n",
              "      <td>************0541</td>\n",
              "      <td>K020</td>\n",
              "      <td>Vehicle Fuel</td>\n",
              "      <td>RV12T</td>\n",
              "      <td>Shakti Elders Dce, 73 Conybere St, B12</td>\n",
              "      <td>A00</td>\n",
              "      <td>Adult &amp; Communities</td>\n",
              "    </tr>\n",
              "    <tr>\n",
              "      <th>4</th>\n",
              "      <td>2015-05-07</td>\n",
              "      <td>VR</td>\n",
              "      <td>54.17</td>\n",
              "      <td>shell kings 587</td>\n",
              "      <td>************5770</td>\n",
              "      <td>K020</td>\n",
              "      <td>Vehicle Fuel</td>\n",
              "      <td>RV12N</td>\n",
              "      <td>African-Caribbean DC</td>\n",
              "      <td>A00</td>\n",
              "      <td>Adult &amp; Communities</td>\n",
              "    </tr>\n",
              "  </tbody>\n",
              "</table>\n",
              "</div>\n",
              "      <button class=\"colab-df-convert\" onclick=\"convertToInteractive('df-d2562612-4ad3-48a0-9eb3-c151f4f015a5')\"\n",
              "              title=\"Convert this dataframe to an interactive table.\"\n",
              "              style=\"display:none;\">\n",
              "        \n",
              "  <svg xmlns=\"http://www.w3.org/2000/svg\" height=\"24px\"viewBox=\"0 0 24 24\"\n",
              "       width=\"24px\">\n",
              "    <path d=\"M0 0h24v24H0V0z\" fill=\"none\"/>\n",
              "    <path d=\"M18.56 5.44l.94 2.06.94-2.06 2.06-.94-2.06-.94-.94-2.06-.94 2.06-2.06.94zm-11 1L8.5 8.5l.94-2.06 2.06-.94-2.06-.94L8.5 2.5l-.94 2.06-2.06.94zm10 10l.94 2.06.94-2.06 2.06-.94-2.06-.94-.94-2.06-.94 2.06-2.06.94z\"/><path d=\"M17.41 7.96l-1.37-1.37c-.4-.4-.92-.59-1.43-.59-.52 0-1.04.2-1.43.59L10.3 9.45l-7.72 7.72c-.78.78-.78 2.05 0 2.83L4 21.41c.39.39.9.59 1.41.59.51 0 1.02-.2 1.41-.59l7.78-7.78 2.81-2.81c.8-.78.8-2.07 0-2.86zM5.41 20L4 18.59l7.72-7.72 1.47 1.35L5.41 20z\"/>\n",
              "  </svg>\n",
              "      </button>\n",
              "      \n",
              "  <style>\n",
              "    .colab-df-container {\n",
              "      display:flex;\n",
              "      flex-wrap:wrap;\n",
              "      gap: 12px;\n",
              "    }\n",
              "\n",
              "    .colab-df-convert {\n",
              "      background-color: #E8F0FE;\n",
              "      border: none;\n",
              "      border-radius: 50%;\n",
              "      cursor: pointer;\n",
              "      display: none;\n",
              "      fill: #1967D2;\n",
              "      height: 32px;\n",
              "      padding: 0 0 0 0;\n",
              "      width: 32px;\n",
              "    }\n",
              "\n",
              "    .colab-df-convert:hover {\n",
              "      background-color: #E2EBFA;\n",
              "      box-shadow: 0px 1px 2px rgba(60, 64, 67, 0.3), 0px 1px 3px 1px rgba(60, 64, 67, 0.15);\n",
              "      fill: #174EA6;\n",
              "    }\n",
              "\n",
              "    [theme=dark] .colab-df-convert {\n",
              "      background-color: #3B4455;\n",
              "      fill: #D2E3FC;\n",
              "    }\n",
              "\n",
              "    [theme=dark] .colab-df-convert:hover {\n",
              "      background-color: #434B5C;\n",
              "      box-shadow: 0px 1px 3px 1px rgba(0, 0, 0, 0.15);\n",
              "      filter: drop-shadow(0px 1px 2px rgba(0, 0, 0, 0.3));\n",
              "      fill: #FFFFFF;\n",
              "    }\n",
              "  </style>\n",
              "\n",
              "      <script>\n",
              "        const buttonEl =\n",
              "          document.querySelector('#df-d2562612-4ad3-48a0-9eb3-c151f4f015a5 button.colab-df-convert');\n",
              "        buttonEl.style.display =\n",
              "          google.colab.kernel.accessAllowed ? 'block' : 'none';\n",
              "\n",
              "        async function convertToInteractive(key) {\n",
              "          const element = document.querySelector('#df-d2562612-4ad3-48a0-9eb3-c151f4f015a5');\n",
              "          const dataTable =\n",
              "            await google.colab.kernel.invokeFunction('convertToInteractive',\n",
              "                                                     [key], {});\n",
              "          if (!dataTable) return;\n",
              "\n",
              "          const docLinkHtml = 'Like what you see? Visit the ' +\n",
              "            '<a target=\"_blank\" href=https://colab.research.google.com/notebooks/data_table.ipynb>data table notebook</a>'\n",
              "            + ' to learn more about interactive tables.';\n",
              "          element.innerHTML = '';\n",
              "          dataTable['output_type'] = 'display_data';\n",
              "          await google.colab.output.renderOutput(dataTable, element);\n",
              "          const docLink = document.createElement('div');\n",
              "          docLink.innerHTML = docLinkHtml;\n",
              "          element.appendChild(docLink);\n",
              "        }\n",
              "      </script>\n",
              "    </div>\n",
              "  </div>\n",
              "  "
            ]
          },
          "metadata": {},
          "execution_count": 5
        }
      ],
      "source": [
        "df_result = pd.read_csv('/content/drive/MyDrive/total_purchase.csv')\n",
        "df_result.head()"
      ]
    },
    {
      "cell_type": "markdown",
      "source": [
        "Se observará el tipo de datos que se tiene"
      ],
      "metadata": {
        "id": "cizuFWTGhZst"
      }
    },
    {
      "cell_type": "code",
      "execution_count": 6,
      "metadata": {
        "colab": {
          "base_uri": "https://localhost:8080/"
        },
        "id": "lp48s4ABFHne",
        "outputId": "22a9efaa-6695-42bb-baa7-9474569f57f8"
      },
      "outputs": [
        {
          "output_type": "stream",
          "name": "stdout",
          "text": [
            "<class 'pandas.core.frame.DataFrame'>\n",
            "RangeIndex: 180269 entries, 0 to 180268\n",
            "Data columns (total 11 columns):\n",
            " #   Column              Non-Null Count   Dtype  \n",
            "---  ------              --------------   -----  \n",
            " 0   TRANS DATE          180268 non-null  object \n",
            " 1   TRANS VAT DESC      171054 non-null  object \n",
            " 2   ORIGINAL GROSS AMT  180268 non-null  float64\n",
            " 3   MERCHANT NAME       180268 non-null  object \n",
            " 4   CARD NUMBER         180268 non-null  object \n",
            " 5   TRANS CAC CODE 1    180168 non-null  object \n",
            " 6   TRANS CAC DESC 1    180168 non-null  object \n",
            " 7   TRANS CAC CODE 2    180041 non-null  object \n",
            " 8   TRANS CAC DESC 2    180041 non-null  object \n",
            " 9   TRANS CAC CODE 3    179985 non-null  object \n",
            " 10  Directorate         179531 non-null  object \n",
            "dtypes: float64(1), object(10)\n",
            "memory usage: 15.1+ MB\n"
          ]
        }
      ],
      "source": [
        "df_result.info()"
      ]
    },
    {
      "cell_type": "markdown",
      "source": [
        "serva que hay varios valores nulos y que *TRANS DATE* que debería ser fecha está como objeto. Se cambiará al formato fecha"
      ],
      "metadata": {
        "id": "RrPVgI1OhlLL"
      }
    },
    {
      "cell_type": "code",
      "execution_count": 7,
      "metadata": {
        "id": "KULKqyfdFHnc"
      },
      "outputs": [],
      "source": [
        "df_result['TRANS DATE'] = pd.to_datetime(df_result['TRANS DATE'])"
      ]
    },
    {
      "cell_type": "code",
      "execution_count": 8,
      "metadata": {
        "colab": {
          "base_uri": "https://localhost:8080/"
        },
        "id": "wFYfDd-WFHnd",
        "outputId": "1c91c3ba-4d07-42aa-cc0d-4dabfa75f5a0"
      },
      "outputs": [
        {
          "output_type": "stream",
          "name": "stdout",
          "text": [
            "Fecha máxima:  2017-12-01 00:00:00\n",
            "Fecha mínima:  2013-11-12 00:00:00\n"
          ]
        }
      ],
      "source": [
        "print('Fecha máxima: ',df_result['TRANS DATE'].max())\n",
        "print('Fecha mínima: ', df_result['TRANS DATE'].min())"
      ]
    },
    {
      "cell_type": "markdown",
      "source": [
        "Para dar un vistazo a los valores con los que se cuenta, se recorrerá cada una de las columnas "
      ],
      "metadata": {
        "id": "yAVz9sR-i4Rs"
      }
    },
    {
      "cell_type": "code",
      "source": [
        "for columna in df_result.columns:\n",
        "  print(f'====== {columna} ========')\n",
        "  valores = df_result[columna].value_counts()\n",
        "  print(valores)"
      ],
      "metadata": {
        "colab": {
          "base_uri": "https://localhost:8080/"
        },
        "id": "lOBppoHLih0b",
        "outputId": "156170b8-136a-42ef-f1bb-1a0af6082523"
      },
      "execution_count": 9,
      "outputs": [
        {
          "output_type": "stream",
          "name": "stdout",
          "text": [
            "====== TRANS DATE ========\n",
            "2014-06-11    473\n",
            "2014-06-06    470\n",
            "2014-06-16    452\n",
            "2014-06-24    444\n",
            "2014-06-17    438\n",
            "             ... \n",
            "2013-11-12      1\n",
            "2015-04-27      1\n",
            "2014-05-02      1\n",
            "2015-12-25      1\n",
            "2014-05-28      1\n",
            "Name: TRANS DATE, Length: 1293, dtype: int64\n",
            "====== TRANS VAT DESC ========\n",
            "VR       85601\n",
            "VZ       83839\n",
            "VL         650\n",
            "VE         641\n",
            "VS         288\n",
            "VT          30\n",
            "6.65%        5\n",
            "Name: TRANS VAT DESC, dtype: int64\n",
            "====== ORIGINAL GROSS AMT ========\n",
            " 50.00     1226\n",
            " 10.00     1209\n",
            " 3.00      1076\n",
            " 15.00     1061\n",
            " 20.00     1053\n",
            "           ... \n",
            " 552.85       1\n",
            " 595.10       1\n",
            " 587.50       1\n",
            "-489.00       1\n",
            " 288.13       1\n",
            "Name: ORIGINAL GROSS AMT, Length: 31737, dtype: int64\n",
            "====== MERCHANT NAME ========\n",
            "amazon uk marketplace    14381\n",
            "amazon uk retail          6022\n",
            "travelodge gb0000         4890\n",
            "amazon mktplce eu-uk      4664\n",
            "travelodge website        4087\n",
            "                         ...  \n",
            "paypal taxdiscolis           1\n",
            "paypal trzuskowski           1\n",
            "paypal zroxinterna           1\n",
            "paypal d.sounds              1\n",
            "kebabish original            1\n",
            "Name: MERCHANT NAME, Length: 15540, dtype: int64\n",
            "====== CARD NUMBER ========\n",
            "************6308    2436\n",
            "************6720    2139\n",
            "************6316    2000\n",
            "************7710    1650\n",
            "************6387    1262\n",
            "                    ... \n",
            "************6890       1\n",
            "************2429       1\n",
            "************1720       1\n",
            "************3464       1\n",
            "************6180       1\n",
            "Name: CARD NUMBER, Length: 1499, dtype: int64\n",
            "====== TRANS CAC CODE 1 ========\n",
            "L100    33476\n",
            "K020    22460\n",
            "L220    20064\n",
            "L030    11069\n",
            "MC70    10506\n",
            "        ...  \n",
            "L810        1\n",
            "N1F0        1\n",
            "J1K5        1\n",
            "L520        1\n",
            "M660        1\n",
            "Name: TRANS CAC CODE 1, Length: 143, dtype: int64\n",
            "====== TRANS CAC DESC 1 ========\n",
            "Equip Operational       33476\n",
            "Vehicle Fuel            22460\n",
            "Purchases Food          20064\n",
            "Books                   11069\n",
            "Supplies & Sev Mic      10506\n",
            "                        ...  \n",
            "Phon Centrx call Chg        1\n",
            "Dir Payts - Children        1\n",
            "StratRefurbishment          1\n",
            "Audit Fees                  1\n",
            "SoR LIGHTING OTHER          1\n",
            "Name: TRANS CAC DESC 1, Length: 143, dtype: int64\n",
            "====== TRANS CAC CODE 2 ========\n",
            "RUF0F    13534\n",
            "RJADC     7739\n",
            "REAAB     4888\n",
            "RV014     3001\n",
            "RLBMC     2533\n",
            "         ...  \n",
            "RC058        1\n",
            "RECD6        1\n",
            "RV46D        1\n",
            "rhe03        1\n",
            "RJBUH        1\n",
            "Name: TRANS CAC CODE 2, Length: 1377, dtype: int64\n",
            "====== TRANS CAC DESC 2 ========\n",
            "Illegal Money Lending T Stds Comm Inv.    13534\n",
            "Homeless Private Sector Accom              7739\n",
            "The City of Birmingham School              4888\n",
            "Camborne House HLDC                        3001\n",
            "Technical Unit                             2533\n",
            "                                          ...  \n",
            "Capital & Buildings                           1\n",
            "Safeguarding Adults                           1\n",
            "HR Head of HR                                 1\n",
            "Strategic Director Peopl                      1\n",
            "Enf PRS & Enforcement Bus/Unit                1\n",
            "Name: TRANS CAC DESC 2, Length: 1362, dtype: int64\n",
            "====== TRANS CAC CODE 3 ========\n",
            "A00      178042\n",
            "A5F        1682\n",
            "A46          82\n",
            "A8H          36\n",
            "A95          31\n",
            "A5D          27\n",
            "A42          14\n",
            "A7N          13\n",
            "REACN         9\n",
            "A8F           9\n",
            "A9Y           8\n",
            "A7M           3\n",
            "A13           2\n",
            "A12           2\n",
            "A08           2\n",
            "A11           2\n",
            "A10           2\n",
            "A09           2\n",
            "A04           2\n",
            "A07           2\n",
            "A06           2\n",
            "A05           2\n",
            "A03           2\n",
            "A02           2\n",
            "A01           2\n",
            "A6G           1\n",
            "RBH07         1\n",
            "A60           1\n",
            "Name: TRANS CAC CODE 3, dtype: int64\n",
            "====== Directorate ========\n",
            "CYP&F SCHOOLS                   84844\n",
            "Local Services                  40668\n",
            "CYP&F                           23884\n",
            "Adult & Communities             12367\n",
            "Corporate Resources             12082\n",
            "DEVELOPMENT                      3940\n",
            "CYP&F                             545\n",
            "CYP&F Schools                     459\n",
            "Adult Social Care and Health      368\n",
            "CYP&F                             113\n",
            "CYO&F                              93\n",
            "Adults & Comms                     51\n",
            "Local services                     39\n",
            "Development                        34\n",
            "Adults                             24\n",
            "Adults & Communities               16\n",
            "Corporate Procurement               3\n",
            "                                    1\n",
            "Name: Directorate, dtype: int64\n"
          ]
        }
      ]
    },
    {
      "cell_type": "markdown",
      "source": [
        "No se cuenta con un ID que pueda sugerir que es el mismo cliente, esto con la intención de que se pudiera rastrear sus transacciones de manera individual.\n",
        "\n",
        "Se pudiera ver si existe un tipo de relación entre VAT DESC y el monto de la transacción. \n",
        "\n",
        "Sería interesante observar cuáles son los tipos de negocio que más transacciones tienen y si hay un negocio en particular que cuente con más anomalías ó si se presenta la anomalía de forma aleatoria.\n",
        "\n",
        "¿Cómo será el comportamiento de las transacciones? Se esperaría que la gasolina fuera a un ritmo constante, en cambio, productos no básicos pudieran crecer sus transacciones en épocas especiales como Navidad. \n",
        "\n",
        "\n"
      ],
      "metadata": {
        "id": "RR7urMjgjeWD"
      }
    },
    {
      "cell_type": "markdown",
      "source": [
        "¿Cuánto es el monto promedio por transacción? ¿Cuánto su desviación estándar?"
      ],
      "metadata": {
        "id": "XhSyTxhElciV"
      }
    },
    {
      "cell_type": "code",
      "source": [
        "df_result.describe()"
      ],
      "metadata": {
        "colab": {
          "base_uri": "https://localhost:8080/",
          "height": 300
        },
        "id": "yjVJoTM4lYqf",
        "outputId": "337a081c-daba-429e-d855-ef534cc7766e"
      },
      "execution_count": 10,
      "outputs": [
        {
          "output_type": "execute_result",
          "data": {
            "text/plain": [
              "       ORIGINAL GROSS AMT\n",
              "count       180268.000000\n",
              "mean           173.276633\n",
              "std           2158.197288\n",
              "min        -486980.090000\n",
              "25%             12.790000\n",
              "50%             40.400000\n",
              "75%             91.600000\n",
              "max         280102.230000"
            ],
            "text/html": [
              "\n",
              "  <div id=\"df-4c18cb6f-0d6b-430c-9713-bcd4ee225b6e\">\n",
              "    <div class=\"colab-df-container\">\n",
              "      <div>\n",
              "<style scoped>\n",
              "    .dataframe tbody tr th:only-of-type {\n",
              "        vertical-align: middle;\n",
              "    }\n",
              "\n",
              "    .dataframe tbody tr th {\n",
              "        vertical-align: top;\n",
              "    }\n",
              "\n",
              "    .dataframe thead th {\n",
              "        text-align: right;\n",
              "    }\n",
              "</style>\n",
              "<table border=\"1\" class=\"dataframe\">\n",
              "  <thead>\n",
              "    <tr style=\"text-align: right;\">\n",
              "      <th></th>\n",
              "      <th>ORIGINAL GROSS AMT</th>\n",
              "    </tr>\n",
              "  </thead>\n",
              "  <tbody>\n",
              "    <tr>\n",
              "      <th>count</th>\n",
              "      <td>180268.000000</td>\n",
              "    </tr>\n",
              "    <tr>\n",
              "      <th>mean</th>\n",
              "      <td>173.276633</td>\n",
              "    </tr>\n",
              "    <tr>\n",
              "      <th>std</th>\n",
              "      <td>2158.197288</td>\n",
              "    </tr>\n",
              "    <tr>\n",
              "      <th>min</th>\n",
              "      <td>-486980.090000</td>\n",
              "    </tr>\n",
              "    <tr>\n",
              "      <th>25%</th>\n",
              "      <td>12.790000</td>\n",
              "    </tr>\n",
              "    <tr>\n",
              "      <th>50%</th>\n",
              "      <td>40.400000</td>\n",
              "    </tr>\n",
              "    <tr>\n",
              "      <th>75%</th>\n",
              "      <td>91.600000</td>\n",
              "    </tr>\n",
              "    <tr>\n",
              "      <th>max</th>\n",
              "      <td>280102.230000</td>\n",
              "    </tr>\n",
              "  </tbody>\n",
              "</table>\n",
              "</div>\n",
              "      <button class=\"colab-df-convert\" onclick=\"convertToInteractive('df-4c18cb6f-0d6b-430c-9713-bcd4ee225b6e')\"\n",
              "              title=\"Convert this dataframe to an interactive table.\"\n",
              "              style=\"display:none;\">\n",
              "        \n",
              "  <svg xmlns=\"http://www.w3.org/2000/svg\" height=\"24px\"viewBox=\"0 0 24 24\"\n",
              "       width=\"24px\">\n",
              "    <path d=\"M0 0h24v24H0V0z\" fill=\"none\"/>\n",
              "    <path d=\"M18.56 5.44l.94 2.06.94-2.06 2.06-.94-2.06-.94-.94-2.06-.94 2.06-2.06.94zm-11 1L8.5 8.5l.94-2.06 2.06-.94-2.06-.94L8.5 2.5l-.94 2.06-2.06.94zm10 10l.94 2.06.94-2.06 2.06-.94-2.06-.94-.94-2.06-.94 2.06-2.06.94z\"/><path d=\"M17.41 7.96l-1.37-1.37c-.4-.4-.92-.59-1.43-.59-.52 0-1.04.2-1.43.59L10.3 9.45l-7.72 7.72c-.78.78-.78 2.05 0 2.83L4 21.41c.39.39.9.59 1.41.59.51 0 1.02-.2 1.41-.59l7.78-7.78 2.81-2.81c.8-.78.8-2.07 0-2.86zM5.41 20L4 18.59l7.72-7.72 1.47 1.35L5.41 20z\"/>\n",
              "  </svg>\n",
              "      </button>\n",
              "      \n",
              "  <style>\n",
              "    .colab-df-container {\n",
              "      display:flex;\n",
              "      flex-wrap:wrap;\n",
              "      gap: 12px;\n",
              "    }\n",
              "\n",
              "    .colab-df-convert {\n",
              "      background-color: #E8F0FE;\n",
              "      border: none;\n",
              "      border-radius: 50%;\n",
              "      cursor: pointer;\n",
              "      display: none;\n",
              "      fill: #1967D2;\n",
              "      height: 32px;\n",
              "      padding: 0 0 0 0;\n",
              "      width: 32px;\n",
              "    }\n",
              "\n",
              "    .colab-df-convert:hover {\n",
              "      background-color: #E2EBFA;\n",
              "      box-shadow: 0px 1px 2px rgba(60, 64, 67, 0.3), 0px 1px 3px 1px rgba(60, 64, 67, 0.15);\n",
              "      fill: #174EA6;\n",
              "    }\n",
              "\n",
              "    [theme=dark] .colab-df-convert {\n",
              "      background-color: #3B4455;\n",
              "      fill: #D2E3FC;\n",
              "    }\n",
              "\n",
              "    [theme=dark] .colab-df-convert:hover {\n",
              "      background-color: #434B5C;\n",
              "      box-shadow: 0px 1px 3px 1px rgba(0, 0, 0, 0.15);\n",
              "      filter: drop-shadow(0px 1px 2px rgba(0, 0, 0, 0.3));\n",
              "      fill: #FFFFFF;\n",
              "    }\n",
              "  </style>\n",
              "\n",
              "      <script>\n",
              "        const buttonEl =\n",
              "          document.querySelector('#df-4c18cb6f-0d6b-430c-9713-bcd4ee225b6e button.colab-df-convert');\n",
              "        buttonEl.style.display =\n",
              "          google.colab.kernel.accessAllowed ? 'block' : 'none';\n",
              "\n",
              "        async function convertToInteractive(key) {\n",
              "          const element = document.querySelector('#df-4c18cb6f-0d6b-430c-9713-bcd4ee225b6e');\n",
              "          const dataTable =\n",
              "            await google.colab.kernel.invokeFunction('convertToInteractive',\n",
              "                                                     [key], {});\n",
              "          if (!dataTable) return;\n",
              "\n",
              "          const docLinkHtml = 'Like what you see? Visit the ' +\n",
              "            '<a target=\"_blank\" href=https://colab.research.google.com/notebooks/data_table.ipynb>data table notebook</a>'\n",
              "            + ' to learn more about interactive tables.';\n",
              "          element.innerHTML = '';\n",
              "          dataTable['output_type'] = 'display_data';\n",
              "          await google.colab.output.renderOutput(dataTable, element);\n",
              "          const docLink = document.createElement('div');\n",
              "          docLink.innerHTML = docLinkHtml;\n",
              "          element.appendChild(docLink);\n",
              "        }\n",
              "      </script>\n",
              "    </div>\n",
              "  </div>\n",
              "  "
            ]
          },
          "metadata": {},
          "execution_count": 10
        }
      ]
    },
    {
      "cell_type": "markdown",
      "source": [
        "## 3. Limpieza de Datos"
      ],
      "metadata": {
        "id": "567MQRdmp_0p"
      }
    },
    {
      "cell_type": "markdown",
      "source": [
        "Para la limpieza de datos se comenzará dejando las columnas que serán útiles para lograr el objetivo de detección de anomalías. Y se agregará otra columna de Mes"
      ],
      "metadata": {
        "id": "VQg4WFpKqDiL"
      }
    },
    {
      "cell_type": "code",
      "source": [
        "from datetime import datetime as dt \n",
        "\n",
        "df_result = df_result[['TRANS DATE', 'ORIGINAL GROSS AMT', 'TRANS CAC DESC 1']]\n",
        "df_result['MONTH'] = df_result['TRANS DATE'].apply(lambda x: x.month)\n",
        "df_result.head()"
      ],
      "metadata": {
        "colab": {
          "base_uri": "https://localhost:8080/",
          "height": 206
        },
        "id": "AE-ZiYgKqTbn",
        "outputId": "2d3c10f1-bd70-479c-eae8-e1197c85ce10"
      },
      "execution_count": 11,
      "outputs": [
        {
          "output_type": "execute_result",
          "data": {
            "text/plain": [
              "  TRANS DATE  ORIGINAL GROSS AMT TRANS CAC DESC 1  MONTH\n",
              "0 2015-05-06               38.28     Vehicle Fuel    5.0\n",
              "1 2015-05-14               34.23     Vehicle Fuel    5.0\n",
              "2 2015-05-21               42.61     Vehicle Fuel    5.0\n",
              "3 2015-05-29               43.57     Vehicle Fuel    5.0\n",
              "4 2015-05-07               54.17     Vehicle Fuel    5.0"
            ],
            "text/html": [
              "\n",
              "  <div id=\"df-17f2edfd-5eac-47be-8c5c-2f0dc1380324\">\n",
              "    <div class=\"colab-df-container\">\n",
              "      <div>\n",
              "<style scoped>\n",
              "    .dataframe tbody tr th:only-of-type {\n",
              "        vertical-align: middle;\n",
              "    }\n",
              "\n",
              "    .dataframe tbody tr th {\n",
              "        vertical-align: top;\n",
              "    }\n",
              "\n",
              "    .dataframe thead th {\n",
              "        text-align: right;\n",
              "    }\n",
              "</style>\n",
              "<table border=\"1\" class=\"dataframe\">\n",
              "  <thead>\n",
              "    <tr style=\"text-align: right;\">\n",
              "      <th></th>\n",
              "      <th>TRANS DATE</th>\n",
              "      <th>ORIGINAL GROSS AMT</th>\n",
              "      <th>TRANS CAC DESC 1</th>\n",
              "      <th>MONTH</th>\n",
              "    </tr>\n",
              "  </thead>\n",
              "  <tbody>\n",
              "    <tr>\n",
              "      <th>0</th>\n",
              "      <td>2015-05-06</td>\n",
              "      <td>38.28</td>\n",
              "      <td>Vehicle Fuel</td>\n",
              "      <td>5.0</td>\n",
              "    </tr>\n",
              "    <tr>\n",
              "      <th>1</th>\n",
              "      <td>2015-05-14</td>\n",
              "      <td>34.23</td>\n",
              "      <td>Vehicle Fuel</td>\n",
              "      <td>5.0</td>\n",
              "    </tr>\n",
              "    <tr>\n",
              "      <th>2</th>\n",
              "      <td>2015-05-21</td>\n",
              "      <td>42.61</td>\n",
              "      <td>Vehicle Fuel</td>\n",
              "      <td>5.0</td>\n",
              "    </tr>\n",
              "    <tr>\n",
              "      <th>3</th>\n",
              "      <td>2015-05-29</td>\n",
              "      <td>43.57</td>\n",
              "      <td>Vehicle Fuel</td>\n",
              "      <td>5.0</td>\n",
              "    </tr>\n",
              "    <tr>\n",
              "      <th>4</th>\n",
              "      <td>2015-05-07</td>\n",
              "      <td>54.17</td>\n",
              "      <td>Vehicle Fuel</td>\n",
              "      <td>5.0</td>\n",
              "    </tr>\n",
              "  </tbody>\n",
              "</table>\n",
              "</div>\n",
              "      <button class=\"colab-df-convert\" onclick=\"convertToInteractive('df-17f2edfd-5eac-47be-8c5c-2f0dc1380324')\"\n",
              "              title=\"Convert this dataframe to an interactive table.\"\n",
              "              style=\"display:none;\">\n",
              "        \n",
              "  <svg xmlns=\"http://www.w3.org/2000/svg\" height=\"24px\"viewBox=\"0 0 24 24\"\n",
              "       width=\"24px\">\n",
              "    <path d=\"M0 0h24v24H0V0z\" fill=\"none\"/>\n",
              "    <path d=\"M18.56 5.44l.94 2.06.94-2.06 2.06-.94-2.06-.94-.94-2.06-.94 2.06-2.06.94zm-11 1L8.5 8.5l.94-2.06 2.06-.94-2.06-.94L8.5 2.5l-.94 2.06-2.06.94zm10 10l.94 2.06.94-2.06 2.06-.94-2.06-.94-.94-2.06-.94 2.06-2.06.94z\"/><path d=\"M17.41 7.96l-1.37-1.37c-.4-.4-.92-.59-1.43-.59-.52 0-1.04.2-1.43.59L10.3 9.45l-7.72 7.72c-.78.78-.78 2.05 0 2.83L4 21.41c.39.39.9.59 1.41.59.51 0 1.02-.2 1.41-.59l7.78-7.78 2.81-2.81c.8-.78.8-2.07 0-2.86zM5.41 20L4 18.59l7.72-7.72 1.47 1.35L5.41 20z\"/>\n",
              "  </svg>\n",
              "      </button>\n",
              "      \n",
              "  <style>\n",
              "    .colab-df-container {\n",
              "      display:flex;\n",
              "      flex-wrap:wrap;\n",
              "      gap: 12px;\n",
              "    }\n",
              "\n",
              "    .colab-df-convert {\n",
              "      background-color: #E8F0FE;\n",
              "      border: none;\n",
              "      border-radius: 50%;\n",
              "      cursor: pointer;\n",
              "      display: none;\n",
              "      fill: #1967D2;\n",
              "      height: 32px;\n",
              "      padding: 0 0 0 0;\n",
              "      width: 32px;\n",
              "    }\n",
              "\n",
              "    .colab-df-convert:hover {\n",
              "      background-color: #E2EBFA;\n",
              "      box-shadow: 0px 1px 2px rgba(60, 64, 67, 0.3), 0px 1px 3px 1px rgba(60, 64, 67, 0.15);\n",
              "      fill: #174EA6;\n",
              "    }\n",
              "\n",
              "    [theme=dark] .colab-df-convert {\n",
              "      background-color: #3B4455;\n",
              "      fill: #D2E3FC;\n",
              "    }\n",
              "\n",
              "    [theme=dark] .colab-df-convert:hover {\n",
              "      background-color: #434B5C;\n",
              "      box-shadow: 0px 1px 3px 1px rgba(0, 0, 0, 0.15);\n",
              "      filter: drop-shadow(0px 1px 2px rgba(0, 0, 0, 0.3));\n",
              "      fill: #FFFFFF;\n",
              "    }\n",
              "  </style>\n",
              "\n",
              "      <script>\n",
              "        const buttonEl =\n",
              "          document.querySelector('#df-17f2edfd-5eac-47be-8c5c-2f0dc1380324 button.colab-df-convert');\n",
              "        buttonEl.style.display =\n",
              "          google.colab.kernel.accessAllowed ? 'block' : 'none';\n",
              "\n",
              "        async function convertToInteractive(key) {\n",
              "          const element = document.querySelector('#df-17f2edfd-5eac-47be-8c5c-2f0dc1380324');\n",
              "          const dataTable =\n",
              "            await google.colab.kernel.invokeFunction('convertToInteractive',\n",
              "                                                     [key], {});\n",
              "          if (!dataTable) return;\n",
              "\n",
              "          const docLinkHtml = 'Like what you see? Visit the ' +\n",
              "            '<a target=\"_blank\" href=https://colab.research.google.com/notebooks/data_table.ipynb>data table notebook</a>'\n",
              "            + ' to learn more about interactive tables.';\n",
              "          element.innerHTML = '';\n",
              "          dataTable['output_type'] = 'display_data';\n",
              "          await google.colab.output.renderOutput(dataTable, element);\n",
              "          const docLink = document.createElement('div');\n",
              "          docLink.innerHTML = docLinkHtml;\n",
              "          element.appendChild(docLink);\n",
              "        }\n",
              "      </script>\n",
              "    </div>\n",
              "  </div>\n",
              "  "
            ]
          },
          "metadata": {},
          "execution_count": 11
        }
      ]
    },
    {
      "cell_type": "markdown",
      "source": [
        "## Análisis de Datos"
      ],
      "metadata": {
        "id": "c-2VbFDRqvRB"
      }
    },
    {
      "cell_type": "markdown",
      "source": [
        "Una vez que se tiene el dataset deseado, se quiere observar cómo actúan los principales tipos de negocio por mes. "
      ],
      "metadata": {
        "id": "glVNB1yPsd91"
      }
    },
    {
      "cell_type": "markdown",
      "source": [
        "Para conocer cuales son los principales tipos de negocio de acuerdo a su monto se realiza lo siguiente:"
      ],
      "metadata": {
        "id": "kzJwVRmLs9aG"
      }
    },
    {
      "cell_type": "code",
      "source": [
        "df_result['TRANS CAC DESC 1'].value_counts()[:5]"
      ],
      "metadata": {
        "colab": {
          "base_uri": "https://localhost:8080/"
        },
        "id": "r2YDdx6nsc2h",
        "outputId": "6c03f71a-3407-4296-9a32-35362630f206"
      },
      "execution_count": 12,
      "outputs": [
        {
          "output_type": "execute_result",
          "data": {
            "text/plain": [
              "Equip Operational     33476\n",
              "Vehicle Fuel          22460\n",
              "Purchases Food        20064\n",
              "Books                 11069\n",
              "Supplies & Sev Mic    10506\n",
              "Name: TRANS CAC DESC 1, dtype: int64"
            ]
          },
          "metadata": {},
          "execution_count": 12
        }
      ]
    },
    {
      "cell_type": "code",
      "source": [
        "df_result_class = df_result[(df_result['TRANS CAC DESC 1']=='Equip Operational')|(df_result['TRANS CAC DESC 1']=='Vehicle Fuel') | (df_result['TRANS CAC DESC 1']=='Purchases Food')|(df_result['TRANS CAC DESC 1']=='Books')|(df_result['TRANS CAC DESC 1']=='Supplies & Sev Mic')]\n",
        "df_result_class.shape"
      ],
      "metadata": {
        "colab": {
          "base_uri": "https://localhost:8080/"
        },
        "id": "CyzPTe0StoNU",
        "outputId": "61f31c6d-5f6d-4aad-9fa6-93531889957a"
      },
      "execution_count": 13,
      "outputs": [
        {
          "output_type": "execute_result",
          "data": {
            "text/plain": [
              "(97575, 4)"
            ]
          },
          "metadata": {},
          "execution_count": 13
        }
      ]
    },
    {
      "cell_type": "markdown",
      "source": [
        "Una vez que se obtiene este nuevo dataset con estos pocos tipos de negocio, se quisiera encontrar comportamientos que se relacionen entre ellos ó que sean estacionales. \n",
        "Se agrupará por mes y por tipo de negocio de 2014 a 2016"
      ],
      "metadata": {
        "id": "gsglGW-0uGzH"
      }
    },
    {
      "cell_type": "code",
      "source": [
        "df_month = df_result_class[df_result_class['TRANS DATE'].isin(pd.date_range('2014-01-01','2014-12-31'))]\n",
        "\n",
        "df1 = df_month.groupby(['TRANS CAC DESC 1','MONTH'],as_index=False).sum()\n",
        "\n",
        "dfT14 = pd.DataFrame()\n",
        "\n",
        "for columna in df1['TRANS CAC DESC 1'].unique():\n",
        "  df2 = df1[df1['TRANS CAC DESC 1']==columna].set_index('MONTH')\n",
        "  df2.rename(columns={'ORIGINAL GROSS AMT':columna},inplace=True)\n",
        "  dfT14 = pd.concat([dfT14,df2],axis=1)\n",
        "dfT14.drop('TRANS CAC DESC 1',axis=1,inplace=True)"
      ],
      "metadata": {
        "id": "WLC_FtYZuhsv"
      },
      "execution_count": 14,
      "outputs": []
    },
    {
      "cell_type": "code",
      "source": [
        "dfT14.plot()"
      ],
      "metadata": {
        "colab": {
          "base_uri": "https://localhost:8080/",
          "height": 296
        },
        "id": "1MNwy17pvZSS",
        "outputId": "87c280a9-3ee8-4ff8-fa97-adf3a34f8e3f"
      },
      "execution_count": 15,
      "outputs": [
        {
          "output_type": "execute_result",
          "data": {
            "text/plain": [
              "<matplotlib.axes._subplots.AxesSubplot at 0x7f38ca2539d0>"
            ]
          },
          "metadata": {},
          "execution_count": 15
        },
        {
          "output_type": "display_data",
          "data": {
            "text/plain": [
              "<Figure size 432x288 with 1 Axes>"
            ],
            "image/png": "[encoded data removed]"
          },
          "metadata": {
            "needs_background": "light"
          }
        }
      ]
    },
    {
      "cell_type": "code",
      "source": [
        "df_2015 = df_result_class[df_result_class['TRANS DATE'].isin(pd.date_range('2015-01-01','2015-12-31'))]\n",
        "df_2015['MONTH'] = df_2015['TRANS DATE'].apply(lambda x: x.month)\n",
        "\n",
        "df15 = df_2015.groupby(['TRANS CAC DESC 1','MONTH'],as_index=False).sum()\n",
        "\n",
        "dfT15 = pd.DataFrame()\n",
        "\n",
        "for columna in df15['TRANS CAC DESC 1'].unique():\n",
        "  d15 = df15[df15['TRANS CAC DESC 1']==columna].set_index('MONTH')\n",
        "  d15.rename(columns={'ORIGINAL GROSS AMT':columna},inplace=True)\n",
        "  dfT15 = pd.concat([dfT15,d15],axis=1)\n",
        "\n",
        "dfT15.drop('TRANS CAC DESC 1',axis=1,inplace=True)"
      ],
      "metadata": {
        "colab": {
          "base_uri": "https://localhost:8080/"
        },
        "id": "WrQchHOD1KEH",
        "outputId": "b0795099-3997-46c3-ef6b-82ab886af9ec"
      },
      "execution_count": 16,
      "outputs": [
        {
          "output_type": "stream",
          "name": "stderr",
          "text": [
            "/usr/local/lib/python3.7/dist-packages/ipykernel_launcher.py:2: SettingWithCopyWarning: \n",
            "A value is trying to be set on a copy of a slice from a DataFrame.\n",
            "Try using .loc[row_indexer,col_indexer] = value instead\n",
            "\n",
            "See the caveats in the documentation: https://pandas.pydata.org/pandas-docs/stable/user_guide/indexing.html#returning-a-view-versus-a-copy\n",
            "  \n"
          ]
        }
      ]
    },
    {
      "cell_type": "code",
      "source": [
        "dfT15.plot()"
      ],
      "metadata": {
        "colab": {
          "base_uri": "https://localhost:8080/",
          "height": 296
        },
        "id": "u6mzKM4k1WqC",
        "outputId": "80994c79-1cf7-4cfa-f1b6-6b6dc9d82c3f"
      },
      "execution_count": 17,
      "outputs": [
        {
          "output_type": "execute_result",
          "data": {
            "text/plain": [
              "<matplotlib.axes._subplots.AxesSubplot at 0x7f38bf229710>"
            ]
          },
          "metadata": {},
          "execution_count": 17
        },
        {
          "output_type": "display_data",
          "data": {
            "text/plain": [
              "<Figure size 432x288 with 1 Axes>"
            ],
            "image/png": "[encoded data removed]"
          },
          "metadata": {
            "needs_background": "light"
          }
        }
      ]
    },
    {
      "cell_type": "code",
      "source": [
        "df_2016 = df_result_class[df_result_class['TRANS DATE'].isin(pd.date_range('2016-01-01','2016-12-31'))]\n",
        "df_2016['MONTH'] = df_2016['TRANS DATE'].apply(lambda x: x.month)\n",
        "#df_2016['Directorate'].replace({'Adults':'Adults & Communities','Adults & Comms':'Adults & Communities','CYP&F  ':'CYP&F','CYO&F':'CYP&F','CYP&F ':'CYP&F','CYP&F SCHOOLS':'CYP&F', 'CYP&F Schools':'CYP&F', 'Local Services':'Local services', 'DEVELOPMENT':'Development','Adult & Communities':'Adults & Communities'}, inplace=True)\n",
        "\n",
        "\n",
        "df16 = df_2016.groupby(['TRANS CAC DESC 1','MONTH'],as_index=False).sum()\n",
        "\n",
        "dfT16 = pd.DataFrame()\n",
        "\n",
        "for columna in df16['TRANS CAC DESC 1'].unique():\n",
        "  d16 = df16[df16['TRANS CAC DESC 1']==columna].set_index('MONTH')\n",
        "  d16.rename(columns={'ORIGINAL GROSS AMT':columna},inplace=True)\n",
        "  dfT16 = pd.concat([dfT16,d16],axis=1)\n",
        "\n",
        "dfT16.drop('TRANS CAC DESC 1',axis=1,inplace=True)"
      ],
      "metadata": {
        "colab": {
          "base_uri": "https://localhost:8080/"
        },
        "id": "tFYHVTHi1eKU",
        "outputId": "1ef76bbd-0531-4b37-cd25-c1d6ea09929e"
      },
      "execution_count": 18,
      "outputs": [
        {
          "output_type": "stream",
          "name": "stderr",
          "text": [
            "/usr/local/lib/python3.7/dist-packages/ipykernel_launcher.py:2: SettingWithCopyWarning: \n",
            "A value is trying to be set on a copy of a slice from a DataFrame.\n",
            "Try using .loc[row_indexer,col_indexer] = value instead\n",
            "\n",
            "See the caveats in the documentation: https://pandas.pydata.org/pandas-docs/stable/user_guide/indexing.html#returning-a-view-versus-a-copy\n",
            "  \n"
          ]
        }
      ]
    },
    {
      "cell_type": "code",
      "source": [
        "dfT16.plot()"
      ],
      "metadata": {
        "colab": {
          "base_uri": "https://localhost:8080/",
          "height": 296
        },
        "id": "9DQNSFEK1nXA",
        "outputId": "700f958a-cb74-446c-d597-240be781cb5b"
      },
      "execution_count": 19,
      "outputs": [
        {
          "output_type": "execute_result",
          "data": {
            "text/plain": [
              "<matplotlib.axes._subplots.AxesSubplot at 0x7f38bec5ebd0>"
            ]
          },
          "metadata": {},
          "execution_count": 19
        },
        {
          "output_type": "display_data",
          "data": {
            "text/plain": [
              "<Figure size 432x288 with 1 Axes>"
            ],
            "image/png": "[encoded data removed]"
          },
          "metadata": {
            "needs_background": "light"
          }
        }
      ]
    },
    {
      "cell_type": "markdown",
      "source": [
        "Se puede observar que *Equip Operational* rebasa por mucho a cualquiera de los otros rubros, lo que no nos permite distinguir el comportamiento de los otros casos. "
      ],
      "metadata": {
        "id": "R68m6aDZvj_A"
      }
    },
    {
      "cell_type": "code",
      "source": [
        "df_result_class = df_result_class[df_result_class['TRANS CAC DESC 1']!='Equip Operational']"
      ],
      "metadata": {
        "id": "YAfNHkF-15K7"
      },
      "execution_count": 20,
      "outputs": []
    },
    {
      "cell_type": "code",
      "source": [
        "df_month = df_result_class[df_result_class['TRANS DATE'].isin(pd.date_range('2014-01-01','2014-12-31'))]\n",
        "\n",
        "df1 = df_month.groupby(['TRANS CAC DESC 1','MONTH'],as_index=False).sum()\n",
        "\n",
        "dfT14 = pd.DataFrame()\n",
        "\n",
        "for columna in df1['TRANS CAC DESC 1'].unique():\n",
        "  df2 = df1[df1['TRANS CAC DESC 1']==columna].set_index('MONTH')\n",
        "  df2.rename(columns={'ORIGINAL GROSS AMT':columna},inplace=True)\n",
        "  dfT14 = pd.concat([dfT14,df2],axis=1)\n",
        "dfT14.drop('TRANS CAC DESC 1',axis=1,inplace=True)\n",
        "dfT14.plot()"
      ],
      "metadata": {
        "colab": {
          "base_uri": "https://localhost:8080/",
          "height": 296
        },
        "id": "f5o6F2uA2H7f",
        "outputId": "a7faa917-3ee8-4c0c-d0fb-e5173d06e7d9"
      },
      "execution_count": 21,
      "outputs": [
        {
          "output_type": "execute_result",
          "data": {
            "text/plain": [
              "<matplotlib.axes._subplots.AxesSubplot at 0x7f38bec62290>"
            ]
          },
          "metadata": {},
          "execution_count": 21
        },
        {
          "output_type": "display_data",
          "data": {
            "text/plain": [
              "<Figure size 432x288 with 1 Axes>"
            ],
            "image/png": "[encoded data removed]"
          },
          "metadata": {
            "needs_background": "light"
          }
        }
      ]
    },
    {
      "cell_type": "code",
      "source": [
        "df_2015 = df_result_class[df_result_class['TRANS DATE'].isin(pd.date_range('2015-01-01','2015-12-31'))]\n",
        "df_2015['MONTH'] = df_2015['TRANS DATE'].apply(lambda x: x.month)\n",
        "\n",
        "df15 = df_2015.groupby(['TRANS CAC DESC 1','MONTH'],as_index=False).sum()\n",
        "\n",
        "dfT15 = pd.DataFrame()\n",
        "\n",
        "for columna in df15['TRANS CAC DESC 1'].unique():\n",
        "  d15 = df15[df15['TRANS CAC DESC 1']==columna].set_index('MONTH')\n",
        "  d15.rename(columns={'ORIGINAL GROSS AMT':columna},inplace=True)\n",
        "  dfT15 = pd.concat([dfT15,d15],axis=1)\n",
        "\n",
        "dfT15.drop('TRANS CAC DESC 1',axis=1,inplace=True)\n",
        "dfT15.plot()"
      ],
      "metadata": {
        "colab": {
          "base_uri": "https://localhost:8080/",
          "height": 401
        },
        "id": "xn97Woiu2Y5J",
        "outputId": "d5644dca-55dd-443a-ff2a-1998e9177deb"
      },
      "execution_count": 22,
      "outputs": [
        {
          "output_type": "stream",
          "name": "stderr",
          "text": [
            "/usr/local/lib/python3.7/dist-packages/ipykernel_launcher.py:2: SettingWithCopyWarning: \n",
            "A value is trying to be set on a copy of a slice from a DataFrame.\n",
            "Try using .loc[row_indexer,col_indexer] = value instead\n",
            "\n",
            "See the caveats in the documentation: https://pandas.pydata.org/pandas-docs/stable/user_guide/indexing.html#returning-a-view-versus-a-copy\n",
            "  \n"
          ]
        },
        {
          "output_type": "execute_result",
          "data": {
            "text/plain": [
              "<matplotlib.axes._subplots.AxesSubplot at 0x7f38bf1d5dd0>"
            ]
          },
          "metadata": {},
          "execution_count": 22
        },
        {
          "output_type": "display_data",
          "data": {
            "text/plain": [
              "<Figure size 432x288 with 1 Axes>"
            ],
            "image/png": "[encoded data removed]"
          },
          "metadata": {
            "needs_background": "light"
          }
        }
      ]
    },
    {
      "cell_type": "code",
      "source": [
        "df_2016 = df_result_class[df_result_class['TRANS DATE'].isin(pd.date_range('2016-01-01','2016-12-31'))]\n",
        "df_2016['MONTH'] = df_2016['TRANS DATE'].apply(lambda x: x.month)\n",
        "\n",
        "df16 = df_2016.groupby(['TRANS CAC DESC 1','MONTH'],as_index=False).sum()\n",
        "\n",
        "dfT16 = pd.DataFrame()\n",
        "\n",
        "for columna in df16['TRANS CAC DESC 1'].unique():\n",
        "  d16 = df16[df16['TRANS CAC DESC 1']==columna].set_index('MONTH')\n",
        "  d16.rename(columns={'ORIGINAL GROSS AMT':columna},inplace=True)\n",
        "  dfT16 = pd.concat([dfT16,d16],axis=1)\n",
        "\n",
        "dfT16.drop('TRANS CAC DESC 1',axis=1,inplace=True)\n",
        "dfT16.plot()"
      ],
      "metadata": {
        "colab": {
          "base_uri": "https://localhost:8080/",
          "height": 401
        },
        "id": "2u0q7R7P2jt_",
        "outputId": "381abd1a-9501-4b94-b3d0-38b8e9b412ca"
      },
      "execution_count": 23,
      "outputs": [
        {
          "output_type": "stream",
          "name": "stderr",
          "text": [
            "/usr/local/lib/python3.7/dist-packages/ipykernel_launcher.py:2: SettingWithCopyWarning: \n",
            "A value is trying to be set on a copy of a slice from a DataFrame.\n",
            "Try using .loc[row_indexer,col_indexer] = value instead\n",
            "\n",
            "See the caveats in the documentation: https://pandas.pydata.org/pandas-docs/stable/user_guide/indexing.html#returning-a-view-versus-a-copy\n",
            "  \n"
          ]
        },
        {
          "output_type": "execute_result",
          "data": {
            "text/plain": [
              "<matplotlib.axes._subplots.AxesSubplot at 0x7f38bead7950>"
            ]
          },
          "metadata": {},
          "execution_count": 23
        },
        {
          "output_type": "display_data",
          "data": {
            "text/plain": [
              "<Figure size 432x288 with 1 Axes>"
            ],
            "image/png": "[encoded data removed]"
          },
          "metadata": {
            "needs_background": "light"
          }
        }
      ]
    },
    {
      "cell_type": "markdown",
      "source": [
        "Se puede ver que en los 3 años, los libros y las compras de comida tienen el mismo comportamiento, aunque los libros siempre se mantienen por debajo, lo cual es comprensible. Pero no deja de llamar la atención esta tendencia a la par de la comida.\n",
        "\n",
        "Por otro lado, se puede observar que el combustible para vehículos no se comporta de una forma \"constante\" como se pensaría de un principio. Incluso tiene comportamiento parecido a los rubros antes mencionado. \n",
        "\n",
        "En el 2016 se observa un pico atípico del rubro *Supplies & Sev Mic*, es un valor negativo en el mes de abril."
      ],
      "metadata": {
        "id": "RD4LySdI2zlI"
      }
    },
    {
      "cell_type": "markdown",
      "source": [
        "## 5. Detección de Anomalías"
      ],
      "metadata": {
        "id": "VNZiBBys4nYS"
      }
    },
    {
      "cell_type": "markdown",
      "source": [
        "Para la detección de anomalías sólo se considerarán dos columnas, el monto y la fecha, sin agrupaciones, pero se agregarán dos columnas que nos ayudarán a observar el intervalo de confianza y con ello, se podrán observar los valores atípicos de la serie temporal"
      ],
      "metadata": {
        "id": "-pikcaBP4rXq"
      }
    },
    {
      "cell_type": "code",
      "source": [
        "anomalias = df_result[['TRANS DATE', 'ORIGINAL GROSS AMT']].sort_values(by='TRANS DATE')\n",
        "anomalias = anomalias[anomalias['ORIGINAL GROSS AMT'].notna()]\n",
        "anomalias = anomalias.groupby(['TRANS DATE']).sum()\n",
        "anomalias\n"
      ],
      "metadata": {
        "colab": {
          "base_uri": "https://localhost:8080/",
          "height": 455
        },
        "id": "AX_EabB65RrV",
        "outputId": "91e7315b-cdf2-47a6-fa4e-86198c403fbb"
      },
      "execution_count": 82,
      "outputs": [
        {
          "output_type": "execute_result",
          "data": {
            "text/plain": [
              "            ORIGINAL GROSS AMT\n",
              "TRANS DATE                    \n",
              "2013-11-12             -594.00\n",
              "2014-03-06               98.33\n",
              "2014-03-27              -10.54\n",
              "2014-04-01               94.93\n",
              "2014-04-02             2150.25\n",
              "...                        ...\n",
              "2017-11-27            47007.59\n",
              "2017-11-28            35231.36\n",
              "2017-11-29            52256.50\n",
              "2017-11-30            49216.84\n",
              "2017-12-01               86.33\n",
              "\n",
              "[1293 rows x 1 columns]"
            ],
            "text/html": [
              "\n",
              "  <div id=\"df-cd6ba188-87bb-49cb-abc5-c360c2e9dda2\">\n",
              "    <div class=\"colab-df-container\">\n",
              "      <div>\n",
              "<style scoped>\n",
              "    .dataframe tbody tr th:only-of-type {\n",
              "        vertical-align: middle;\n",
              "    }\n",
              "\n",
              "    .dataframe tbody tr th {\n",
              "        vertical-align: top;\n",
              "    }\n",
              "\n",
              "    .dataframe thead th {\n",
              "        text-align: right;\n",
              "    }\n",
              "</style>\n",
              "<table border=\"1\" class=\"dataframe\">\n",
              "  <thead>\n",
              "    <tr style=\"text-align: right;\">\n",
              "      <th></th>\n",
              "      <th>ORIGINAL GROSS AMT</th>\n",
              "    </tr>\n",
              "    <tr>\n",
              "      <th>TRANS DATE</th>\n",
              "      <th></th>\n",
              "    </tr>\n",
              "  </thead>\n",
              "  <tbody>\n",
              "    <tr>\n",
              "      <th>2013-11-12</th>\n",
              "      <td>-594.00</td>\n",
              "    </tr>\n",
              "    <tr>\n",
              "      <th>2014-03-06</th>\n",
              "      <td>98.33</td>\n",
              "    </tr>\n",
              "    <tr>\n",
              "      <th>2014-03-27</th>\n",
              "      <td>-10.54</td>\n",
              "    </tr>\n",
              "    <tr>\n",
              "      <th>2014-04-01</th>\n",
              "      <td>94.93</td>\n",
              "    </tr>\n",
              "    <tr>\n",
              "      <th>2014-04-02</th>\n",
              "      <td>2150.25</td>\n",
              "    </tr>\n",
              "    <tr>\n",
              "      <th>...</th>\n",
              "      <td>...</td>\n",
              "    </tr>\n",
              "    <tr>\n",
              "      <th>2017-11-27</th>\n",
              "      <td>47007.59</td>\n",
              "    </tr>\n",
              "    <tr>\n",
              "      <th>2017-11-28</th>\n",
              "      <td>35231.36</td>\n",
              "    </tr>\n",
              "    <tr>\n",
              "      <th>2017-11-29</th>\n",
              "      <td>52256.50</td>\n",
              "    </tr>\n",
              "    <tr>\n",
              "      <th>2017-11-30</th>\n",
              "      <td>49216.84</td>\n",
              "    </tr>\n",
              "    <tr>\n",
              "      <th>2017-12-01</th>\n",
              "      <td>86.33</td>\n",
              "    </tr>\n",
              "  </tbody>\n",
              "</table>\n",
              "<p>1293 rows × 1 columns</p>\n",
              "</div>\n",
              "      <button class=\"colab-df-convert\" onclick=\"convertToInteractive('df-cd6ba188-87bb-49cb-abc5-c360c2e9dda2')\"\n",
              "              title=\"Convert this dataframe to an interactive table.\"\n",
              "              style=\"display:none;\">\n",
              "        \n",
              "  <svg xmlns=\"http://www.w3.org/2000/svg\" height=\"24px\"viewBox=\"0 0 24 24\"\n",
              "       width=\"24px\">\n",
              "    <path d=\"M0 0h24v24H0V0z\" fill=\"none\"/>\n",
              "    <path d=\"M18.56 5.44l.94 2.06.94-2.06 2.06-.94-2.06-.94-.94-2.06-.94 2.06-2.06.94zm-11 1L8.5 8.5l.94-2.06 2.06-.94-2.06-.94L8.5 2.5l-.94 2.06-2.06.94zm10 10l.94 2.06.94-2.06 2.06-.94-2.06-.94-.94-2.06-.94 2.06-2.06.94z\"/><path d=\"M17.41 7.96l-1.37-1.37c-.4-.4-.92-.59-1.43-.59-.52 0-1.04.2-1.43.59L10.3 9.45l-7.72 7.72c-.78.78-.78 2.05 0 2.83L4 21.41c.39.39.9.59 1.41.59.51 0 1.02-.2 1.41-.59l7.78-7.78 2.81-2.81c.8-.78.8-2.07 0-2.86zM5.41 20L4 18.59l7.72-7.72 1.47 1.35L5.41 20z\"/>\n",
              "  </svg>\n",
              "      </button>\n",
              "      \n",
              "  <style>\n",
              "    .colab-df-container {\n",
              "      display:flex;\n",
              "      flex-wrap:wrap;\n",
              "      gap: 12px;\n",
              "    }\n",
              "\n",
              "    .colab-df-convert {\n",
              "      background-color: #E8F0FE;\n",
              "      border: none;\n",
              "      border-radius: 50%;\n",
              "      cursor: pointer;\n",
              "      display: none;\n",
              "      fill: #1967D2;\n",
              "      height: 32px;\n",
              "      padding: 0 0 0 0;\n",
              "      width: 32px;\n",
              "    }\n",
              "\n",
              "    .colab-df-convert:hover {\n",
              "      background-color: #E2EBFA;\n",
              "      box-shadow: 0px 1px 2px rgba(60, 64, 67, 0.3), 0px 1px 3px 1px rgba(60, 64, 67, 0.15);\n",
              "      fill: #174EA6;\n",
              "    }\n",
              "\n",
              "    [theme=dark] .colab-df-convert {\n",
              "      background-color: #3B4455;\n",
              "      fill: #D2E3FC;\n",
              "    }\n",
              "\n",
              "    [theme=dark] .colab-df-convert:hover {\n",
              "      background-color: #434B5C;\n",
              "      box-shadow: 0px 1px 3px 1px rgba(0, 0, 0, 0.15);\n",
              "      filter: drop-shadow(0px 1px 2px rgba(0, 0, 0, 0.3));\n",
              "      fill: #FFFFFF;\n",
              "    }\n",
              "  </style>\n",
              "\n",
              "      <script>\n",
              "        const buttonEl =\n",
              "          document.querySelector('#df-cd6ba188-87bb-49cb-abc5-c360c2e9dda2 button.colab-df-convert');\n",
              "        buttonEl.style.display =\n",
              "          google.colab.kernel.accessAllowed ? 'block' : 'none';\n",
              "\n",
              "        async function convertToInteractive(key) {\n",
              "          const element = document.querySelector('#df-cd6ba188-87bb-49cb-abc5-c360c2e9dda2');\n",
              "          const dataTable =\n",
              "            await google.colab.kernel.invokeFunction('convertToInteractive',\n",
              "                                                     [key], {});\n",
              "          if (!dataTable) return;\n",
              "\n",
              "          const docLinkHtml = 'Like what you see? Visit the ' +\n",
              "            '<a target=\"_blank\" href=https://colab.research.google.com/notebooks/data_table.ipynb>data table notebook</a>'\n",
              "            + ' to learn more about interactive tables.';\n",
              "          element.innerHTML = '';\n",
              "          dataTable['output_type'] = 'display_data';\n",
              "          await google.colab.output.renderOutput(dataTable, element);\n",
              "          const docLink = document.createElement('div');\n",
              "          docLink.innerHTML = docLinkHtml;\n",
              "          element.appendChild(docLink);\n",
              "        }\n",
              "      </script>\n",
              "    </div>\n",
              "  </div>\n",
              "  "
            ]
          },
          "metadata": {},
          "execution_count": 82
        }
      ]
    },
    {
      "cell_type": "code",
      "source": [
        "anomalias.plot()"
      ],
      "metadata": {
        "colab": {
          "base_uri": "https://localhost:8080/",
          "height": 295
        },
        "id": "ifPsMLbeDX7w",
        "outputId": "97dfb00d-959b-4e50-e3cf-3e0c99c58eac"
      },
      "execution_count": 57,
      "outputs": [
        {
          "output_type": "execute_result",
          "data": {
            "text/plain": [
              "<matplotlib.axes._subplots.AxesSubplot at 0x7f38afb90fd0>"
            ]
          },
          "metadata": {},
          "execution_count": 57
        },
        {
          "output_type": "display_data",
          "data": {
            "text/plain": [
              "<Figure size 432x288 with 1 Axes>"
            ],
            "image/png": "[encoded data removed]"
          },
          "metadata": {
            "needs_background": "light"
          }
        }
      ]
    },
    {
      "cell_type": "code",
      "source": [
        "anomalias['VALOR_U'] =  anomalias['ORIGINAL GROSS AMT'].rolling(window=15).mean() + (2*anomalias['ORIGINAL GROSS AMT'].rolling(window=15).std())\n",
        "anomalias['VALOR_D'] = anomalias['ORIGINAL GROSS AMT'].rolling(window=15).mean() - (2*anomalias['ORIGINAL GROSS AMT'].rolling(window=15).std())\n",
        "anomalias.plot()"
      ],
      "metadata": {
        "colab": {
          "base_uri": "https://localhost:8080/",
          "height": 295
        },
        "id": "o2KKIwRT5uS8",
        "outputId": "6195394a-808f-4243-a263-6a1e32385916"
      },
      "execution_count": 83,
      "outputs": [
        {
          "output_type": "execute_result",
          "data": {
            "text/plain": [
              "<matplotlib.axes._subplots.AxesSubplot at 0x7f38af766510>"
            ]
          },
          "metadata": {},
          "execution_count": 83
        },
        {
          "output_type": "display_data",
          "data": {
            "text/plain": [
              "<Figure size 432x288 with 1 Axes>"
            ],
            "image/png": "[encoded data removed]"
          },
          "metadata": {
            "needs_background": "light"
          }
        }
      ]
    },
    {
      "cell_type": "code",
      "source": [
        "anomalias = anomalias[15:]\n",
        "anomalias"
      ],
      "metadata": {
        "colab": {
          "base_uri": "https://localhost:8080/",
          "height": 455
        },
        "id": "YHUxvLVMdmVQ",
        "outputId": "04029021-d230-44ed-b841-76db53c8b6e9"
      },
      "execution_count": 84,
      "outputs": [
        {
          "output_type": "execute_result",
          "data": {
            "text/plain": [
              "            ORIGINAL GROSS AMT        VALOR_U       VALOR_D\n",
              "TRANS DATE                                                 \n",
              "2014-04-13              611.57   55301.853689 -25668.415022\n",
              "2014-04-14            12918.75   55358.314040 -24015.486040\n",
              "2014-04-15             9866.66   55221.474693 -22561.686693\n",
              "2014-04-16            15419.52   55206.675243 -20503.608577\n",
              "2014-04-17            22267.18   55654.597506 -18269.273506\n",
              "...                        ...            ...           ...\n",
              "2017-11-27            47007.59  164593.400643 -37519.589976\n",
              "2017-11-28            35231.36  163122.811195 -40839.380528\n",
              "2017-11-29            52256.50  162790.885952 -41368.057952\n",
              "2017-11-30            49216.84  154279.778534 -41450.465201\n",
              "2017-12-01               86.33  116484.837176 -28113.517176\n",
              "\n",
              "[1278 rows x 3 columns]"
            ],
            "text/html": [
              "\n",
              "  <div id=\"df-fb95b1a6-7383-4918-bf26-68055275beba\">\n",
              "    <div class=\"colab-df-container\">\n",
              "      <div>\n",
              "<style scoped>\n",
              "    .dataframe tbody tr th:only-of-type {\n",
              "        vertical-align: middle;\n",
              "    }\n",
              "\n",
              "    .dataframe tbody tr th {\n",
              "        vertical-align: top;\n",
              "    }\n",
              "\n",
              "    .dataframe thead th {\n",
              "        text-align: right;\n",
              "    }\n",
              "</style>\n",
              "<table border=\"1\" class=\"dataframe\">\n",
              "  <thead>\n",
              "    <tr style=\"text-align: right;\">\n",
              "      <th></th>\n",
              "      <th>ORIGINAL GROSS AMT</th>\n",
              "      <th>VALOR_U</th>\n",
              "      <th>VALOR_D</th>\n",
              "    </tr>\n",
              "    <tr>\n",
              "      <th>TRANS DATE</th>\n",
              "      <th></th>\n",
              "      <th></th>\n",
              "      <th></th>\n",
              "    </tr>\n",
              "  </thead>\n",
              "  <tbody>\n",
              "    <tr>\n",
              "      <th>2014-04-13</th>\n",
              "      <td>611.57</td>\n",
              "      <td>55301.853689</td>\n",
              "      <td>-25668.415022</td>\n",
              "    </tr>\n",
              "    <tr>\n",
              "      <th>2014-04-14</th>\n",
              "      <td>12918.75</td>\n",
              "      <td>55358.314040</td>\n",
              "      <td>-24015.486040</td>\n",
              "    </tr>\n",
              "    <tr>\n",
              "      <th>2014-04-15</th>\n",
              "      <td>9866.66</td>\n",
              "      <td>55221.474693</td>\n",
              "      <td>-22561.686693</td>\n",
              "    </tr>\n",
              "    <tr>\n",
              "      <th>2014-04-16</th>\n",
              "      <td>15419.52</td>\n",
              "      <td>55206.675243</td>\n",
              "      <td>-20503.608577</td>\n",
              "    </tr>\n",
              "    <tr>\n",
              "      <th>2014-04-17</th>\n",
              "      <td>22267.18</td>\n",
              "      <td>55654.597506</td>\n",
              "      <td>-18269.273506</td>\n",
              "    </tr>\n",
              "    <tr>\n",
              "      <th>...</th>\n",
              "      <td>...</td>\n",
              "      <td>...</td>\n",
              "      <td>...</td>\n",
              "    </tr>\n",
              "    <tr>\n",
              "      <th>2017-11-27</th>\n",
              "      <td>47007.59</td>\n",
              "      <td>164593.400643</td>\n",
              "      <td>-37519.589976</td>\n",
              "    </tr>\n",
              "    <tr>\n",
              "      <th>2017-11-28</th>\n",
              "      <td>35231.36</td>\n",
              "      <td>163122.811195</td>\n",
              "      <td>-40839.380528</td>\n",
              "    </tr>\n",
              "    <tr>\n",
              "      <th>2017-11-29</th>\n",
              "      <td>52256.50</td>\n",
              "      <td>162790.885952</td>\n",
              "      <td>-41368.057952</td>\n",
              "    </tr>\n",
              "    <tr>\n",
              "      <th>2017-11-30</th>\n",
              "      <td>49216.84</td>\n",
              "      <td>154279.778534</td>\n",
              "      <td>-41450.465201</td>\n",
              "    </tr>\n",
              "    <tr>\n",
              "      <th>2017-12-01</th>\n",
              "      <td>86.33</td>\n",
              "      <td>116484.837176</td>\n",
              "      <td>-28113.517176</td>\n",
              "    </tr>\n",
              "  </tbody>\n",
              "</table>\n",
              "<p>1278 rows × 3 columns</p>\n",
              "</div>\n",
              "      <button class=\"colab-df-convert\" onclick=\"convertToInteractive('df-fb95b1a6-7383-4918-bf26-68055275beba')\"\n",
              "              title=\"Convert this dataframe to an interactive table.\"\n",
              "              style=\"display:none;\">\n",
              "        \n",
              "  <svg xmlns=\"http://www.w3.org/2000/svg\" height=\"24px\"viewBox=\"0 0 24 24\"\n",
              "       width=\"24px\">\n",
              "    <path d=\"M0 0h24v24H0V0z\" fill=\"none\"/>\n",
              "    <path d=\"M18.56 5.44l.94 2.06.94-2.06 2.06-.94-2.06-.94-.94-2.06-.94 2.06-2.06.94zm-11 1L8.5 8.5l.94-2.06 2.06-.94-2.06-.94L8.5 2.5l-.94 2.06-2.06.94zm10 10l.94 2.06.94-2.06 2.06-.94-2.06-.94-.94-2.06-.94 2.06-2.06.94z\"/><path d=\"M17.41 7.96l-1.37-1.37c-.4-.4-.92-.59-1.43-.59-.52 0-1.04.2-1.43.59L10.3 9.45l-7.72 7.72c-.78.78-.78 2.05 0 2.83L4 21.41c.39.39.9.59 1.41.59.51 0 1.02-.2 1.41-.59l7.78-7.78 2.81-2.81c.8-.78.8-2.07 0-2.86zM5.41 20L4 18.59l7.72-7.72 1.47 1.35L5.41 20z\"/>\n",
              "  </svg>\n",
              "      </button>\n",
              "      \n",
              "  <style>\n",
              "    .colab-df-container {\n",
              "      display:flex;\n",
              "      flex-wrap:wrap;\n",
              "      gap: 12px;\n",
              "    }\n",
              "\n",
              "    .colab-df-convert {\n",
              "      background-color: #E8F0FE;\n",
              "      border: none;\n",
              "      border-radius: 50%;\n",
              "      cursor: pointer;\n",
              "      display: none;\n",
              "      fill: #1967D2;\n",
              "      height: 32px;\n",
              "      padding: 0 0 0 0;\n",
              "      width: 32px;\n",
              "    }\n",
              "\n",
              "    .colab-df-convert:hover {\n",
              "      background-color: #E2EBFA;\n",
              "      box-shadow: 0px 1px 2px rgba(60, 64, 67, 0.3), 0px 1px 3px 1px rgba(60, 64, 67, 0.15);\n",
              "      fill: #174EA6;\n",
              "    }\n",
              "\n",
              "    [theme=dark] .colab-df-convert {\n",
              "      background-color: #3B4455;\n",
              "      fill: #D2E3FC;\n",
              "    }\n",
              "\n",
              "    [theme=dark] .colab-df-convert:hover {\n",
              "      background-color: #434B5C;\n",
              "      box-shadow: 0px 1px 3px 1px rgba(0, 0, 0, 0.15);\n",
              "      filter: drop-shadow(0px 1px 2px rgba(0, 0, 0, 0.3));\n",
              "      fill: #FFFFFF;\n",
              "    }\n",
              "  </style>\n",
              "\n",
              "      <script>\n",
              "        const buttonEl =\n",
              "          document.querySelector('#df-fb95b1a6-7383-4918-bf26-68055275beba button.colab-df-convert');\n",
              "        buttonEl.style.display =\n",
              "          google.colab.kernel.accessAllowed ? 'block' : 'none';\n",
              "\n",
              "        async function convertToInteractive(key) {\n",
              "          const element = document.querySelector('#df-fb95b1a6-7383-4918-bf26-68055275beba');\n",
              "          const dataTable =\n",
              "            await google.colab.kernel.invokeFunction('convertToInteractive',\n",
              "                                                     [key], {});\n",
              "          if (!dataTable) return;\n",
              "\n",
              "          const docLinkHtml = 'Like what you see? Visit the ' +\n",
              "            '<a target=\"_blank\" href=https://colab.research.google.com/notebooks/data_table.ipynb>data table notebook</a>'\n",
              "            + ' to learn more about interactive tables.';\n",
              "          element.innerHTML = '';\n",
              "          dataTable['output_type'] = 'display_data';\n",
              "          await google.colab.output.renderOutput(dataTable, element);\n",
              "          const docLink = document.createElement('div');\n",
              "          docLink.innerHTML = docLinkHtml;\n",
              "          element.appendChild(docLink);\n",
              "        }\n",
              "      </script>\n",
              "    </div>\n",
              "  </div>\n",
              "  "
            ]
          },
          "metadata": {},
          "execution_count": 84
        }
      ]
    },
    {
      "cell_type": "code",
      "source": [
        "deteccion_anomalia = anomalias[(anomalias['ORIGINAL GROSS AMT']>anomalias['VALOR_U']) | (anomalias['ORIGINAL GROSS AMT'] < anomalias['VALOR_D'])]\n",
        "deteccion_anomalia['ANOMALIA'] = 1\n",
        "deteccion_anomalia"
      ],
      "metadata": {
        "colab": {
          "base_uri": "https://localhost:8080/",
          "height": 559
        },
        "id": "QrXZTJ34iaun",
        "outputId": "bc3eca97-3bc8-4790-d2c9-df6c4392f676"
      },
      "execution_count": 90,
      "outputs": [
        {
          "output_type": "stream",
          "name": "stderr",
          "text": [
            "/usr/local/lib/python3.7/dist-packages/ipykernel_launcher.py:2: SettingWithCopyWarning: \n",
            "A value is trying to be set on a copy of a slice from a DataFrame.\n",
            "Try using .loc[row_indexer,col_indexer] = value instead\n",
            "\n",
            "See the caveats in the documentation: https://pandas.pydata.org/pandas-docs/stable/user_guide/indexing.html#returning-a-view-versus-a-copy\n",
            "  \n"
          ]
        },
        {
          "output_type": "execute_result",
          "data": {
            "text/plain": [
              "            ORIGINAL GROSS AMT        VALOR_U       VALOR_D  ANOMALIA\n",
              "TRANS DATE                                                           \n",
              "2014-04-28            67779.06   45063.062438 -22519.979771         1\n",
              "2014-04-29            59447.13   56361.126028 -27614.259361         1\n",
              "2014-06-06           105051.80   91071.293294 -36988.487960         1\n",
              "2014-06-11           253836.14  168343.750752 -97852.525418         1\n",
              "2014-07-14            72551.06   57876.251353 -14846.092687         1\n",
              "...                        ...            ...           ...       ...\n",
              "2017-07-27           117612.30   99302.381277 -23748.330611         1\n",
              "2017-09-07           224616.28  157829.729971 -65806.477971         1\n",
              "2017-10-09           127876.54  110428.085314 -27916.402647         1\n",
              "2017-11-15           113668.20  113367.092915 -25881.152915         1\n",
              "2017-11-16           183521.28  153243.913255 -47441.910589         1\n",
              "\n",
              "[69 rows x 4 columns]"
            ],
            "text/html": [
              "\n",
              "  <div id=\"df-c1ed565a-6bad-4889-b26d-e83b5da18e4d\">\n",
              "    <div class=\"colab-df-container\">\n",
              "      <div>\n",
              "<style scoped>\n",
              "    .dataframe tbody tr th:only-of-type {\n",
              "        vertical-align: middle;\n",
              "    }\n",
              "\n",
              "    .dataframe tbody tr th {\n",
              "        vertical-align: top;\n",
              "    }\n",
              "\n",
              "    .dataframe thead th {\n",
              "        text-align: right;\n",
              "    }\n",
              "</style>\n",
              "<table border=\"1\" class=\"dataframe\">\n",
              "  <thead>\n",
              "    <tr style=\"text-align: right;\">\n",
              "      <th></th>\n",
              "      <th>ORIGINAL GROSS AMT</th>\n",
              "      <th>VALOR_U</th>\n",
              "      <th>VALOR_D</th>\n",
              "      <th>ANOMALIA</th>\n",
              "    </tr>\n",
              "    <tr>\n",
              "      <th>TRANS DATE</th>\n",
              "      <th></th>\n",
              "      <th></th>\n",
              "      <th></th>\n",
              "      <th></th>\n",
              "    </tr>\n",
              "  </thead>\n",
              "  <tbody>\n",
              "    <tr>\n",
              "      <th>2014-04-28</th>\n",
              "      <td>67779.06</td>\n",
              "      <td>45063.062438</td>\n",
              "      <td>-22519.979771</td>\n",
              "      <td>1</td>\n",
              "    </tr>\n",
              "    <tr>\n",
              "      <th>2014-04-29</th>\n",
              "      <td>59447.13</td>\n",
              "      <td>56361.126028</td>\n",
              "      <td>-27614.259361</td>\n",
              "      <td>1</td>\n",
              "    </tr>\n",
              "    <tr>\n",
              "      <th>2014-06-06</th>\n",
              "      <td>105051.80</td>\n",
              "      <td>91071.293294</td>\n",
              "      <td>-36988.487960</td>\n",
              "      <td>1</td>\n",
              "    </tr>\n",
              "    <tr>\n",
              "      <th>2014-06-11</th>\n",
              "      <td>253836.14</td>\n",
              "      <td>168343.750752</td>\n",
              "      <td>-97852.525418</td>\n",
              "      <td>1</td>\n",
              "    </tr>\n",
              "    <tr>\n",
              "      <th>2014-07-14</th>\n",
              "      <td>72551.06</td>\n",
              "      <td>57876.251353</td>\n",
              "      <td>-14846.092687</td>\n",
              "      <td>1</td>\n",
              "    </tr>\n",
              "    <tr>\n",
              "      <th>...</th>\n",
              "      <td>...</td>\n",
              "      <td>...</td>\n",
              "      <td>...</td>\n",
              "      <td>...</td>\n",
              "    </tr>\n",
              "    <tr>\n",
              "      <th>2017-07-27</th>\n",
              "      <td>117612.30</td>\n",
              "      <td>99302.381277</td>\n",
              "      <td>-23748.330611</td>\n",
              "      <td>1</td>\n",
              "    </tr>\n",
              "    <tr>\n",
              "      <th>2017-09-07</th>\n",
              "      <td>224616.28</td>\n",
              "      <td>157829.729971</td>\n",
              "      <td>-65806.477971</td>\n",
              "      <td>1</td>\n",
              "    </tr>\n",
              "    <tr>\n",
              "      <th>2017-10-09</th>\n",
              "      <td>127876.54</td>\n",
              "      <td>110428.085314</td>\n",
              "      <td>-27916.402647</td>\n",
              "      <td>1</td>\n",
              "    </tr>\n",
              "    <tr>\n",
              "      <th>2017-11-15</th>\n",
              "      <td>113668.20</td>\n",
              "      <td>113367.092915</td>\n",
              "      <td>-25881.152915</td>\n",
              "      <td>1</td>\n",
              "    </tr>\n",
              "    <tr>\n",
              "      <th>2017-11-16</th>\n",
              "      <td>183521.28</td>\n",
              "      <td>153243.913255</td>\n",
              "      <td>-47441.910589</td>\n",
              "      <td>1</td>\n",
              "    </tr>\n",
              "  </tbody>\n",
              "</table>\n",
              "<p>69 rows × 4 columns</p>\n",
              "</div>\n",
              "      <button class=\"colab-df-convert\" onclick=\"convertToInteractive('df-c1ed565a-6bad-4889-b26d-e83b5da18e4d')\"\n",
              "              title=\"Convert this dataframe to an interactive table.\"\n",
              "              style=\"display:none;\">\n",
              "        \n",
              "  <svg xmlns=\"http://www.w3.org/2000/svg\" height=\"24px\"viewBox=\"0 0 24 24\"\n",
              "       width=\"24px\">\n",
              "    <path d=\"M0 0h24v24H0V0z\" fill=\"none\"/>\n",
              "    <path d=\"M18.56 5.44l.94 2.06.94-2.06 2.06-.94-2.06-.94-.94-2.06-.94 2.06-2.06.94zm-11 1L8.5 8.5l.94-2.06 2.06-.94-2.06-.94L8.5 2.5l-.94 2.06-2.06.94zm10 10l.94 2.06.94-2.06 2.06-.94-2.06-.94-.94-2.06-.94 2.06-2.06.94z\"/><path d=\"M17.41 7.96l-1.37-1.37c-.4-.4-.92-.59-1.43-.59-.52 0-1.04.2-1.43.59L10.3 9.45l-7.72 7.72c-.78.78-.78 2.05 0 2.83L4 21.41c.39.39.9.59 1.41.59.51 0 1.02-.2 1.41-.59l7.78-7.78 2.81-2.81c.8-.78.8-2.07 0-2.86zM5.41 20L4 18.59l7.72-7.72 1.47 1.35L5.41 20z\"/>\n",
              "  </svg>\n",
              "      </button>\n",
              "      \n",
              "  <style>\n",
              "    .colab-df-container {\n",
              "      display:flex;\n",
              "      flex-wrap:wrap;\n",
              "      gap: 12px;\n",
              "    }\n",
              "\n",
              "    .colab-df-convert {\n",
              "      background-color: #E8F0FE;\n",
              "      border: none;\n",
              "      border-radius: 50%;\n",
              "      cursor: pointer;\n",
              "      display: none;\n",
              "      fill: #1967D2;\n",
              "      height: 32px;\n",
              "      padding: 0 0 0 0;\n",
              "      width: 32px;\n",
              "    }\n",
              "\n",
              "    .colab-df-convert:hover {\n",
              "      background-color: #E2EBFA;\n",
              "      box-shadow: 0px 1px 2px rgba(60, 64, 67, 0.3), 0px 1px 3px 1px rgba(60, 64, 67, 0.15);\n",
              "      fill: #174EA6;\n",
              "    }\n",
              "\n",
              "    [theme=dark] .colab-df-convert {\n",
              "      background-color: #3B4455;\n",
              "      fill: #D2E3FC;\n",
              "    }\n",
              "\n",
              "    [theme=dark] .colab-df-convert:hover {\n",
              "      background-color: #434B5C;\n",
              "      box-shadow: 0px 1px 3px 1px rgba(0, 0, 0, 0.15);\n",
              "      filter: drop-shadow(0px 1px 2px rgba(0, 0, 0, 0.3));\n",
              "      fill: #FFFFFF;\n",
              "    }\n",
              "  </style>\n",
              "\n",
              "      <script>\n",
              "        const buttonEl =\n",
              "          document.querySelector('#df-c1ed565a-6bad-4889-b26d-e83b5da18e4d button.colab-df-convert');\n",
              "        buttonEl.style.display =\n",
              "          google.colab.kernel.accessAllowed ? 'block' : 'none';\n",
              "\n",
              "        async function convertToInteractive(key) {\n",
              "          const element = document.querySelector('#df-c1ed565a-6bad-4889-b26d-e83b5da18e4d');\n",
              "          const dataTable =\n",
              "            await google.colab.kernel.invokeFunction('convertToInteractive',\n",
              "                                                     [key], {});\n",
              "          if (!dataTable) return;\n",
              "\n",
              "          const docLinkHtml = 'Like what you see? Visit the ' +\n",
              "            '<a target=\"_blank\" href=https://colab.research.google.com/notebooks/data_table.ipynb>data table notebook</a>'\n",
              "            + ' to learn more about interactive tables.';\n",
              "          element.innerHTML = '';\n",
              "          dataTable['output_type'] = 'display_data';\n",
              "          await google.colab.output.renderOutput(dataTable, element);\n",
              "          const docLink = document.createElement('div');\n",
              "          docLink.innerHTML = docLinkHtml;\n",
              "          element.appendChild(docLink);\n",
              "        }\n",
              "      </script>\n",
              "    </div>\n",
              "  </div>\n",
              "  "
            ]
          },
          "metadata": {},
          "execution_count": 90
        }
      ]
    },
    {
      "cell_type": "code",
      "source": [
        "deteccion_anomalia.plot()"
      ],
      "metadata": {
        "colab": {
          "base_uri": "https://localhost:8080/",
          "height": 295
        },
        "id": "f4FmMORemC3t",
        "outputId": "2633be09-d79c-41b7-a732-274439050b3b"
      },
      "execution_count": 91,
      "outputs": [
        {
          "output_type": "execute_result",
          "data": {
            "text/plain": [
              "<matplotlib.axes._subplots.AxesSubplot at 0x7f38af6eba10>"
            ]
          },
          "metadata": {},
          "execution_count": 91
        },
        {
          "output_type": "display_data",
          "data": {
            "text/plain": [
              "<Figure size 432x288 with 1 Axes>"
            ],
            "image/png": "[encoded data removed]"
          },
          "metadata": {
            "needs_background": "light"
          }
        }
      ]
    },
    {
      "cell_type": "markdown",
      "source": [
        "En el último dataset llamado \"deteccion_anomalia\" se observan todos los puntos que no están dentro del intervalo de confianza que se construyó con la media +- 2 * desviación estándar.\n",
        "\n",
        "Se puede decir que estos puntos son anómalos, ya que no se comportan como la mayoría de ellos, lo que hace que se voltee hacia esas fechas y ver lo que está pasando. Puede ser una compra extraordinaria, como vimos en la sección de arriba, el rubro que más mueve en cantidad es el Equipo Operacional. \n",
        "\n",
        "Queda pendiente revisar si hay alguna relación con el rubro ó fiestas locales donde aumente el consumo de ciertos rubros. \n",
        "\n"
      ],
      "metadata": {
        "id": "5V5LOZqokqsF"
      }
    }
  ],
  "metadata": {
    "kernelspec": {
      "display_name": "Python 3.10.6 64-bit",
      "language": "python",
      "name": "python3"
    },
    "language_info": {
      "codemirror_mode": {
        "name": "ipython",
        "version": 3
      },
      "file_extension": ".py",
      "mimetype": "text/x-python",
      "name": "python",
      "nbconvert_exporter": "python",
      "pygments_lexer": "ipython3",
      "version": "3.10.6"
    },
    "orig_nbformat": 4,
    "vscode": {
      "interpreter": {
        "hash": "916dbcbb3f70747c44a77c7bcd40155683ae19c65e1c03b4aa3499c5328201f1"
      }
    },
    "colab": {
      "name": "pruebas2.ipynb",
      "provenance": [],
      "collapsed_sections": [],
      "include_colab_link": true
    }
  },
  "nbformat": 4,
  "nbformat_minor": 0
}