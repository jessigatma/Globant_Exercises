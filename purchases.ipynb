{
  "cells": [
    {
      "cell_type": "markdown",
      "metadata": {
        "id": "view-in-github",
        "colab_type": "text"
      },
      "source": [
        "<a href=\"https://colab.research.google.com/github/jessigatma/Globant_Exercises/blob/main/purchases.ipynb\" target=\"_parent\"><img src=\"https://colab.research.google.com/assets/colab-badge.svg\" alt=\"Open In Colab\"/></a>"
      ]
    },
    {
      "cell_type": "markdown",
      "source": [
        "# Purchases"
      ],
      "metadata": {
        "id": "LTEQCXbmdtvX"
      }
    },
    {
      "cell_type": "markdown",
      "source": [
        "## 1. Problema\n",
        "\n",
        "**Objetivo**: Descubrir transacciones inusuales"
      ],
      "metadata": {
        "id": "9_zSrrY2g2KU"
      }
    },
    {
      "cell_type": "markdown",
      "source": [
        "## 2. Obtención de Datos"
      ],
      "metadata": {
        "id": "5sdzdOVye6i1"
      }
    },
    {
      "cell_type": "markdown",
      "source": [
        "En el siguiente link hay una colección de transacciones de compra de tarjeta de crédito del Ayuntamiento de Birminham https://data.birmingham.gov.uk/dataset/purchase-card-transactions\n",
        "\n"
      ],
      "metadata": {
        "id": "sbjXIy_EeO_V"
      }
    },
    {
      "cell_type": "markdown",
      "source": [
        "Los datos se enuentran en formato xls, son un total de 43 archivos del año 2014 al 2017. Estos archivos los juntamos en uno sólo. Se guardará en un csv llamado *total_purchase.csv*"
      ],
      "metadata": {
        "id": "TVrcwsW5exOP"
      }
    },
    {
      "cell_type": "code",
      "execution_count": null,
      "metadata": {
        "id": "7MkJwD50FHnZ"
      },
      "outputs": [],
      "source": [
        "import pandas as pd\n",
        "import os\n",
        "import glob"
      ]
    },
    {
      "cell_type": "code",
      "source": [
        "path_files = './PURCHASES/'\n",
        "xls_files = glob.glob(os.path.join(path_files, \"*.xls\"))\n",
        "column_list = ['TRANS DATE', 'TRANS VAT DESC', 'ORIGINAL GROSS AMT', 'MERCHANT NAME', 'CARD NUMBER',  'TRANS CAC CODE 1', 'TRANS CAC DESC 1', 'TRANS CAC CODE 2', 'TRANS CAC DESC 2','TRANS CAC CODE 3', 'Directorate']\n",
        "dfs =[]\n",
        "\n",
        "for file in xls_files:\n",
        "    df = pd.read_excel(file)\n",
        "    df.rename({'Directorate ':'Directorate', 'Directorates':'Directorate', 'Unnamed: 10':'Directorate'}, axis='columns',inplace=True)\n",
        "    df = df[column_list]\n",
        "    dfs.append(df)\n",
        "\n",
        "result = pd.concat(dfs)\n",
        "result.to_csv('total_purchase.csv',index=False)\n",
        "result.shape\n"
      ],
      "metadata": {
        "id": "pWZdkQoofwfO"
      },
      "execution_count": null,
      "outputs": []
    },
    {
      "cell_type": "markdown",
      "source": [
        "Ya que se tiene el archivo, es momento de entender los datos"
      ],
      "metadata": {
        "id": "NOCqvz7uggjP"
      }
    },
    {
      "cell_type": "code",
      "source": [
        "from google.colab import drive\n",
        "drive.mount('/content/drive')"
      ],
      "metadata": {
        "colab": {
          "base_uri": "https://localhost:8080/"
        },
        "id": "bubAoEl6FZEc",
        "outputId": "274b105c-6c1e-46d9-f5ec-f543cbbfd73e"
      },
      "execution_count": null,
      "outputs": [
        {
          "output_type": "stream",
          "name": "stdout",
          "text": [
            "Drive already mounted at /content/drive; to attempt to forcibly remount, call drive.mount(\"/content/drive\", force_remount=True).\n"
          ]
        }
      ]
    },
    {
      "cell_type": "code",
      "execution_count": null,
      "metadata": {
        "colab": {
          "base_uri": "https://localhost:8080/",
          "height": 206
        },
        "id": "6zUAv_tlFHnb",
        "outputId": "1c491609-ca9a-4f76-d1e4-30b44fe70fcf"
      },
      "outputs": [
        {
          "output_type": "execute_result",
          "data": {
            "text/plain": [
              "   TRANS DATE TRANS VAT DESC  ORIGINAL GROSS AMT      MERCHANT NAME  \\\n",
              "0  2015-05-06             VR               38.28  shell corrida 108   \n",
              "1  2015-05-14             VR               34.23      tex city sstn   \n",
              "2  2015-05-21             VR               42.61      tex city sstn   \n",
              "3  2015-05-29             VR               43.57      tex city sstn   \n",
              "4  2015-05-07             VR               54.17    shell kings 587   \n",
              "\n",
              "        CARD NUMBER TRANS CAC CODE 1 TRANS CAC DESC 1 TRANS CAC CODE 2  \\\n",
              "0  ************0541             K020     Vehicle Fuel            RV12T   \n",
              "1  ************0541             K020     Vehicle Fuel            RV12T   \n",
              "2  ************0541             K020     Vehicle Fuel            RV12T   \n",
              "3  ************0541             K020     Vehicle Fuel            RV12T   \n",
              "4  ************5770             K020     Vehicle Fuel            RV12N   \n",
              "\n",
              "                         TRANS CAC DESC 2 TRANS CAC CODE 3  \\\n",
              "0  Shakti Elders Dce, 73 Conybere St, B12              A00   \n",
              "1  Shakti Elders Dce, 73 Conybere St, B12              A00   \n",
              "2  Shakti Elders Dce, 73 Conybere St, B12              A00   \n",
              "3  Shakti Elders Dce, 73 Conybere St, B12              A00   \n",
              "4                    African-Caribbean DC              A00   \n",
              "\n",
              "           Directorate  \n",
              "0  Adult & Communities  \n",
              "1  Adult & Communities  \n",
              "2  Adult & Communities  \n",
              "3  Adult & Communities  \n",
              "4  Adult & Communities  "
            ],
            "text/html": [
              "\n",
              "  <div id=\"df-69a5ca30-c521-4e24-8868-8321da93f274\">\n",
              "    <div class=\"colab-df-container\">\n",
              "      <div>\n",
              "<style scoped>\n",
              "    .dataframe tbody tr th:only-of-type {\n",
              "        vertical-align: middle;\n",
              "    }\n",
              "\n",
              "    .dataframe tbody tr th {\n",
              "        vertical-align: top;\n",
              "    }\n",
              "\n",
              "    .dataframe thead th {\n",
              "        text-align: right;\n",
              "    }\n",
              "</style>\n",
              "<table border=\"1\" class=\"dataframe\">\n",
              "  <thead>\n",
              "    <tr style=\"text-align: right;\">\n",
              "      <th></th>\n",
              "      <th>TRANS DATE</th>\n",
              "      <th>TRANS VAT DESC</th>\n",
              "      <th>ORIGINAL GROSS AMT</th>\n",
              "      <th>MERCHANT NAME</th>\n",
              "      <th>CARD NUMBER</th>\n",
              "      <th>TRANS CAC CODE 1</th>\n",
              "      <th>TRANS CAC DESC 1</th>\n",
              "      <th>TRANS CAC CODE 2</th>\n",
              "      <th>TRANS CAC DESC 2</th>\n",
              "      <th>TRANS CAC CODE 3</th>\n",
              "      <th>Directorate</th>\n",
              "    </tr>\n",
              "  </thead>\n",
              "  <tbody>\n",
              "    <tr>\n",
              "      <th>0</th>\n",
              "      <td>2015-05-06</td>\n",
              "      <td>VR</td>\n",
              "      <td>38.28</td>\n",
              "      <td>shell corrida 108</td>\n",
              "      <td>************0541</td>\n",
              "      <td>K020</td>\n",
              "      <td>Vehicle Fuel</td>\n",
              "      <td>RV12T</td>\n",
              "      <td>Shakti Elders Dce, 73 Conybere St, B12</td>\n",
              "      <td>A00</td>\n",
              "      <td>Adult &amp; Communities</td>\n",
              "    </tr>\n",
              "    <tr>\n",
              "      <th>1</th>\n",
              "      <td>2015-05-14</td>\n",
              "      <td>VR</td>\n",
              "      <td>34.23</td>\n",
              "      <td>tex city sstn</td>\n",
              "      <td>************0541</td>\n",
              "      <td>K020</td>\n",
              "      <td>Vehicle Fuel</td>\n",
              "      <td>RV12T</td>\n",
              "      <td>Shakti Elders Dce, 73 Conybere St, B12</td>\n",
              "      <td>A00</td>\n",
              "      <td>Adult &amp; Communities</td>\n",
              "    </tr>\n",
              "    <tr>\n",
              "      <th>2</th>\n",
              "      <td>2015-05-21</td>\n",
              "      <td>VR</td>\n",
              "      <td>42.61</td>\n",
              "      <td>tex city sstn</td>\n",
              "      <td>************0541</td>\n",
              "      <td>K020</td>\n",
              "      <td>Vehicle Fuel</td>\n",
              "      <td>RV12T</td>\n",
              "      <td>Shakti Elders Dce, 73 Conybere St, B12</td>\n",
              "      <td>A00</td>\n",
              "      <td>Adult &amp; Communities</td>\n",
              "    </tr>\n",
              "    <tr>\n",
              "      <th>3</th>\n",
              "      <td>2015-05-29</td>\n",
              "      <td>VR</td>\n",
              "      <td>43.57</td>\n",
              "      <td>tex city sstn</td>\n",
              "      <td>************0541</td>\n",
              "      <td>K020</td>\n",
              "      <td>Vehicle Fuel</td>\n",
              "      <td>RV12T</td>\n",
              "      <td>Shakti Elders Dce, 73 Conybere St, B12</td>\n",
              "      <td>A00</td>\n",
              "      <td>Adult &amp; Communities</td>\n",
              "    </tr>\n",
              "    <tr>\n",
              "      <th>4</th>\n",
              "      <td>2015-05-07</td>\n",
              "      <td>VR</td>\n",
              "      <td>54.17</td>\n",
              "      <td>shell kings 587</td>\n",
              "      <td>************5770</td>\n",
              "      <td>K020</td>\n",
              "      <td>Vehicle Fuel</td>\n",
              "      <td>RV12N</td>\n",
              "      <td>African-Caribbean DC</td>\n",
              "      <td>A00</td>\n",
              "      <td>Adult &amp; Communities</td>\n",
              "    </tr>\n",
              "  </tbody>\n",
              "</table>\n",
              "</div>\n",
              "      <button class=\"colab-df-convert\" onclick=\"convertToInteractive('df-69a5ca30-c521-4e24-8868-8321da93f274')\"\n",
              "              title=\"Convert this dataframe to an interactive table.\"\n",
              "              style=\"display:none;\">\n",
              "        \n",
              "  <svg xmlns=\"http://www.w3.org/2000/svg\" height=\"24px\"viewBox=\"0 0 24 24\"\n",
              "       width=\"24px\">\n",
              "    <path d=\"M0 0h24v24H0V0z\" fill=\"none\"/>\n",
              "    <path d=\"M18.56 5.44l.94 2.06.94-2.06 2.06-.94-2.06-.94-.94-2.06-.94 2.06-2.06.94zm-11 1L8.5 8.5l.94-2.06 2.06-.94-2.06-.94L8.5 2.5l-.94 2.06-2.06.94zm10 10l.94 2.06.94-2.06 2.06-.94-2.06-.94-.94-2.06-.94 2.06-2.06.94z\"/><path d=\"M17.41 7.96l-1.37-1.37c-.4-.4-.92-.59-1.43-.59-.52 0-1.04.2-1.43.59L10.3 9.45l-7.72 7.72c-.78.78-.78 2.05 0 2.83L4 21.41c.39.39.9.59 1.41.59.51 0 1.02-.2 1.41-.59l7.78-7.78 2.81-2.81c.8-.78.8-2.07 0-2.86zM5.41 20L4 18.59l7.72-7.72 1.47 1.35L5.41 20z\"/>\n",
              "  </svg>\n",
              "      </button>\n",
              "      \n",
              "  <style>\n",
              "    .colab-df-container {\n",
              "      display:flex;\n",
              "      flex-wrap:wrap;\n",
              "      gap: 12px;\n",
              "    }\n",
              "\n",
              "    .colab-df-convert {\n",
              "      background-color: #E8F0FE;\n",
              "      border: none;\n",
              "      border-radius: 50%;\n",
              "      cursor: pointer;\n",
              "      display: none;\n",
              "      fill: #1967D2;\n",
              "      height: 32px;\n",
              "      padding: 0 0 0 0;\n",
              "      width: 32px;\n",
              "    }\n",
              "\n",
              "    .colab-df-convert:hover {\n",
              "      background-color: #E2EBFA;\n",
              "      box-shadow: 0px 1px 2px rgba(60, 64, 67, 0.3), 0px 1px 3px 1px rgba(60, 64, 67, 0.15);\n",
              "      fill: #174EA6;\n",
              "    }\n",
              "\n",
              "    [theme=dark] .colab-df-convert {\n",
              "      background-color: #3B4455;\n",
              "      fill: #D2E3FC;\n",
              "    }\n",
              "\n",
              "    [theme=dark] .colab-df-convert:hover {\n",
              "      background-color: #434B5C;\n",
              "      box-shadow: 0px 1px 3px 1px rgba(0, 0, 0, 0.15);\n",
              "      filter: drop-shadow(0px 1px 2px rgba(0, 0, 0, 0.3));\n",
              "      fill: #FFFFFF;\n",
              "    }\n",
              "  </style>\n",
              "\n",
              "      <script>\n",
              "        const buttonEl =\n",
              "          document.querySelector('#df-69a5ca30-c521-4e24-8868-8321da93f274 button.colab-df-convert');\n",
              "        buttonEl.style.display =\n",
              "          google.colab.kernel.accessAllowed ? 'block' : 'none';\n",
              "\n",
              "        async function convertToInteractive(key) {\n",
              "          const element = document.querySelector('#df-69a5ca30-c521-4e24-8868-8321da93f274');\n",
              "          const dataTable =\n",
              "            await google.colab.kernel.invokeFunction('convertToInteractive',\n",
              "                                                     [key], {});\n",
              "          if (!dataTable) return;\n",
              "\n",
              "          const docLinkHtml = 'Like what you see? Visit the ' +\n",
              "            '<a target=\"_blank\" href=https://colab.research.google.com/notebooks/data_table.ipynb>data table notebook</a>'\n",
              "            + ' to learn more about interactive tables.';\n",
              "          element.innerHTML = '';\n",
              "          dataTable['output_type'] = 'display_data';\n",
              "          await google.colab.output.renderOutput(dataTable, element);\n",
              "          const docLink = document.createElement('div');\n",
              "          docLink.innerHTML = docLinkHtml;\n",
              "          element.appendChild(docLink);\n",
              "        }\n",
              "      </script>\n",
              "    </div>\n",
              "  </div>\n",
              "  "
            ]
          },
          "metadata": {},
          "execution_count": 461
        }
      ],
      "source": [
        "df_result = pd.read_csv('/content/drive/MyDrive/total_purchase.csv')\n",
        "df_result.head()"
      ]
    },
    {
      "cell_type": "markdown",
      "source": [
        "Se observará el tipo de datos que se tiene"
      ],
      "metadata": {
        "id": "cizuFWTGhZst"
      }
    },
    {
      "cell_type": "code",
      "execution_count": null,
      "metadata": {
        "colab": {
          "base_uri": "https://localhost:8080/"
        },
        "id": "lp48s4ABFHne",
        "outputId": "70d9081f-baf0-4d49-b5b9-c0de65b1318b"
      },
      "outputs": [
        {
          "output_type": "stream",
          "name": "stdout",
          "text": [
            "<class 'pandas.core.frame.DataFrame'>\n",
            "RangeIndex: 180269 entries, 0 to 180268\n",
            "Data columns (total 11 columns):\n",
            " #   Column              Non-Null Count   Dtype  \n",
            "---  ------              --------------   -----  \n",
            " 0   TRANS DATE          180268 non-null  object \n",
            " 1   TRANS VAT DESC      171054 non-null  object \n",
            " 2   ORIGINAL GROSS AMT  180268 non-null  float64\n",
            " 3   MERCHANT NAME       180268 non-null  object \n",
            " 4   CARD NUMBER         180268 non-null  object \n",
            " 5   TRANS CAC CODE 1    180168 non-null  object \n",
            " 6   TRANS CAC DESC 1    180168 non-null  object \n",
            " 7   TRANS CAC CODE 2    180041 non-null  object \n",
            " 8   TRANS CAC DESC 2    180041 non-null  object \n",
            " 9   TRANS CAC CODE 3    179985 non-null  object \n",
            " 10  Directorate         179531 non-null  object \n",
            "dtypes: float64(1), object(10)\n",
            "memory usage: 15.1+ MB\n"
          ]
        }
      ],
      "source": [
        "df_result.info()"
      ]
    },
    {
      "cell_type": "markdown",
      "source": [
        "serva que hay varios valores nulos y que *TRANS DATE* que debería ser fecha está como objeto. Se cambiará al formato fecha"
      ],
      "metadata": {
        "id": "RrPVgI1OhlLL"
      }
    },
    {
      "cell_type": "code",
      "execution_count": null,
      "metadata": {
        "id": "KULKqyfdFHnc"
      },
      "outputs": [],
      "source": [
        "df_result['TRANS DATE'] = pd.to_datetime(df_result['TRANS DATE'])"
      ]
    },
    {
      "cell_type": "code",
      "execution_count": null,
      "metadata": {
        "colab": {
          "base_uri": "https://localhost:8080/"
        },
        "id": "wFYfDd-WFHnd",
        "outputId": "c595f101-e34a-4d80-d545-39a90b88c5ce"
      },
      "outputs": [
        {
          "output_type": "stream",
          "name": "stdout",
          "text": [
            "Fecha máxima:  2017-12-01 00:00:00\n",
            "Fecha mínima:  2013-11-12 00:00:00\n"
          ]
        }
      ],
      "source": [
        "print('Fecha máxima: ',df_result['TRANS DATE'].max())\n",
        "print('Fecha mínima: ', df_result['TRANS DATE'].min())"
      ]
    },
    {
      "cell_type": "markdown",
      "source": [
        "Para dar un vistazo a los valores con los que se cuenta, se recorrerá cada una de las columnas "
      ],
      "metadata": {
        "id": "yAVz9sR-i4Rs"
      }
    },
    {
      "cell_type": "code",
      "source": [
        "for columna in df_result.columns:\n",
        "  print(f'====== {columna} ========')\n",
        "  valores = df_result[columna].value_counts()\n",
        "  print(valores)"
      ],
      "metadata": {
        "colab": {
          "base_uri": "https://localhost:8080/"
        },
        "id": "lOBppoHLih0b",
        "outputId": "e0ff94ae-58a8-4eee-bf65-acaa2b7d3538"
      },
      "execution_count": null,
      "outputs": [
        {
          "output_type": "stream",
          "name": "stdout",
          "text": [
            "====== TRANS DATE ========\n",
            "2014-06-11    473\n",
            "2014-06-06    470\n",
            "2014-06-16    452\n",
            "2014-06-24    444\n",
            "2014-06-17    438\n",
            "             ... \n",
            "2013-11-12      1\n",
            "2015-04-27      1\n",
            "2014-05-02      1\n",
            "2015-12-25      1\n",
            "2014-05-28      1\n",
            "Name: TRANS DATE, Length: 1293, dtype: int64\n",
            "====== TRANS VAT DESC ========\n",
            "VR       85601\n",
            "VZ       83839\n",
            "VL         650\n",
            "VE         641\n",
            "VS         288\n",
            "VT          30\n",
            "6.65%        5\n",
            "Name: TRANS VAT DESC, dtype: int64\n",
            "====== ORIGINAL GROSS AMT ========\n",
            " 50.00     1226\n",
            " 10.00     1209\n",
            " 3.00      1076\n",
            " 15.00     1061\n",
            " 20.00     1053\n",
            "           ... \n",
            " 552.85       1\n",
            " 595.10       1\n",
            " 587.50       1\n",
            "-489.00       1\n",
            " 288.13       1\n",
            "Name: ORIGINAL GROSS AMT, Length: 31737, dtype: int64\n",
            "====== MERCHANT NAME ========\n",
            "amazon uk marketplace    14381\n",
            "amazon uk retail          6022\n",
            "travelodge gb0000         4890\n",
            "amazon mktplce eu-uk      4664\n",
            "travelodge website        4087\n",
            "                         ...  \n",
            "paypal taxdiscolis           1\n",
            "paypal trzuskowski           1\n",
            "paypal zroxinterna           1\n",
            "paypal d.sounds              1\n",
            "kebabish original            1\n",
            "Name: MERCHANT NAME, Length: 15540, dtype: int64\n",
            "====== CARD NUMBER ========\n",
            "************6308    2436\n",
            "************6720    2139\n",
            "************6316    2000\n",
            "************7710    1650\n",
            "************6387    1262\n",
            "                    ... \n",
            "************6890       1\n",
            "************2429       1\n",
            "************1720       1\n",
            "************3464       1\n",
            "************6180       1\n",
            "Name: CARD NUMBER, Length: 1499, dtype: int64\n",
            "====== TRANS CAC CODE 1 ========\n",
            "L100    33476\n",
            "K020    22460\n",
            "L220    20064\n",
            "L030    11069\n",
            "MC70    10506\n",
            "        ...  \n",
            "L810        1\n",
            "N1F0        1\n",
            "J1K5        1\n",
            "L520        1\n",
            "M660        1\n",
            "Name: TRANS CAC CODE 1, Length: 143, dtype: int64\n",
            "====== TRANS CAC DESC 1 ========\n",
            "Equip Operational       33476\n",
            "Vehicle Fuel            22460\n",
            "Purchases Food          20064\n",
            "Books                   11069\n",
            "Supplies & Sev Mic      10506\n",
            "                        ...  \n",
            "Phon Centrx call Chg        1\n",
            "Dir Payts - Children        1\n",
            "StratRefurbishment          1\n",
            "Audit Fees                  1\n",
            "SoR LIGHTING OTHER          1\n",
            "Name: TRANS CAC DESC 1, Length: 143, dtype: int64\n",
            "====== TRANS CAC CODE 2 ========\n",
            "RUF0F    13534\n",
            "RJADC     7739\n",
            "REAAB     4888\n",
            "RV014     3001\n",
            "RLBMC     2533\n",
            "         ...  \n",
            "RC058        1\n",
            "RECD6        1\n",
            "RV46D        1\n",
            "rhe03        1\n",
            "RJBUH        1\n",
            "Name: TRANS CAC CODE 2, Length: 1377, dtype: int64\n",
            "====== TRANS CAC DESC 2 ========\n",
            "Illegal Money Lending T Stds Comm Inv.    13534\n",
            "Homeless Private Sector Accom              7739\n",
            "The City of Birmingham School              4888\n",
            "Camborne House HLDC                        3001\n",
            "Technical Unit                             2533\n",
            "                                          ...  \n",
            "Capital & Buildings                           1\n",
            "Safeguarding Adults                           1\n",
            "HR Head of HR                                 1\n",
            "Strategic Director Peopl                      1\n",
            "Enf PRS & Enforcement Bus/Unit                1\n",
            "Name: TRANS CAC DESC 2, Length: 1362, dtype: int64\n",
            "====== TRANS CAC CODE 3 ========\n",
            "A00      178042\n",
            "A5F        1682\n",
            "A46          82\n",
            "A8H          36\n",
            "A95          31\n",
            "A5D          27\n",
            "A42          14\n",
            "A7N          13\n",
            "REACN         9\n",
            "A8F           9\n",
            "A9Y           8\n",
            "A7M           3\n",
            "A13           2\n",
            "A12           2\n",
            "A08           2\n",
            "A11           2\n",
            "A10           2\n",
            "A09           2\n",
            "A04           2\n",
            "A07           2\n",
            "A06           2\n",
            "A05           2\n",
            "A03           2\n",
            "A02           2\n",
            "A01           2\n",
            "A6G           1\n",
            "RBH07         1\n",
            "A60           1\n",
            "Name: TRANS CAC CODE 3, dtype: int64\n",
            "====== Directorate ========\n",
            "CYP&F SCHOOLS                   84844\n",
            "Local Services                  40668\n",
            "CYP&F                           23884\n",
            "Adult & Communities             12367\n",
            "Corporate Resources             12082\n",
            "DEVELOPMENT                      3940\n",
            "CYP&F                             545\n",
            "CYP&F Schools                     459\n",
            "Adult Social Care and Health      368\n",
            "CYP&F                             113\n",
            "CYO&F                              93\n",
            "Adults & Comms                     51\n",
            "Local services                     39\n",
            "Development                        34\n",
            "Adults                             24\n",
            "Adults & Communities               16\n",
            "Corporate Procurement               3\n",
            "                                    1\n",
            "Name: Directorate, dtype: int64\n"
          ]
        }
      ]
    },
    {
      "cell_type": "markdown",
      "source": [
        "No se cuenta con un ID que pueda sugerir que es el mismo cliente, esto con la intención de que se pudiera rastrear sus transacciones de manera individual.\n",
        "\n",
        "Se pudiera ver si existe un tipo de relación entre VAT DESC y el monto de la transacción. \n",
        "\n",
        "Sería interesante observar cuáles son los tipos de negocio que más transacciones tienen y si hay un negocio en particular que cuente con más anomalías ó si se presenta la anomalía de forma aleatoria.\n",
        "\n",
        "¿Cómo será el comportamiento de las transacciones? Se esperaría que la gasolina fuera a un ritmo constante, en cambio, productos no básicos pudieran crecer sus transacciones en épocas especiales como Navidad. \n",
        "\n",
        "\n"
      ],
      "metadata": {
        "id": "RR7urMjgjeWD"
      }
    },
    {
      "cell_type": "markdown",
      "source": [
        "¿Cuánto es el monto promedio por transacción? ¿Cuánto su desviación estándar?"
      ],
      "metadata": {
        "id": "XhSyTxhElciV"
      }
    },
    {
      "cell_type": "code",
      "source": [
        "df_result.describe()"
      ],
      "metadata": {
        "colab": {
          "base_uri": "https://localhost:8080/",
          "height": 300
        },
        "id": "yjVJoTM4lYqf",
        "outputId": "4789961b-fd72-4e50-f722-918f21b2a826"
      },
      "execution_count": null,
      "outputs": [
        {
          "output_type": "execute_result",
          "data": {
            "text/plain": [
              "       ORIGINAL GROSS AMT\n",
              "count       180268.000000\n",
              "mean           173.276633\n",
              "std           2158.197288\n",
              "min        -486980.090000\n",
              "25%             12.790000\n",
              "50%             40.400000\n",
              "75%             91.600000\n",
              "max         280102.230000"
            ],
            "text/html": [
              "\n",
              "  <div id=\"df-b7b77a02-7436-4000-aa3a-d9e63cea3ea4\">\n",
              "    <div class=\"colab-df-container\">\n",
              "      <div>\n",
              "<style scoped>\n",
              "    .dataframe tbody tr th:only-of-type {\n",
              "        vertical-align: middle;\n",
              "    }\n",
              "\n",
              "    .dataframe tbody tr th {\n",
              "        vertical-align: top;\n",
              "    }\n",
              "\n",
              "    .dataframe thead th {\n",
              "        text-align: right;\n",
              "    }\n",
              "</style>\n",
              "<table border=\"1\" class=\"dataframe\">\n",
              "  <thead>\n",
              "    <tr style=\"text-align: right;\">\n",
              "      <th></th>\n",
              "      <th>ORIGINAL GROSS AMT</th>\n",
              "    </tr>\n",
              "  </thead>\n",
              "  <tbody>\n",
              "    <tr>\n",
              "      <th>count</th>\n",
              "      <td>180268.000000</td>\n",
              "    </tr>\n",
              "    <tr>\n",
              "      <th>mean</th>\n",
              "      <td>173.276633</td>\n",
              "    </tr>\n",
              "    <tr>\n",
              "      <th>std</th>\n",
              "      <td>2158.197288</td>\n",
              "    </tr>\n",
              "    <tr>\n",
              "      <th>min</th>\n",
              "      <td>-486980.090000</td>\n",
              "    </tr>\n",
              "    <tr>\n",
              "      <th>25%</th>\n",
              "      <td>12.790000</td>\n",
              "    </tr>\n",
              "    <tr>\n",
              "      <th>50%</th>\n",
              "      <td>40.400000</td>\n",
              "    </tr>\n",
              "    <tr>\n",
              "      <th>75%</th>\n",
              "      <td>91.600000</td>\n",
              "    </tr>\n",
              "    <tr>\n",
              "      <th>max</th>\n",
              "      <td>280102.230000</td>\n",
              "    </tr>\n",
              "  </tbody>\n",
              "</table>\n",
              "</div>\n",
              "      <button class=\"colab-df-convert\" onclick=\"convertToInteractive('df-b7b77a02-7436-4000-aa3a-d9e63cea3ea4')\"\n",
              "              title=\"Convert this dataframe to an interactive table.\"\n",
              "              style=\"display:none;\">\n",
              "        \n",
              "  <svg xmlns=\"http://www.w3.org/2000/svg\" height=\"24px\"viewBox=\"0 0 24 24\"\n",
              "       width=\"24px\">\n",
              "    <path d=\"M0 0h24v24H0V0z\" fill=\"none\"/>\n",
              "    <path d=\"M18.56 5.44l.94 2.06.94-2.06 2.06-.94-2.06-.94-.94-2.06-.94 2.06-2.06.94zm-11 1L8.5 8.5l.94-2.06 2.06-.94-2.06-.94L8.5 2.5l-.94 2.06-2.06.94zm10 10l.94 2.06.94-2.06 2.06-.94-2.06-.94-.94-2.06-.94 2.06-2.06.94z\"/><path d=\"M17.41 7.96l-1.37-1.37c-.4-.4-.92-.59-1.43-.59-.52 0-1.04.2-1.43.59L10.3 9.45l-7.72 7.72c-.78.78-.78 2.05 0 2.83L4 21.41c.39.39.9.59 1.41.59.51 0 1.02-.2 1.41-.59l7.78-7.78 2.81-2.81c.8-.78.8-2.07 0-2.86zM5.41 20L4 18.59l7.72-7.72 1.47 1.35L5.41 20z\"/>\n",
              "  </svg>\n",
              "      </button>\n",
              "      \n",
              "  <style>\n",
              "    .colab-df-container {\n",
              "      display:flex;\n",
              "      flex-wrap:wrap;\n",
              "      gap: 12px;\n",
              "    }\n",
              "\n",
              "    .colab-df-convert {\n",
              "      background-color: #E8F0FE;\n",
              "      border: none;\n",
              "      border-radius: 50%;\n",
              "      cursor: pointer;\n",
              "      display: none;\n",
              "      fill: #1967D2;\n",
              "      height: 32px;\n",
              "      padding: 0 0 0 0;\n",
              "      width: 32px;\n",
              "    }\n",
              "\n",
              "    .colab-df-convert:hover {\n",
              "      background-color: #E2EBFA;\n",
              "      box-shadow: 0px 1px 2px rgba(60, 64, 67, 0.3), 0px 1px 3px 1px rgba(60, 64, 67, 0.15);\n",
              "      fill: #174EA6;\n",
              "    }\n",
              "\n",
              "    [theme=dark] .colab-df-convert {\n",
              "      background-color: #3B4455;\n",
              "      fill: #D2E3FC;\n",
              "    }\n",
              "\n",
              "    [theme=dark] .colab-df-convert:hover {\n",
              "      background-color: #434B5C;\n",
              "      box-shadow: 0px 1px 3px 1px rgba(0, 0, 0, 0.15);\n",
              "      filter: drop-shadow(0px 1px 2px rgba(0, 0, 0, 0.3));\n",
              "      fill: #FFFFFF;\n",
              "    }\n",
              "  </style>\n",
              "\n",
              "      <script>\n",
              "        const buttonEl =\n",
              "          document.querySelector('#df-b7b77a02-7436-4000-aa3a-d9e63cea3ea4 button.colab-df-convert');\n",
              "        buttonEl.style.display =\n",
              "          google.colab.kernel.accessAllowed ? 'block' : 'none';\n",
              "\n",
              "        async function convertToInteractive(key) {\n",
              "          const element = document.querySelector('#df-b7b77a02-7436-4000-aa3a-d9e63cea3ea4');\n",
              "          const dataTable =\n",
              "            await google.colab.kernel.invokeFunction('convertToInteractive',\n",
              "                                                     [key], {});\n",
              "          if (!dataTable) return;\n",
              "\n",
              "          const docLinkHtml = 'Like what you see? Visit the ' +\n",
              "            '<a target=\"_blank\" href=https://colab.research.google.com/notebooks/data_table.ipynb>data table notebook</a>'\n",
              "            + ' to learn more about interactive tables.';\n",
              "          element.innerHTML = '';\n",
              "          dataTable['output_type'] = 'display_data';\n",
              "          await google.colab.output.renderOutput(dataTable, element);\n",
              "          const docLink = document.createElement('div');\n",
              "          docLink.innerHTML = docLinkHtml;\n",
              "          element.appendChild(docLink);\n",
              "        }\n",
              "      </script>\n",
              "    </div>\n",
              "  </div>\n",
              "  "
            ]
          },
          "metadata": {},
          "execution_count": 357
        }
      ]
    },
    {
      "cell_type": "markdown",
      "source": [
        "## 3. Limpieza de Datos"
      ],
      "metadata": {
        "id": "567MQRdmp_0p"
      }
    },
    {
      "cell_type": "markdown",
      "source": [
        "Para la limpieza de datos se comenzará dejando las columnas que serán útiles para lograr el objetivo de detección de anomalías. Y se agregará otra columna de Mes"
      ],
      "metadata": {
        "id": "VQg4WFpKqDiL"
      }
    },
    {
      "cell_type": "code",
      "source": [
        "from datetime import datetime as dt \n",
        "\n",
        "df_result = df_result[['TRANS DATE', 'ORIGINAL GROSS AMT', 'TRANS CAC DESC 1']]\n",
        "df_result['MONTH'] = df_result['TRANS DATE'].apply(lambda x: x.month)\n",
        "df_result.head()"
      ],
      "metadata": {
        "colab": {
          "base_uri": "https://localhost:8080/",
          "height": 206
        },
        "id": "AE-ZiYgKqTbn",
        "outputId": "2949d278-5b01-4d52-ee00-eba653748fdb"
      },
      "execution_count": null,
      "outputs": [
        {
          "output_type": "execute_result",
          "data": {
            "text/plain": [
              "  TRANS DATE  ORIGINAL GROSS AMT TRANS CAC DESC 1  MONTH\n",
              "0 2015-05-06               38.28     Vehicle Fuel    5.0\n",
              "1 2015-05-14               34.23     Vehicle Fuel    5.0\n",
              "2 2015-05-21               42.61     Vehicle Fuel    5.0\n",
              "3 2015-05-29               43.57     Vehicle Fuel    5.0\n",
              "4 2015-05-07               54.17     Vehicle Fuel    5.0"
            ],
            "text/html": [
              "\n",
              "  <div id=\"df-d35fc7d9-49af-423b-a00e-b377406746eb\">\n",
              "    <div class=\"colab-df-container\">\n",
              "      <div>\n",
              "<style scoped>\n",
              "    .dataframe tbody tr th:only-of-type {\n",
              "        vertical-align: middle;\n",
              "    }\n",
              "\n",
              "    .dataframe tbody tr th {\n",
              "        vertical-align: top;\n",
              "    }\n",
              "\n",
              "    .dataframe thead th {\n",
              "        text-align: right;\n",
              "    }\n",
              "</style>\n",
              "<table border=\"1\" class=\"dataframe\">\n",
              "  <thead>\n",
              "    <tr style=\"text-align: right;\">\n",
              "      <th></th>\n",
              "      <th>TRANS DATE</th>\n",
              "      <th>ORIGINAL GROSS AMT</th>\n",
              "      <th>TRANS CAC DESC 1</th>\n",
              "      <th>MONTH</th>\n",
              "    </tr>\n",
              "  </thead>\n",
              "  <tbody>\n",
              "    <tr>\n",
              "      <th>0</th>\n",
              "      <td>2015-05-06</td>\n",
              "      <td>38.28</td>\n",
              "      <td>Vehicle Fuel</td>\n",
              "      <td>5.0</td>\n",
              "    </tr>\n",
              "    <tr>\n",
              "      <th>1</th>\n",
              "      <td>2015-05-14</td>\n",
              "      <td>34.23</td>\n",
              "      <td>Vehicle Fuel</td>\n",
              "      <td>5.0</td>\n",
              "    </tr>\n",
              "    <tr>\n",
              "      <th>2</th>\n",
              "      <td>2015-05-21</td>\n",
              "      <td>42.61</td>\n",
              "      <td>Vehicle Fuel</td>\n",
              "      <td>5.0</td>\n",
              "    </tr>\n",
              "    <tr>\n",
              "      <th>3</th>\n",
              "      <td>2015-05-29</td>\n",
              "      <td>43.57</td>\n",
              "      <td>Vehicle Fuel</td>\n",
              "      <td>5.0</td>\n",
              "    </tr>\n",
              "    <tr>\n",
              "      <th>4</th>\n",
              "      <td>2015-05-07</td>\n",
              "      <td>54.17</td>\n",
              "      <td>Vehicle Fuel</td>\n",
              "      <td>5.0</td>\n",
              "    </tr>\n",
              "  </tbody>\n",
              "</table>\n",
              "</div>\n",
              "      <button class=\"colab-df-convert\" onclick=\"convertToInteractive('df-d35fc7d9-49af-423b-a00e-b377406746eb')\"\n",
              "              title=\"Convert this dataframe to an interactive table.\"\n",
              "              style=\"display:none;\">\n",
              "        \n",
              "  <svg xmlns=\"http://www.w3.org/2000/svg\" height=\"24px\"viewBox=\"0 0 24 24\"\n",
              "       width=\"24px\">\n",
              "    <path d=\"M0 0h24v24H0V0z\" fill=\"none\"/>\n",
              "    <path d=\"M18.56 5.44l.94 2.06.94-2.06 2.06-.94-2.06-.94-.94-2.06-.94 2.06-2.06.94zm-11 1L8.5 8.5l.94-2.06 2.06-.94-2.06-.94L8.5 2.5l-.94 2.06-2.06.94zm10 10l.94 2.06.94-2.06 2.06-.94-2.06-.94-.94-2.06-.94 2.06-2.06.94z\"/><path d=\"M17.41 7.96l-1.37-1.37c-.4-.4-.92-.59-1.43-.59-.52 0-1.04.2-1.43.59L10.3 9.45l-7.72 7.72c-.78.78-.78 2.05 0 2.83L4 21.41c.39.39.9.59 1.41.59.51 0 1.02-.2 1.41-.59l7.78-7.78 2.81-2.81c.8-.78.8-2.07 0-2.86zM5.41 20L4 18.59l7.72-7.72 1.47 1.35L5.41 20z\"/>\n",
              "  </svg>\n",
              "      </button>\n",
              "      \n",
              "  <style>\n",
              "    .colab-df-container {\n",
              "      display:flex;\n",
              "      flex-wrap:wrap;\n",
              "      gap: 12px;\n",
              "    }\n",
              "\n",
              "    .colab-df-convert {\n",
              "      background-color: #E8F0FE;\n",
              "      border: none;\n",
              "      border-radius: 50%;\n",
              "      cursor: pointer;\n",
              "      display: none;\n",
              "      fill: #1967D2;\n",
              "      height: 32px;\n",
              "      padding: 0 0 0 0;\n",
              "      width: 32px;\n",
              "    }\n",
              "\n",
              "    .colab-df-convert:hover {\n",
              "      background-color: #E2EBFA;\n",
              "      box-shadow: 0px 1px 2px rgba(60, 64, 67, 0.3), 0px 1px 3px 1px rgba(60, 64, 67, 0.15);\n",
              "      fill: #174EA6;\n",
              "    }\n",
              "\n",
              "    [theme=dark] .colab-df-convert {\n",
              "      background-color: #3B4455;\n",
              "      fill: #D2E3FC;\n",
              "    }\n",
              "\n",
              "    [theme=dark] .colab-df-convert:hover {\n",
              "      background-color: #434B5C;\n",
              "      box-shadow: 0px 1px 3px 1px rgba(0, 0, 0, 0.15);\n",
              "      filter: drop-shadow(0px 1px 2px rgba(0, 0, 0, 0.3));\n",
              "      fill: #FFFFFF;\n",
              "    }\n",
              "  </style>\n",
              "\n",
              "      <script>\n",
              "        const buttonEl =\n",
              "          document.querySelector('#df-d35fc7d9-49af-423b-a00e-b377406746eb button.colab-df-convert');\n",
              "        buttonEl.style.display =\n",
              "          google.colab.kernel.accessAllowed ? 'block' : 'none';\n",
              "\n",
              "        async function convertToInteractive(key) {\n",
              "          const element = document.querySelector('#df-d35fc7d9-49af-423b-a00e-b377406746eb');\n",
              "          const dataTable =\n",
              "            await google.colab.kernel.invokeFunction('convertToInteractive',\n",
              "                                                     [key], {});\n",
              "          if (!dataTable) return;\n",
              "\n",
              "          const docLinkHtml = 'Like what you see? Visit the ' +\n",
              "            '<a target=\"_blank\" href=https://colab.research.google.com/notebooks/data_table.ipynb>data table notebook</a>'\n",
              "            + ' to learn more about interactive tables.';\n",
              "          element.innerHTML = '';\n",
              "          dataTable['output_type'] = 'display_data';\n",
              "          await google.colab.output.renderOutput(dataTable, element);\n",
              "          const docLink = document.createElement('div');\n",
              "          docLink.innerHTML = docLinkHtml;\n",
              "          element.appendChild(docLink);\n",
              "        }\n",
              "      </script>\n",
              "    </div>\n",
              "  </div>\n",
              "  "
            ]
          },
          "metadata": {},
          "execution_count": 397
        }
      ]
    },
    {
      "cell_type": "markdown",
      "source": [
        "## Análisis de Datos"
      ],
      "metadata": {
        "id": "c-2VbFDRqvRB"
      }
    },
    {
      "cell_type": "markdown",
      "source": [
        "Una vez que se tiene el dataset deseado, se quiere observar cómo actúan los principales tipos de negocio por mes. "
      ],
      "metadata": {
        "id": "glVNB1yPsd91"
      }
    },
    {
      "cell_type": "markdown",
      "source": [
        "Para conocer cuales son los principales tipos de negocio de acuerdo a su monto se realiza lo siguiente:"
      ],
      "metadata": {
        "id": "kzJwVRmLs9aG"
      }
    },
    {
      "cell_type": "code",
      "source": [
        "df_result['TRANS CAC DESC 1'].value_counts()[:5]"
      ],
      "metadata": {
        "colab": {
          "base_uri": "https://localhost:8080/"
        },
        "id": "r2YDdx6nsc2h",
        "outputId": "54118c33-1ad2-4eb3-ef7a-4d1c0e650b68"
      },
      "execution_count": null,
      "outputs": [
        {
          "output_type": "execute_result",
          "data": {
            "text/plain": [
              "Equip Operational     33476\n",
              "Vehicle Fuel          22460\n",
              "Purchases Food        20064\n",
              "Books                 11069\n",
              "Supplies & Sev Mic    10506\n",
              "Name: TRANS CAC DESC 1, dtype: int64"
            ]
          },
          "metadata": {},
          "execution_count": 398
        }
      ]
    },
    {
      "cell_type": "code",
      "source": [
        "df_result_class = df_result[(df_result['TRANS CAC DESC 1']=='Equip Operational')|(df_result['TRANS CAC DESC 1']=='Vehicle Fuel') | (df_result['TRANS CAC DESC 1']=='Purchases Food')|(df_result['TRANS CAC DESC 1']=='Books')|(df_result['TRANS CAC DESC 1']=='Supplies & Sev Mic')]\n",
        "df_result_class.shape"
      ],
      "metadata": {
        "colab": {
          "base_uri": "https://localhost:8080/"
        },
        "id": "CyzPTe0StoNU",
        "outputId": "40a2ac80-284b-48b2-836a-a1262b8f0d8e"
      },
      "execution_count": null,
      "outputs": [
        {
          "output_type": "execute_result",
          "data": {
            "text/plain": [
              "(97575, 4)"
            ]
          },
          "metadata": {},
          "execution_count": 399
        }
      ]
    },
    {
      "cell_type": "markdown",
      "source": [
        "Una vez que se obtiene este nuevo dataset con estos pocos tipos de negocio, se quisiera encontrar comportamientos que se relacionen entre ellos ó que sean estacionales. \n",
        "Se agrupará por mes y por tipo de negocio de 2014 a 2016"
      ],
      "metadata": {
        "id": "gsglGW-0uGzH"
      }
    },
    {
      "cell_type": "code",
      "source": [
        "df_month = df_result_class[df_result_class['TRANS DATE'].isin(pd.date_range('2014-01-01','2014-12-31'))]\n",
        "\n",
        "df1 = df_month.groupby(['TRANS CAC DESC 1','MONTH'],as_index=False).sum()\n",
        "\n",
        "dfT14 = pd.DataFrame()\n",
        "\n",
        "for columna in df1['TRANS CAC DESC 1'].unique():\n",
        "  df2 = df1[df1['TRANS CAC DESC 1']==columna].set_index('MONTH')\n",
        "  df2.rename(columns={'ORIGINAL GROSS AMT':columna},inplace=True)\n",
        "  dfT14 = pd.concat([dfT14,df2],axis=1)\n",
        "dfT14.drop('TRANS CAC DESC 1',axis=1,inplace=True)"
      ],
      "metadata": {
        "id": "WLC_FtYZuhsv"
      },
      "execution_count": null,
      "outputs": []
    },
    {
      "cell_type": "code",
      "source": [
        "dfT14.plot()"
      ],
      "metadata": {
        "colab": {
          "base_uri": "https://localhost:8080/",
          "height": 296
        },
        "id": "1MNwy17pvZSS",
        "outputId": "b43ec4f1-fe99-4fd5-d9f5-4604a7781436"
      },
      "execution_count": null,
      "outputs": [
        {
          "output_type": "execute_result",
          "data": {
            "text/plain": [
              "<matplotlib.axes._subplots.AxesSubplot at 0x7f3e03b026d0>"
            ]
          },
          "metadata": {},
          "execution_count": 402
        },
        {
          "output_type": "display_data",
          "data": {
            "text/plain": [
              "<Figure size 432x288 with 1 Axes>"
            ],
            "image/png": "[encoded data removed]"
          },
          "metadata": {
            "needs_background": "light"
          }
        }
      ]
    },
    {
      "cell_type": "code",
      "source": [
        "df_2015 = df_result_class[df_result_class['TRANS DATE'].isin(pd.date_range('2015-01-01','2015-12-31'))]\n",
        "df_2015['MONTH'] = df_2015['TRANS DATE'].apply(lambda x: x.month)\n",
        "\n",
        "df15 = df_2015.groupby(['TRANS CAC DESC 1','MONTH'],as_index=False).sum()\n",
        "\n",
        "dfT15 = pd.DataFrame()\n",
        "\n",
        "for columna in df15['TRANS CAC DESC 1'].unique():\n",
        "  d15 = df15[df15['TRANS CAC DESC 1']==columna].set_index('MONTH')\n",
        "  d15.rename(columns={'ORIGINAL GROSS AMT':columna},inplace=True)\n",
        "  dfT15 = pd.concat([dfT15,d15],axis=1)\n",
        "\n",
        "dfT15.drop('TRANS CAC DESC 1',axis=1,inplace=True)"
      ],
      "metadata": {
        "colab": {
          "base_uri": "https://localhost:8080/"
        },
        "id": "WrQchHOD1KEH",
        "outputId": "a6430e9f-a224-46c3-8c8d-7c90d0c741e6"
      },
      "execution_count": null,
      "outputs": [
        {
          "output_type": "stream",
          "name": "stderr",
          "text": [
            "/usr/local/lib/python3.7/dist-packages/ipykernel_launcher.py:2: SettingWithCopyWarning: \n",
            "A value is trying to be set on a copy of a slice from a DataFrame.\n",
            "Try using .loc[row_indexer,col_indexer] = value instead\n",
            "\n",
            "See the caveats in the documentation: https://pandas.pydata.org/pandas-docs/stable/user_guide/indexing.html#returning-a-view-versus-a-copy\n",
            "  \n"
          ]
        }
      ]
    },
    {
      "cell_type": "code",
      "source": [
        "dfT15.plot()"
      ],
      "metadata": {
        "colab": {
          "base_uri": "https://localhost:8080/",
          "height": 296
        },
        "id": "u6mzKM4k1WqC",
        "outputId": "dc97adae-9578-4d47-d5fb-661cc9280438"
      },
      "execution_count": null,
      "outputs": [
        {
          "output_type": "execute_result",
          "data": {
            "text/plain": [
              "<matplotlib.axes._subplots.AxesSubplot at 0x7f3e00df1290>"
            ]
          },
          "metadata": {},
          "execution_count": 407
        },
        {
          "output_type": "display_data",
          "data": {
            "text/plain": [
              "<Figure size 432x288 with 1 Axes>"
            ],
            "image/png": "[encoded data removed]"
          },
          "metadata": {
            "needs_background": "light"
          }
        }
      ]
    },
    {
      "cell_type": "code",
      "source": [
        "df_2016 = df_result_class[df_result_class['TRANS DATE'].isin(pd.date_range('2016-01-01','2016-12-31'))]\n",
        "df_2016['MONTH'] = df_2016['TRANS DATE'].apply(lambda x: x.month)\n",
        "#df_2016['Directorate'].replace({'Adults':'Adults & Communities','Adults & Comms':'Adults & Communities','CYP&F  ':'CYP&F','CYO&F':'CYP&F','CYP&F ':'CYP&F','CYP&F SCHOOLS':'CYP&F', 'CYP&F Schools':'CYP&F', 'Local Services':'Local services', 'DEVELOPMENT':'Development','Adult & Communities':'Adults & Communities'}, inplace=True)\n",
        "\n",
        "\n",
        "df16 = df_2016.groupby(['TRANS CAC DESC 1','MONTH'],as_index=False).sum()\n",
        "\n",
        "dfT16 = pd.DataFrame()\n",
        "\n",
        "for columna in df16['TRANS CAC DESC 1'].unique():\n",
        "  d16 = df16[df16['TRANS CAC DESC 1']==columna].set_index('MONTH')\n",
        "  d16.rename(columns={'ORIGINAL GROSS AMT':columna},inplace=True)\n",
        "  dfT16 = pd.concat([dfT16,d16],axis=1)\n",
        "\n",
        "dfT16.drop('TRANS CAC DESC 1',axis=1,inplace=True)"
      ],
      "metadata": {
        "colab": {
          "base_uri": "https://localhost:8080/"
        },
        "id": "tFYHVTHi1eKU",
        "outputId": "9e6b16c4-7344-464c-dcf4-aa0d39720c84"
      },
      "execution_count": null,
      "outputs": [
        {
          "output_type": "stream",
          "name": "stderr",
          "text": [
            "/usr/local/lib/python3.7/dist-packages/ipykernel_launcher.py:2: SettingWithCopyWarning: \n",
            "A value is trying to be set on a copy of a slice from a DataFrame.\n",
            "Try using .loc[row_indexer,col_indexer] = value instead\n",
            "\n",
            "See the caveats in the documentation: https://pandas.pydata.org/pandas-docs/stable/user_guide/indexing.html#returning-a-view-versus-a-copy\n",
            "  \n"
          ]
        }
      ]
    },
    {
      "cell_type": "code",
      "source": [
        "dfT16.plot()"
      ],
      "metadata": {
        "colab": {
          "base_uri": "https://localhost:8080/",
          "height": 296
        },
        "id": "9DQNSFEK1nXA",
        "outputId": "9901c6ba-4fbe-47ef-e0f1-05885630ea5b"
      },
      "execution_count": null,
      "outputs": [
        {
          "output_type": "execute_result",
          "data": {
            "text/plain": [
              "<matplotlib.axes._subplots.AxesSubplot at 0x7f3e0479b6d0>"
            ]
          },
          "metadata": {},
          "execution_count": 405
        },
        {
          "output_type": "display_data",
          "data": {
            "text/plain": [
              "<Figure size 432x288 with 1 Axes>"
            ],
            "image/png": "[encoded data removed]"
          },
          "metadata": {
            "needs_background": "light"
          }
        }
      ]
    },
    {
      "cell_type": "markdown",
      "source": [
        "Se puede observar que *Equip Operational* rebasa por mucho a cualquiera de los otros rubros, lo que no nos permite distinguir el comportamiento de los otros casos. "
      ],
      "metadata": {
        "id": "R68m6aDZvj_A"
      }
    },
    {
      "cell_type": "code",
      "source": [
        "df_result_class = df_result_class[df_result_class['TRANS CAC DESC 1']!='Equip Operational']"
      ],
      "metadata": {
        "id": "YAfNHkF-15K7"
      },
      "execution_count": null,
      "outputs": []
    },
    {
      "cell_type": "code",
      "source": [
        "df_month = df_result_class[df_result_class['TRANS DATE'].isin(pd.date_range('2014-01-01','2014-12-31'))]\n",
        "\n",
        "df1 = df_month.groupby(['TRANS CAC DESC 1','MONTH'],as_index=False).sum()\n",
        "\n",
        "dfT14 = pd.DataFrame()\n",
        "\n",
        "for columna in df1['TRANS CAC DESC 1'].unique():\n",
        "  df2 = df1[df1['TRANS CAC DESC 1']==columna].set_index('MONTH')\n",
        "  df2.rename(columns={'ORIGINAL GROSS AMT':columna},inplace=True)\n",
        "  dfT14 = pd.concat([dfT14,df2],axis=1)\n",
        "dfT14.drop('TRANS CAC DESC 1',axis=1,inplace=True)\n",
        "dfT14.plot()"
      ],
      "metadata": {
        "colab": {
          "base_uri": "https://localhost:8080/",
          "height": 296
        },
        "id": "f5o6F2uA2H7f",
        "outputId": "141da8d1-8a00-48dd-f784-d0b1bc613c3a"
      },
      "execution_count": null,
      "outputs": [
        {
          "output_type": "execute_result",
          "data": {
            "text/plain": [
              "<matplotlib.axes._subplots.AxesSubplot at 0x7f3e050e9d50>"
            ]
          },
          "metadata": {},
          "execution_count": 409
        },
        {
          "output_type": "display_data",
          "data": {
            "text/plain": [
              "<Figure size 432x288 with 1 Axes>"
            ],
            "image/png": "[encoded data removed]"
          },
          "metadata": {
            "needs_background": "light"
          }
        }
      ]
    },
    {
      "cell_type": "code",
      "source": [
        "df_2015 = df_result_class[df_result_class['TRANS DATE'].isin(pd.date_range('2015-01-01','2015-12-31'))]\n",
        "df_2015['MONTH'] = df_2015['TRANS DATE'].apply(lambda x: x.month)\n",
        "\n",
        "df15 = df_2015.groupby(['TRANS CAC DESC 1','MONTH'],as_index=False).sum()\n",
        "\n",
        "dfT15 = pd.DataFrame()\n",
        "\n",
        "for columna in df15['TRANS CAC DESC 1'].unique():\n",
        "  d15 = df15[df15['TRANS CAC DESC 1']==columna].set_index('MONTH')\n",
        "  d15.rename(columns={'ORIGINAL GROSS AMT':columna},inplace=True)\n",
        "  dfT15 = pd.concat([dfT15,d15],axis=1)\n",
        "\n",
        "dfT15.drop('TRANS CAC DESC 1',axis=1,inplace=True)\n",
        "dfT15.plot()"
      ],
      "metadata": {
        "colab": {
          "base_uri": "https://localhost:8080/",
          "height": 401
        },
        "id": "xn97Woiu2Y5J",
        "outputId": "6db7546b-b458-4280-e775-e6c05c70caca"
      },
      "execution_count": null,
      "outputs": [
        {
          "output_type": "stream",
          "name": "stderr",
          "text": [
            "/usr/local/lib/python3.7/dist-packages/ipykernel_launcher.py:2: SettingWithCopyWarning: \n",
            "A value is trying to be set on a copy of a slice from a DataFrame.\n",
            "Try using .loc[row_indexer,col_indexer] = value instead\n",
            "\n",
            "See the caveats in the documentation: https://pandas.pydata.org/pandas-docs/stable/user_guide/indexing.html#returning-a-view-versus-a-copy\n",
            "  \n"
          ]
        },
        {
          "output_type": "execute_result",
          "data": {
            "text/plain": [
              "<matplotlib.axes._subplots.AxesSubplot at 0x7f3e0506a310>"
            ]
          },
          "metadata": {},
          "execution_count": 410
        },
        {
          "output_type": "display_data",
          "data": {
            "text/plain": [
              "<Figure size 432x288 with 1 Axes>"
            ],
            "image/png": "[encoded data removed]"
          },
          "metadata": {
            "needs_background": "light"
          }
        }
      ]
    },
    {
      "cell_type": "code",
      "source": [
        "df_2016 = df_result_class[df_result_class['TRANS DATE'].isin(pd.date_range('2016-01-01','2016-12-31'))]\n",
        "df_2016['MONTH'] = df_2016['TRANS DATE'].apply(lambda x: x.month)\n",
        "#df_2016['Directorate'].replace({'Adults':'Adults & Communities','Adults & Comms':'Adults & Communities','CYP&F  ':'CYP&F','CYO&F':'CYP&F','CYP&F ':'CYP&F','CYP&F SCHOOLS':'CYP&F', 'CYP&F Schools':'CYP&F', 'Local Services':'Local services', 'DEVELOPMENT':'Development','Adult & Communities':'Adults & Communities'}, inplace=True)\n",
        "\n",
        "\n",
        "df16 = df_2016.groupby(['TRANS CAC DESC 1','MONTH'],as_index=False).sum()\n",
        "\n",
        "dfT16 = pd.DataFrame()\n",
        "\n",
        "for columna in df16['TRANS CAC DESC 1'].unique():\n",
        "  d16 = df16[df16['TRANS CAC DESC 1']==columna].set_index('MONTH')\n",
        "  d16.rename(columns={'ORIGINAL GROSS AMT':columna},inplace=True)\n",
        "  dfT16 = pd.concat([dfT16,d16],axis=1)\n",
        "\n",
        "dfT16.drop('TRANS CAC DESC 1',axis=1,inplace=True)\n",
        "dfT16.plot()"
      ],
      "metadata": {
        "colab": {
          "base_uri": "https://localhost:8080/",
          "height": 401
        },
        "id": "2u0q7R7P2jt_",
        "outputId": "defa8823-372f-476b-b6cf-d976ec667642"
      },
      "execution_count": null,
      "outputs": [
        {
          "output_type": "stream",
          "name": "stderr",
          "text": [
            "/usr/local/lib/python3.7/dist-packages/ipykernel_launcher.py:2: SettingWithCopyWarning: \n",
            "A value is trying to be set on a copy of a slice from a DataFrame.\n",
            "Try using .loc[row_indexer,col_indexer] = value instead\n",
            "\n",
            "See the caveats in the documentation: https://pandas.pydata.org/pandas-docs/stable/user_guide/indexing.html#returning-a-view-versus-a-copy\n",
            "  \n"
          ]
        },
        {
          "output_type": "execute_result",
          "data": {
            "text/plain": [
              "<matplotlib.axes._subplots.AxesSubplot at 0x7f3e04ffc210>"
            ]
          },
          "metadata": {},
          "execution_count": 411
        },
        {
          "output_type": "display_data",
          "data": {
            "text/plain": [
              "<Figure size 432x288 with 1 Axes>"
            ],
            "image/png": "[encoded data removed]"
          },
          "metadata": {
            "needs_background": "light"
          }
        }
      ]
    },
    {
      "cell_type": "markdown",
      "source": [
        "Se puede ver que en los 3 años, los libros y las compras de comida tienen el mismo comportamiento, aunque los libros siempre se mantienen por debajo, lo cual es comprensible. Pero no deja de llamar la atención esta tendencia a la par de la comida.\n",
        "\n",
        "Por otro lado, se puede observar que el combustible para vehículos no se comporta de una forma \"constante\" como se pensaría de un principio. Incluso tiene comportamiento parecido a los rubros antes mencionado. \n",
        "\n",
        "En el 2016 se observa un pico atípico del rubro *Supplies & Sev Mic*, es un valor negativo en el mes de abril."
      ],
      "metadata": {
        "id": "RD4LySdI2zlI"
      }
    },
    {
      "cell_type": "markdown",
      "source": [
        "## 5. Detección de Anomalías"
      ],
      "metadata": {
        "id": "VNZiBBys4nYS"
      }
    },
    {
      "cell_type": "markdown",
      "source": [
        "Para la detección de anomalías sólo se considerarán dos columnas, el monto y la fecha, sin agrupaciones, pero se agregarán dos columnas que nos ayudarán a observar el intervalo de confianza y con ello, se podrán observar los valores atípicos de la serie temporal"
      ],
      "metadata": {
        "id": "-pikcaBP4rXq"
      }
    },
    {
      "cell_type": "code",
      "source": [],
      "metadata": {
        "id": "7VTnBKQU6DUN"
      },
      "execution_count": null,
      "outputs": []
    },
    {
      "cell_type": "code",
      "source": [
        "anomalias = df_result[['TRANS DATE', 'ORIGINAL GROSS AMT']].sort_values(by='TRANS DATE')\n",
        "anomalias = anomalias[anomalias['ORIGINAL GROSS AMT'].notna()]\n",
        "anomalias.groupby(['TRANS DATE']).sum()\n",
        "anomalias\n"
      ],
      "metadata": {
        "colab": {
          "base_uri": "https://localhost:8080/",
          "height": 424
        },
        "id": "AX_EabB65RrV",
        "outputId": "25f2cab7-c4d4-40b6-a97c-e99482904930"
      },
      "execution_count": null,
      "outputs": [
        {
          "output_type": "execute_result",
          "data": {
            "text/plain": [
              "      TRANS DATE  ORIGINAL GROSS AMT\n",
              "3954  2013-11-12             -594.00\n",
              "6242  2014-03-06               98.33\n",
              "5605  2014-03-27              -10.54\n",
              "6217  2014-04-01               94.93\n",
              "6232  2014-04-02               79.88\n",
              "...          ...                 ...\n",
              "75915 2017-11-30               29.41\n",
              "78506 2017-11-30              596.95\n",
              "75196 2017-12-01                7.38\n",
              "75198 2017-12-01                2.95\n",
              "74541 2017-12-01               76.00\n",
              "\n",
              "[180268 rows x 2 columns]"
            ],
            "text/html": [
              "\n",
              "  <div id=\"df-59e61800-66bb-484b-948b-0160a78e65d9\">\n",
              "    <div class=\"colab-df-container\">\n",
              "      <div>\n",
              "<style scoped>\n",
              "    .dataframe tbody tr th:only-of-type {\n",
              "        vertical-align: middle;\n",
              "    }\n",
              "\n",
              "    .dataframe tbody tr th {\n",
              "        vertical-align: top;\n",
              "    }\n",
              "\n",
              "    .dataframe thead th {\n",
              "        text-align: right;\n",
              "    }\n",
              "</style>\n",
              "<table border=\"1\" class=\"dataframe\">\n",
              "  <thead>\n",
              "    <tr style=\"text-align: right;\">\n",
              "      <th></th>\n",
              "      <th>TRANS DATE</th>\n",
              "      <th>ORIGINAL GROSS AMT</th>\n",
              "    </tr>\n",
              "  </thead>\n",
              "  <tbody>\n",
              "    <tr>\n",
              "      <th>3954</th>\n",
              "      <td>2013-11-12</td>\n",
              "      <td>-594.00</td>\n",
              "    </tr>\n",
              "    <tr>\n",
              "      <th>6242</th>\n",
              "      <td>2014-03-06</td>\n",
              "      <td>98.33</td>\n",
              "    </tr>\n",
              "    <tr>\n",
              "      <th>5605</th>\n",
              "      <td>2014-03-27</td>\n",
              "      <td>-10.54</td>\n",
              "    </tr>\n",
              "    <tr>\n",
              "      <th>6217</th>\n",
              "      <td>2014-04-01</td>\n",
              "      <td>94.93</td>\n",
              "    </tr>\n",
              "    <tr>\n",
              "      <th>6232</th>\n",
              "      <td>2014-04-02</td>\n",
              "      <td>79.88</td>\n",
              "    </tr>\n",
              "    <tr>\n",
              "      <th>...</th>\n",
              "      <td>...</td>\n",
              "      <td>...</td>\n",
              "    </tr>\n",
              "    <tr>\n",
              "      <th>75915</th>\n",
              "      <td>2017-11-30</td>\n",
              "      <td>29.41</td>\n",
              "    </tr>\n",
              "    <tr>\n",
              "      <th>78506</th>\n",
              "      <td>2017-11-30</td>\n",
              "      <td>596.95</td>\n",
              "    </tr>\n",
              "    <tr>\n",
              "      <th>75196</th>\n",
              "      <td>2017-12-01</td>\n",
              "      <td>7.38</td>\n",
              "    </tr>\n",
              "    <tr>\n",
              "      <th>75198</th>\n",
              "      <td>2017-12-01</td>\n",
              "      <td>2.95</td>\n",
              "    </tr>\n",
              "    <tr>\n",
              "      <th>74541</th>\n",
              "      <td>2017-12-01</td>\n",
              "      <td>76.00</td>\n",
              "    </tr>\n",
              "  </tbody>\n",
              "</table>\n",
              "<p>180268 rows × 2 columns</p>\n",
              "</div>\n",
              "      <button class=\"colab-df-convert\" onclick=\"convertToInteractive('df-59e61800-66bb-484b-948b-0160a78e65d9')\"\n",
              "              title=\"Convert this dataframe to an interactive table.\"\n",
              "              style=\"display:none;\">\n",
              "        \n",
              "  <svg xmlns=\"http://www.w3.org/2000/svg\" height=\"24px\"viewBox=\"0 0 24 24\"\n",
              "       width=\"24px\">\n",
              "    <path d=\"M0 0h24v24H0V0z\" fill=\"none\"/>\n",
              "    <path d=\"M18.56 5.44l.94 2.06.94-2.06 2.06-.94-2.06-.94-.94-2.06-.94 2.06-2.06.94zm-11 1L8.5 8.5l.94-2.06 2.06-.94-2.06-.94L8.5 2.5l-.94 2.06-2.06.94zm10 10l.94 2.06.94-2.06 2.06-.94-2.06-.94-.94-2.06-.94 2.06-2.06.94z\"/><path d=\"M17.41 7.96l-1.37-1.37c-.4-.4-.92-.59-1.43-.59-.52 0-1.04.2-1.43.59L10.3 9.45l-7.72 7.72c-.78.78-.78 2.05 0 2.83L4 21.41c.39.39.9.59 1.41.59.51 0 1.02-.2 1.41-.59l7.78-7.78 2.81-2.81c.8-.78.8-2.07 0-2.86zM5.41 20L4 18.59l7.72-7.72 1.47 1.35L5.41 20z\"/>\n",
              "  </svg>\n",
              "      </button>\n",
              "      \n",
              "  <style>\n",
              "    .colab-df-container {\n",
              "      display:flex;\n",
              "      flex-wrap:wrap;\n",
              "      gap: 12px;\n",
              "    }\n",
              "\n",
              "    .colab-df-convert {\n",
              "      background-color: #E8F0FE;\n",
              "      border: none;\n",
              "      border-radius: 50%;\n",
              "      cursor: pointer;\n",
              "      display: none;\n",
              "      fill: #1967D2;\n",
              "      height: 32px;\n",
              "      padding: 0 0 0 0;\n",
              "      width: 32px;\n",
              "    }\n",
              "\n",
              "    .colab-df-convert:hover {\n",
              "      background-color: #E2EBFA;\n",
              "      box-shadow: 0px 1px 2px rgba(60, 64, 67, 0.3), 0px 1px 3px 1px rgba(60, 64, 67, 0.15);\n",
              "      fill: #174EA6;\n",
              "    }\n",
              "\n",
              "    [theme=dark] .colab-df-convert {\n",
              "      background-color: #3B4455;\n",
              "      fill: #D2E3FC;\n",
              "    }\n",
              "\n",
              "    [theme=dark] .colab-df-convert:hover {\n",
              "      background-color: #434B5C;\n",
              "      box-shadow: 0px 1px 3px 1px rgba(0, 0, 0, 0.15);\n",
              "      filter: drop-shadow(0px 1px 2px rgba(0, 0, 0, 0.3));\n",
              "      fill: #FFFFFF;\n",
              "    }\n",
              "  </style>\n",
              "\n",
              "      <script>\n",
              "        const buttonEl =\n",
              "          document.querySelector('#df-59e61800-66bb-484b-948b-0160a78e65d9 button.colab-df-convert');\n",
              "        buttonEl.style.display =\n",
              "          google.colab.kernel.accessAllowed ? 'block' : 'none';\n",
              "\n",
              "        async function convertToInteractive(key) {\n",
              "          const element = document.querySelector('#df-59e61800-66bb-484b-948b-0160a78e65d9');\n",
              "          const dataTable =\n",
              "            await google.colab.kernel.invokeFunction('convertToInteractive',\n",
              "                                                     [key], {});\n",
              "          if (!dataTable) return;\n",
              "\n",
              "          const docLinkHtml = 'Like what you see? Visit the ' +\n",
              "            '<a target=\"_blank\" href=https://colab.research.google.com/notebooks/data_table.ipynb>data table notebook</a>'\n",
              "            + ' to learn more about interactive tables.';\n",
              "          element.innerHTML = '';\n",
              "          dataTable['output_type'] = 'display_data';\n",
              "          await google.colab.output.renderOutput(dataTable, element);\n",
              "          const docLink = document.createElement('div');\n",
              "          docLink.innerHTML = docLinkHtml;\n",
              "          element.appendChild(docLink);\n",
              "        }\n",
              "      </script>\n",
              "    </div>\n",
              "  </div>\n",
              "  "
            ]
          },
          "metadata": {},
          "execution_count": 511
        }
      ]
    },
    {
      "cell_type": "code",
      "source": [
        "anomalias.set_index('TRANS DATE', inplace=True)\n",
        "anomalias.plot()"
      ],
      "metadata": {
        "colab": {
          "base_uri": "https://localhost:8080/",
          "height": 294
        },
        "id": "ifPsMLbeDX7w",
        "outputId": "ed2b6a8d-4cee-4a5c-f806-2f4bc15231ce"
      },
      "execution_count": null,
      "outputs": [
        {
          "output_type": "execute_result",
          "data": {
            "text/plain": [
              "<matplotlib.axes._subplots.AxesSubplot at 0x7f3df4ecca90>"
            ]
          },
          "metadata": {},
          "execution_count": 512
        },
        {
          "output_type": "display_data",
          "data": {
            "text/plain": [
              "<Figure size 432x288 with 1 Axes>"
            ],
            "image/png": "[encoded data removed]"
          },
          "metadata": {
            "needs_background": "light"
          }
        }
      ]
    },
    {
      "cell_type": "code",
      "source": [
        "anomalias['ORIGINAL GROSS AMT'].sort_values()"
      ],
      "metadata": {
        "colab": {
          "base_uri": "https://localhost:8080/"
        },
        "id": "kpCzuM7jFrU-",
        "outputId": "e39ad963-36c1-4eff-8325-a3a3a5b7f805"
      },
      "execution_count": null,
      "outputs": [
        {
          "output_type": "execute_result",
          "data": {
            "text/plain": [
              "TRANS DATE\n",
              "2017-05-10   -486980.09\n",
              "2016-04-11   -199741.09\n",
              "2017-05-10   -105527.58\n",
              "2017-05-10    -20270.05\n",
              "2017-05-10    -11340.06\n",
              "                ...    \n",
              "2015-01-05     96000.00\n",
              "2015-07-15     97538.78\n",
              "2017-09-07     98527.00\n",
              "2015-02-23    106289.88\n",
              "2017-02-24    280102.23\n",
              "Name: ORIGINAL GROSS AMT, Length: 180268, dtype: float64"
            ]
          },
          "metadata": {},
          "execution_count": 500
        }
      ]
    },
    {
      "cell_type": "code",
      "source": [
        "anomalias = anomalias[(anomalias['ORIGINAL GROSS AMT']!=-486980.09) & (anomalias['ORIGINAL GROSS AMT']!=-199741.09) & (anomalias['ORIGINAL GROSS AMT']!=280102.23) & (anomalias['ORIGINAL GROSS AMT']!=-105527.58)]\n",
        "anomalias"
      ],
      "metadata": {
        "colab": {
          "base_uri": "https://localhost:8080/",
          "height": 455
        },
        "id": "RPBfbZaaHlWC",
        "outputId": "d37bedf4-1f35-4526-8363-fb3d861cde13"
      },
      "execution_count": null,
      "outputs": [
        {
          "output_type": "execute_result",
          "data": {
            "text/plain": [
              "            ORIGINAL GROSS AMT\n",
              "TRANS DATE                    \n",
              "2013-11-12             -594.00\n",
              "2014-03-06               98.33\n",
              "2014-03-27              -10.54\n",
              "2014-04-01               94.93\n",
              "2014-04-02               79.88\n",
              "...                        ...\n",
              "2017-11-30               29.41\n",
              "2017-11-30              596.95\n",
              "2017-12-01                7.38\n",
              "2017-12-01                2.95\n",
              "2017-12-01               76.00\n",
              "\n",
              "[180264 rows x 1 columns]"
            ],
            "text/html": [
              "\n",
              "  <div id=\"df-2f9a5831-905e-413b-bcc3-53c82e627b81\">\n",
              "    <div class=\"colab-df-container\">\n",
              "      <div>\n",
              "<style scoped>\n",
              "    .dataframe tbody tr th:only-of-type {\n",
              "        vertical-align: middle;\n",
              "    }\n",
              "\n",
              "    .dataframe tbody tr th {\n",
              "        vertical-align: top;\n",
              "    }\n",
              "\n",
              "    .dataframe thead th {\n",
              "        text-align: right;\n",
              "    }\n",
              "</style>\n",
              "<table border=\"1\" class=\"dataframe\">\n",
              "  <thead>\n",
              "    <tr style=\"text-align: right;\">\n",
              "      <th></th>\n",
              "      <th>ORIGINAL GROSS AMT</th>\n",
              "    </tr>\n",
              "    <tr>\n",
              "      <th>TRANS DATE</th>\n",
              "      <th></th>\n",
              "    </tr>\n",
              "  </thead>\n",
              "  <tbody>\n",
              "    <tr>\n",
              "      <th>2013-11-12</th>\n",
              "      <td>-594.00</td>\n",
              "    </tr>\n",
              "    <tr>\n",
              "      <th>2014-03-06</th>\n",
              "      <td>98.33</td>\n",
              "    </tr>\n",
              "    <tr>\n",
              "      <th>2014-03-27</th>\n",
              "      <td>-10.54</td>\n",
              "    </tr>\n",
              "    <tr>\n",
              "      <th>2014-04-01</th>\n",
              "      <td>94.93</td>\n",
              "    </tr>\n",
              "    <tr>\n",
              "      <th>2014-04-02</th>\n",
              "      <td>79.88</td>\n",
              "    </tr>\n",
              "    <tr>\n",
              "      <th>...</th>\n",
              "      <td>...</td>\n",
              "    </tr>\n",
              "    <tr>\n",
              "      <th>2017-11-30</th>\n",
              "      <td>29.41</td>\n",
              "    </tr>\n",
              "    <tr>\n",
              "      <th>2017-11-30</th>\n",
              "      <td>596.95</td>\n",
              "    </tr>\n",
              "    <tr>\n",
              "      <th>2017-12-01</th>\n",
              "      <td>7.38</td>\n",
              "    </tr>\n",
              "    <tr>\n",
              "      <th>2017-12-01</th>\n",
              "      <td>2.95</td>\n",
              "    </tr>\n",
              "    <tr>\n",
              "      <th>2017-12-01</th>\n",
              "      <td>76.00</td>\n",
              "    </tr>\n",
              "  </tbody>\n",
              "</table>\n",
              "<p>180264 rows × 1 columns</p>\n",
              "</div>\n",
              "      <button class=\"colab-df-convert\" onclick=\"convertToInteractive('df-2f9a5831-905e-413b-bcc3-53c82e627b81')\"\n",
              "              title=\"Convert this dataframe to an interactive table.\"\n",
              "              style=\"display:none;\">\n",
              "        \n",
              "  <svg xmlns=\"http://www.w3.org/2000/svg\" height=\"24px\"viewBox=\"0 0 24 24\"\n",
              "       width=\"24px\">\n",
              "    <path d=\"M0 0h24v24H0V0z\" fill=\"none\"/>\n",
              "    <path d=\"M18.56 5.44l.94 2.06.94-2.06 2.06-.94-2.06-.94-.94-2.06-.94 2.06-2.06.94zm-11 1L8.5 8.5l.94-2.06 2.06-.94-2.06-.94L8.5 2.5l-.94 2.06-2.06.94zm10 10l.94 2.06.94-2.06 2.06-.94-2.06-.94-.94-2.06-.94 2.06-2.06.94z\"/><path d=\"M17.41 7.96l-1.37-1.37c-.4-.4-.92-.59-1.43-.59-.52 0-1.04.2-1.43.59L10.3 9.45l-7.72 7.72c-.78.78-.78 2.05 0 2.83L4 21.41c.39.39.9.59 1.41.59.51 0 1.02-.2 1.41-.59l7.78-7.78 2.81-2.81c.8-.78.8-2.07 0-2.86zM5.41 20L4 18.59l7.72-7.72 1.47 1.35L5.41 20z\"/>\n",
              "  </svg>\n",
              "      </button>\n",
              "      \n",
              "  <style>\n",
              "    .colab-df-container {\n",
              "      display:flex;\n",
              "      flex-wrap:wrap;\n",
              "      gap: 12px;\n",
              "    }\n",
              "\n",
              "    .colab-df-convert {\n",
              "      background-color: #E8F0FE;\n",
              "      border: none;\n",
              "      border-radius: 50%;\n",
              "      cursor: pointer;\n",
              "      display: none;\n",
              "      fill: #1967D2;\n",
              "      height: 32px;\n",
              "      padding: 0 0 0 0;\n",
              "      width: 32px;\n",
              "    }\n",
              "\n",
              "    .colab-df-convert:hover {\n",
              "      background-color: #E2EBFA;\n",
              "      box-shadow: 0px 1px 2px rgba(60, 64, 67, 0.3), 0px 1px 3px 1px rgba(60, 64, 67, 0.15);\n",
              "      fill: #174EA6;\n",
              "    }\n",
              "\n",
              "    [theme=dark] .colab-df-convert {\n",
              "      background-color: #3B4455;\n",
              "      fill: #D2E3FC;\n",
              "    }\n",
              "\n",
              "    [theme=dark] .colab-df-convert:hover {\n",
              "      background-color: #434B5C;\n",
              "      box-shadow: 0px 1px 3px 1px rgba(0, 0, 0, 0.15);\n",
              "      filter: drop-shadow(0px 1px 2px rgba(0, 0, 0, 0.3));\n",
              "      fill: #FFFFFF;\n",
              "    }\n",
              "  </style>\n",
              "\n",
              "      <script>\n",
              "        const buttonEl =\n",
              "          document.querySelector('#df-2f9a5831-905e-413b-bcc3-53c82e627b81 button.colab-df-convert');\n",
              "        buttonEl.style.display =\n",
              "          google.colab.kernel.accessAllowed ? 'block' : 'none';\n",
              "\n",
              "        async function convertToInteractive(key) {\n",
              "          const element = document.querySelector('#df-2f9a5831-905e-413b-bcc3-53c82e627b81');\n",
              "          const dataTable =\n",
              "            await google.colab.kernel.invokeFunction('convertToInteractive',\n",
              "                                                     [key], {});\n",
              "          if (!dataTable) return;\n",
              "\n",
              "          const docLinkHtml = 'Like what you see? Visit the ' +\n",
              "            '<a target=\"_blank\" href=https://colab.research.google.com/notebooks/data_table.ipynb>data table notebook</a>'\n",
              "            + ' to learn more about interactive tables.';\n",
              "          element.innerHTML = '';\n",
              "          dataTable['output_type'] = 'display_data';\n",
              "          await google.colab.output.renderOutput(dataTable, element);\n",
              "          const docLink = document.createElement('div');\n",
              "          docLink.innerHTML = docLinkHtml;\n",
              "          element.appendChild(docLink);\n",
              "        }\n",
              "      </script>\n",
              "    </div>\n",
              "  </div>\n",
              "  "
            ]
          },
          "metadata": {},
          "execution_count": 513
        }
      ]
    },
    {
      "cell_type": "code",
      "source": [
        "anomalias.plot()"
      ],
      "metadata": {
        "colab": {
          "base_uri": "https://localhost:8080/",
          "height": 294
        },
        "id": "w7ecJmaXIl0t",
        "outputId": "040425c5-3a7d-4fa1-b8a2-3c3469565da5"
      },
      "execution_count": null,
      "outputs": [
        {
          "output_type": "execute_result",
          "data": {
            "text/plain": [
              "<matplotlib.axes._subplots.AxesSubplot at 0x7f3dedb186d0>"
            ]
          },
          "metadata": {},
          "execution_count": 514
        },
        {
          "output_type": "display_data",
          "data": {
            "text/plain": [
              "<Figure size 432x288 with 1 Axes>"
            ],
            "image/png": "[encoded data removed]"
          },
          "metadata": {
            "needs_background": "light"
          }
        }
      ]
    },
    {
      "cell_type": "code",
      "source": [
        "anomalias['VALOR_U'] =  anomalias['ORIGINAL GROSS AMT'].rolling(window=30).mean() + (2*anomalias['ORIGINAL GROSS AMT'].std())\n",
        "anomalias['VALOR_D'] = anomalias['ORIGINAL GROSS AMT'].rolling(window=30).mean() - (2*anomalias['ORIGINAL GROSS AMT'].std())\n",
        "anomalias.plot()"
      ],
      "metadata": {
        "colab": {
          "base_uri": "https://localhost:8080/",
          "height": 503
        },
        "id": "o2KKIwRT5uS8",
        "outputId": "b0f59fc8-5ab2-492b-c261-85daa9a304ee"
      },
      "execution_count": null,
      "outputs": [
        {
          "output_type": "stream",
          "name": "stderr",
          "text": [
            "/usr/local/lib/python3.7/dist-packages/ipykernel_launcher.py:1: SettingWithCopyWarning: \n",
            "A value is trying to be set on a copy of a slice from a DataFrame.\n",
            "Try using .loc[row_indexer,col_indexer] = value instead\n",
            "\n",
            "See the caveats in the documentation: https://pandas.pydata.org/pandas-docs/stable/user_guide/indexing.html#returning-a-view-versus-a-copy\n",
            "  \"\"\"Entry point for launching an IPython kernel.\n",
            "/usr/local/lib/python3.7/dist-packages/ipykernel_launcher.py:2: SettingWithCopyWarning: \n",
            "A value is trying to be set on a copy of a slice from a DataFrame.\n",
            "Try using .loc[row_indexer,col_indexer] = value instead\n",
            "\n",
            "See the caveats in the documentation: https://pandas.pydata.org/pandas-docs/stable/user_guide/indexing.html#returning-a-view-versus-a-copy\n",
            "  \n"
          ]
        },
        {
          "output_type": "execute_result",
          "data": {
            "text/plain": [
              "<matplotlib.axes._subplots.AxesSubplot at 0x7f3de955af90>"
            ]
          },
          "metadata": {},
          "execution_count": 520
        },
        {
          "output_type": "display_data",
          "data": {
            "text/plain": [
              "<Figure size 432x288 with 1 Axes>"
            ],
            "image/png": "[encoded data removed]"
          },
          "metadata": {
            "needs_background": "light"
          }
        }
      ]
    }
  ],
  "metadata": {
    "kernelspec": {
      "display_name": "Python 3.10.6 64-bit",
      "language": "python",
      "name": "python3"
    },
    "language_info": {
      "codemirror_mode": {
        "name": "ipython",
        "version": 3
      },
      "file_extension": ".py",
      "mimetype": "text/x-python",
      "name": "python",
      "nbconvert_exporter": "python",
      "pygments_lexer": "ipython3",
      "version": "3.10.6"
    },
    "orig_nbformat": 4,
    "vscode": {
      "interpreter": {
        "hash": "916dbcbb3f70747c44a77c7bcd40155683ae19c65e1c03b4aa3499c5328201f1"
      }
    },
    "colab": {
      "name": "pruebas2.ipynb",
      "provenance": [],
      "collapsed_sections": [
        "J2vUMt4vFHnl"
      ],
      "include_colab_link": true
    }
  },
  "nbformat": 4,
  "nbformat_minor": 0
}