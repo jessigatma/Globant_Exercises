{
 "cells": [
  {
   "cell_type": "markdown",
   "metadata": {},
   "source": [
    "# Resúmenes de los Premios de Investigación de la NSF"
   ]
  },
  {
   "cell_type": "markdown",
   "metadata": {},
   "source": [
    "## 1. Objetivo del proyecto (Entendimiento del problema)"
   ]
  },
  {
   "cell_type": "markdown",
   "metadata": {},
   "source": [
    "**Objetivo**: Desarrollar un modelo no supervisado que clasifique los resúmenes en un tópico basado en la similitud semántica."
   ]
  },
  {
   "cell_type": "markdown",
   "metadata": {},
   "source": [
    "En el siguiente link se encuentran los archivos que contienen los resúmenes que se encuentran en formato *xml* https://www.nsf.gov/awardsearch/download?DownloadFileName=2020&All=true"
   ]
  },
  {
   "cell_type": "markdown",
   "metadata": {},
   "source": [
    "## 2. Obtención de los datos "
   ]
  },
  {
   "cell_type": "markdown",
   "metadata": {},
   "source": [
    "- ¿Qué información encuentro en los archivos?"
   ]
  },
  {
   "cell_type": "code",
   "execution_count": 3,
   "metadata": {},
   "outputs": [
    {
     "name": "stdout",
     "output_type": "stream",
     "text": [
      "número de columnas:  27 \n",
      "Columnas:  Index(['AwardTitle', 'AGENCY', 'AwardEffectiveDate', 'AwardExpirationDate',\n",
      "       'AwardTotalIntnAmount', 'AwardAmount', 'AwardInstrument',\n",
      "       'Organization', 'ProgramOfficer', 'AbstractNarration',\n",
      "       'MinAmdLetterDate', 'MaxAmdLetterDate', 'ARRAAmount', 'TRAN_TYPE',\n",
      "       'CFDA_NUM', 'NSF_PAR_USE_FLAG', 'FUND_AGCY_CODE', 'AWDG_AGCY_CODE',\n",
      "       'AwardID', 'Investigator', 'Institution', 'Performance_Institution',\n",
      "       'ProgramElement', 'ProgramReference', 'Appropriation', 'Fund',\n",
      "       'FUND_OBLG'],\n",
      "      dtype='object')\n"
     ]
    },
    {
     "data": {
      "text/html": [
       "<div>\n",
       "<style scoped>\n",
       "    .dataframe tbody tr th:only-of-type {\n",
       "        vertical-align: middle;\n",
       "    }\n",
       "\n",
       "    .dataframe tbody tr th {\n",
       "        vertical-align: top;\n",
       "    }\n",
       "\n",
       "    .dataframe thead th {\n",
       "        text-align: right;\n",
       "    }\n",
       "</style>\n",
       "<table border=\"1\" class=\"dataframe\">\n",
       "  <thead>\n",
       "    <tr style=\"text-align: right;\">\n",
       "      <th></th>\n",
       "      <th>AwardTitle</th>\n",
       "      <th>AGENCY</th>\n",
       "      <th>AwardEffectiveDate</th>\n",
       "      <th>AwardExpirationDate</th>\n",
       "      <th>AwardTotalIntnAmount</th>\n",
       "      <th>AwardAmount</th>\n",
       "      <th>AwardInstrument</th>\n",
       "      <th>Organization</th>\n",
       "      <th>ProgramOfficer</th>\n",
       "      <th>AbstractNarration</th>\n",
       "      <th>...</th>\n",
       "      <th>AWDG_AGCY_CODE</th>\n",
       "      <th>AwardID</th>\n",
       "      <th>Investigator</th>\n",
       "      <th>Institution</th>\n",
       "      <th>Performance_Institution</th>\n",
       "      <th>ProgramElement</th>\n",
       "      <th>ProgramReference</th>\n",
       "      <th>Appropriation</th>\n",
       "      <th>Fund</th>\n",
       "      <th>FUND_OBLG</th>\n",
       "    </tr>\n",
       "  </thead>\n",
       "  <tbody>\n",
       "    <tr>\n",
       "      <th>0</th>\n",
       "      <td>Collaborative Research: Excellence in Research...</td>\n",
       "      <td>NSF</td>\n",
       "      <td>07/01/2020</td>\n",
       "      <td>06/30/2023</td>\n",
       "      <td>229338.0</td>\n",
       "      <td>345460</td>\n",
       "      <td>NaN</td>\n",
       "      <td>NaN</td>\n",
       "      <td>NaN</td>\n",
       "      <td>Head and heart development are closely intertw...</td>\n",
       "      <td>...</td>\n",
       "      <td>4900</td>\n",
       "      <td>2000005</td>\n",
       "      <td>NaN</td>\n",
       "      <td>NaN</td>\n",
       "      <td>NaN</td>\n",
       "      <td>NaN</td>\n",
       "      <td>NaN</td>\n",
       "      <td>NaN</td>\n",
       "      <td>NaN</td>\n",
       "      <td>2021~116122</td>\n",
       "    </tr>\n",
       "  </tbody>\n",
       "</table>\n",
       "<p>1 rows × 27 columns</p>\n",
       "</div>"
      ],
      "text/plain": [
       "                                          AwardTitle AGENCY  \\\n",
       "0  Collaborative Research: Excellence in Research...    NSF   \n",
       "\n",
       "  AwardEffectiveDate AwardExpirationDate  AwardTotalIntnAmount  AwardAmount  \\\n",
       "0         07/01/2020          06/30/2023              229338.0       345460   \n",
       "\n",
       "   AwardInstrument  Organization  ProgramOfficer  \\\n",
       "0              NaN           NaN             NaN   \n",
       "\n",
       "                                   AbstractNarration  ... AWDG_AGCY_CODE  \\\n",
       "0  Head and heart development are closely intertw...  ...           4900   \n",
       "\n",
       "   AwardID  Investigator Institution  Performance_Institution  ProgramElement  \\\n",
       "0  2000005           NaN         NaN                      NaN             NaN   \n",
       "\n",
       "   ProgramReference  Appropriation  Fund    FUND_OBLG  \n",
       "0               NaN            NaN   NaN  2021~116122  \n",
       "\n",
       "[1 rows x 27 columns]"
      ]
     },
     "execution_count": 3,
     "metadata": {},
     "output_type": "execute_result"
    }
   ],
   "source": [
    "import pandas as pd\n",
    "\n",
    "df_abst = pd.read_xml('./2020/2000005.xml', encoding='utf-8')\n",
    "print('número de columnas: ', len(df_abst.columns), '\\nColumnas: ', df_abst.columns)\n",
    "df_abst\n"
   ]
  },
  {
   "cell_type": "code",
   "execution_count": 38,
   "metadata": {},
   "outputs": [
    {
     "data": {
      "text/html": [
       "<div>\n",
       "<style scoped>\n",
       "    .dataframe tbody tr th:only-of-type {\n",
       "        vertical-align: middle;\n",
       "    }\n",
       "\n",
       "    .dataframe tbody tr th {\n",
       "        vertical-align: top;\n",
       "    }\n",
       "\n",
       "    .dataframe thead th {\n",
       "        text-align: right;\n",
       "    }\n",
       "</style>\n",
       "<table border=\"1\" class=\"dataframe\">\n",
       "  <thead>\n",
       "    <tr style=\"text-align: right;\">\n",
       "      <th></th>\n",
       "      <th>AwardTitle</th>\n",
       "      <th>AGENCY</th>\n",
       "      <th>AwardEffectiveDate</th>\n",
       "      <th>AwardExpirationDate</th>\n",
       "      <th>AwardTotalIntnAmount</th>\n",
       "      <th>AwardAmount</th>\n",
       "      <th>AwardInstrument</th>\n",
       "      <th>Organization</th>\n",
       "      <th>ProgramOfficer</th>\n",
       "      <th>AbstractNarration</th>\n",
       "      <th>MinAmdLetterDate</th>\n",
       "      <th>MaxAmdLetterDate</th>\n",
       "      <th>ARRAAmount</th>\n",
       "      <th>TRAN_TYPE</th>\n",
       "      <th>CFDA_NUM</th>\n",
       "    </tr>\n",
       "  </thead>\n",
       "  <tbody>\n",
       "    <tr>\n",
       "      <th>0</th>\n",
       "      <td>Collaborative Research: Excellence in Research...</td>\n",
       "      <td>NSF</td>\n",
       "      <td>07/01/2020</td>\n",
       "      <td>06/30/2023</td>\n",
       "      <td>229338.0</td>\n",
       "      <td>345460</td>\n",
       "      <td>NaN</td>\n",
       "      <td>NaN</td>\n",
       "      <td>NaN</td>\n",
       "      <td>Head and heart development are closely intertw...</td>\n",
       "      <td>06/29/2020</td>\n",
       "      <td>08/03/2021</td>\n",
       "      <td>NaN</td>\n",
       "      <td>Grant</td>\n",
       "      <td>47.074</td>\n",
       "    </tr>\n",
       "  </tbody>\n",
       "</table>\n",
       "</div>"
      ],
      "text/plain": [
       "                                          AwardTitle AGENCY  \\\n",
       "0  Collaborative Research: Excellence in Research...    NSF   \n",
       "\n",
       "  AwardEffectiveDate AwardExpirationDate  AwardTotalIntnAmount  AwardAmount  \\\n",
       "0         07/01/2020          06/30/2023              229338.0       345460   \n",
       "\n",
       "   AwardInstrument  Organization  ProgramOfficer  \\\n",
       "0              NaN           NaN             NaN   \n",
       "\n",
       "                                   AbstractNarration MinAmdLetterDate  \\\n",
       "0  Head and heart development are closely intertw...       06/29/2020   \n",
       "\n",
       "  MaxAmdLetterDate  ARRAAmount TRAN_TYPE  CFDA_NUM  \n",
       "0       08/03/2021         NaN     Grant    47.074  "
      ]
     },
     "execution_count": 38,
     "metadata": {},
     "output_type": "execute_result"
    }
   ],
   "source": [
    "df_abst.iloc[:,:15]"
   ]
  },
  {
   "cell_type": "code",
   "execution_count": 39,
   "metadata": {},
   "outputs": [
    {
     "data": {
      "text/html": [
       "<div>\n",
       "<style scoped>\n",
       "    .dataframe tbody tr th:only-of-type {\n",
       "        vertical-align: middle;\n",
       "    }\n",
       "\n",
       "    .dataframe tbody tr th {\n",
       "        vertical-align: top;\n",
       "    }\n",
       "\n",
       "    .dataframe thead th {\n",
       "        text-align: right;\n",
       "    }\n",
       "</style>\n",
       "<table border=\"1\" class=\"dataframe\">\n",
       "  <thead>\n",
       "    <tr style=\"text-align: right;\">\n",
       "      <th></th>\n",
       "      <th>NSF_PAR_USE_FLAG</th>\n",
       "      <th>FUND_AGCY_CODE</th>\n",
       "      <th>AWDG_AGCY_CODE</th>\n",
       "      <th>AwardID</th>\n",
       "      <th>Investigator</th>\n",
       "      <th>Institution</th>\n",
       "      <th>Performance_Institution</th>\n",
       "      <th>ProgramElement</th>\n",
       "      <th>ProgramReference</th>\n",
       "      <th>Appropriation</th>\n",
       "      <th>Fund</th>\n",
       "      <th>FUND_OBLG</th>\n",
       "    </tr>\n",
       "  </thead>\n",
       "  <tbody>\n",
       "    <tr>\n",
       "      <th>0</th>\n",
       "      <td>1</td>\n",
       "      <td>4900</td>\n",
       "      <td>4900</td>\n",
       "      <td>2000005</td>\n",
       "      <td>NaN</td>\n",
       "      <td>NaN</td>\n",
       "      <td>NaN</td>\n",
       "      <td>NaN</td>\n",
       "      <td>NaN</td>\n",
       "      <td>NaN</td>\n",
       "      <td>NaN</td>\n",
       "      <td>2021~116122</td>\n",
       "    </tr>\n",
       "  </tbody>\n",
       "</table>\n",
       "</div>"
      ],
      "text/plain": [
       "   NSF_PAR_USE_FLAG  FUND_AGCY_CODE  AWDG_AGCY_CODE  AwardID  Investigator  \\\n",
       "0                 1            4900            4900  2000005           NaN   \n",
       "\n",
       "   Institution  Performance_Institution  ProgramElement  ProgramReference  \\\n",
       "0          NaN                      NaN             NaN               NaN   \n",
       "\n",
       "   Appropriation  Fund    FUND_OBLG  \n",
       "0            NaN   NaN  2021~116122  "
      ]
     },
     "execution_count": 39,
     "metadata": {},
     "output_type": "execute_result"
    }
   ],
   "source": [
    "df_abst.iloc[:,15:]"
   ]
  },
  {
   "cell_type": "markdown",
   "metadata": {},
   "source": [
    "Se observa que \"AbstractNarration\" es la columna que contiene el resumen que se necesita clasificar. Mientras que las demás columnas, en este proyecto no se necesitarán, pues no dan más información para descubrir el tópico del que se habla en el resumen. \n",
    "\n",
    "¿Podría ser necesario también el título para definir con mayor precisión el tópico del resumen?\n",
    "\n"
   ]
  },
  {
   "cell_type": "markdown",
   "metadata": {},
   "source": [
    "A continuación, se hará una concatenación de todos los archivos en un solo Data Frame."
   ]
  },
  {
   "cell_type": "code",
   "execution_count": 24,
   "metadata": {},
   "outputs": [],
   "source": [
    "import os\n",
    "import glob\n",
    "import xml.etree.ElementTree as ET\n",
    "\n",
    "path_files = './2020/'\n",
    "xml_files = glob.glob(os.path.join(path_files, \"*.xml\"))\n",
    "column_list = ['AbstractNarration']\n",
    "abstract_list =[]\n",
    "\n",
    "for file in xml_files:\n",
    "    tree = ET.parse(file)\n",
    "    root = tree.getroot()\n",
    "    abstract_list.append([root[0][9].text])\n",
    "\n",
    "df_abstract = pd.DataFrame(abstract_list, columns=['Abstract'])"
   ]
  },
  {
   "cell_type": "code",
   "execution_count": 25,
   "metadata": {},
   "outputs": [
    {
     "name": "stdout",
     "output_type": "stream",
     "text": [
      "Tamaño del DataFrame:  (13294, 1)\n"
     ]
    },
    {
     "data": {
      "text/html": [
       "<div>\n",
       "<style scoped>\n",
       "    .dataframe tbody tr th:only-of-type {\n",
       "        vertical-align: middle;\n",
       "    }\n",
       "\n",
       "    .dataframe tbody tr th {\n",
       "        vertical-align: top;\n",
       "    }\n",
       "\n",
       "    .dataframe thead th {\n",
       "        text-align: right;\n",
       "    }\n",
       "</style>\n",
       "<table border=\"1\" class=\"dataframe\">\n",
       "  <thead>\n",
       "    <tr style=\"text-align: right;\">\n",
       "      <th></th>\n",
       "      <th>Abstract</th>\n",
       "    </tr>\n",
       "  </thead>\n",
       "  <tbody>\n",
       "    <tr>\n",
       "      <th>0</th>\n",
       "      <td>Title: NSF Workshop on Future Wireless Researc...</td>\n",
       "    </tr>\n",
       "    <tr>\n",
       "      <th>1</th>\n",
       "      <td>This Research Experience for Undergraduates (R...</td>\n",
       "    </tr>\n",
       "    <tr>\n",
       "      <th>2</th>\n",
       "      <td>Global science relies on robust, interconnecte...</td>\n",
       "    </tr>\n",
       "    <tr>\n",
       "      <th>3</th>\n",
       "      <td>Human contacts underlie the spread of any infe...</td>\n",
       "    </tr>\n",
       "    <tr>\n",
       "      <th>4</th>\n",
       "      <td>Networks provide a powerful and compact repres...</td>\n",
       "    </tr>\n",
       "    <tr>\n",
       "      <th>5</th>\n",
       "      <td>Databases that contain information about peopl...</td>\n",
       "    </tr>\n",
       "    <tr>\n",
       "      <th>6</th>\n",
       "      <td>The NSF Convergence Accelerator supports use-i...</td>\n",
       "    </tr>\n",
       "    <tr>\n",
       "      <th>7</th>\n",
       "      <td>Nontechnical Summary&amp;lt;br/&amp;gt;&amp;lt;br/&amp;gt;This...</td>\n",
       "    </tr>\n",
       "    <tr>\n",
       "      <th>8</th>\n",
       "      <td>The broader impact of this Small Business Inno...</td>\n",
       "    </tr>\n",
       "    <tr>\n",
       "      <th>9</th>\n",
       "      <td>This NSF INCLUDES planning grant is funded by ...</td>\n",
       "    </tr>\n",
       "  </tbody>\n",
       "</table>\n",
       "</div>"
      ],
      "text/plain": [
       "                                            Abstract\n",
       "0  Title: NSF Workshop on Future Wireless Researc...\n",
       "1  This Research Experience for Undergraduates (R...\n",
       "2  Global science relies on robust, interconnecte...\n",
       "3  Human contacts underlie the spread of any infe...\n",
       "4  Networks provide a powerful and compact repres...\n",
       "5  Databases that contain information about peopl...\n",
       "6  The NSF Convergence Accelerator supports use-i...\n",
       "7  Nontechnical Summary&lt;br/&gt;&lt;br/&gt;This...\n",
       "8  The broader impact of this Small Business Inno...\n",
       "9  This NSF INCLUDES planning grant is funded by ..."
      ]
     },
     "execution_count": 25,
     "metadata": {},
     "output_type": "execute_result"
    }
   ],
   "source": [
    "print('Tamaño del DataFrame: ',df_abstract.shape)\n",
    "df_abstract.head(10)"
   ]
  },
  {
   "cell_type": "markdown",
   "metadata": {},
   "source": [
    "## 3. Limpieza de Datos"
   ]
  },
  {
   "cell_type": "markdown",
   "metadata": {},
   "source": [
    "Ya que se tiene toda la información que se requiere en el data frame, se observará la calidad de datos de éste."
   ]
  },
  {
   "cell_type": "code",
   "execution_count": 26,
   "metadata": {},
   "outputs": [
    {
     "name": "stdout",
     "output_type": "stream",
     "text": [
      "<class 'pandas.core.frame.DataFrame'>\n",
      "RangeIndex: 13294 entries, 0 to 13293\n",
      "Data columns (total 1 columns):\n",
      " #   Column    Non-Null Count  Dtype \n",
      "---  ------    --------------  ----- \n",
      " 0   Abstract  13153 non-null  object\n",
      "dtypes: object(1)\n",
      "memory usage: 104.0+ KB\n"
     ]
    }
   ],
   "source": [
    "df_abstract.info()"
   ]
  },
  {
   "cell_type": "markdown",
   "metadata": {},
   "source": [
    "Con el método info() se puede ver que existen algunas filas con NaN. En este proyecto es necesario conocer el resumen para poder clasificarlo, por lo que se eliminarán esas filas."
   ]
  },
  {
   "cell_type": "code",
   "execution_count": 27,
   "metadata": {},
   "outputs": [
    {
     "data": {
      "text/plain": [
       "(13153, 1)"
      ]
     },
     "execution_count": 27,
     "metadata": {},
     "output_type": "execute_result"
    }
   ],
   "source": [
    "df_abstract = df_abstract.dropna()\n",
    "df_abstract.shape"
   ]
  },
  {
   "cell_type": "markdown",
   "metadata": {},
   "source": [
    "Se han eliminado los valores NaN y se puede comprobar con la siguiente línea"
   ]
  },
  {
   "cell_type": "code",
   "execution_count": 28,
   "metadata": {},
   "outputs": [
    {
     "data": {
      "text/plain": [
       "0"
      ]
     },
     "execution_count": 28,
     "metadata": {},
     "output_type": "execute_result"
    }
   ],
   "source": [
    "df_abstract['Abstract'].isnull().sum()"
   ]
  },
  {
   "cell_type": "markdown",
   "metadata": {},
   "source": [
    "En la siguiente celda, se observará un ejemplo del tipo de limpieza que se debe hacer a la cadena de texto. ¿Qué signos, erroes ó typos se pueden encontrar y hay que eliminar para que no haya ruido en el modelo?"
   ]
  },
  {
   "cell_type": "code",
   "execution_count": 29,
   "metadata": {},
   "outputs": [
    {
     "data": {
      "text/plain": [
       "\"Nontechnical Summary&lt;br/&gt;&lt;br/&gt;This award is made on an EAGER proposal invited through the Quantum Algorithm Challenge Dear Colleague Letter. It supports research and education to develop and implement algorithms to run on quantum computers that currently exist or will exist in the near future. A perfect quantum computer is expected to solve certain problems of practical interest much faster than any conventional computer, also called a classical computer. Examples include factoring large numbers into primes with Shor's algorithm and using Lloyd's algorithm to predict the time evolution of an interacting quantum system away from equilibrium. The latter could help in optimization and design of new biomaterials, drugs, and functional quantum materials. While the past few years have brought tremendous progress in efforts to build a perfect quantum computer, the current noisy intermediate-scale quantum (NISQ) technology is potentially decades away from being able to run Shor's a\""
      ]
     },
     "execution_count": 29,
     "metadata": {},
     "output_type": "execute_result"
    }
   ],
   "source": [
    "df_abstract['Abstract'][7][:1000]"
   ]
  },
  {
   "cell_type": "markdown",
   "metadata": {},
   "source": [
    "' Nontechnical Summary \\&lt; br/ \\&gt; \\&lt;br/ \\&gt;/%' En la primer línea se pueden ver algunos tipos del formato xml que se pueden eliminar, pues podrían modificar los resultados del análisis. \n",
    "\n",
    "Por otro lado, para que haya una uniformidad en las cadenas de texto, habrá que convertir todas las palabras a minúsculas, pues una palabra con mayúscula podría considerarse como 2. "
   ]
  },
  {
   "cell_type": "markdown",
   "metadata": {},
   "source": [
    "Se construirá una función para eliminar o modificar las cadenas de texto"
   ]
  },
  {
   "cell_type": "code",
   "execution_count": 30,
   "metadata": {},
   "outputs": [],
   "source": [
    "import re\n",
    "import string\n",
    "\n",
    "def clean_string(text):\n",
    "    text = text.lower() \n",
    "    text = re.sub('&lt;br/&gt;&lt;br/&gt',' ',text)\n",
    "    text = re.sub('br',' ',text)\n",
    "    text = re.sub('\\[.*?\\]', ' ', text)\n",
    "    text = re.sub('[%s]' % re.escape(string.punctuation), ' ', text)\n",
    "    text = re.sub('\\w*\\d\\w*', ' ', text)\n",
    "    text = re.sub('�', ' ', text)\n",
    "    return text"
   ]
  },
  {
   "cell_type": "code",
   "execution_count": 31,
   "metadata": {},
   "outputs": [
    {
     "data": {
      "text/html": [
       "<div>\n",
       "<style scoped>\n",
       "    .dataframe tbody tr th:only-of-type {\n",
       "        vertical-align: middle;\n",
       "    }\n",
       "\n",
       "    .dataframe tbody tr th {\n",
       "        vertical-align: top;\n",
       "    }\n",
       "\n",
       "    .dataframe thead th {\n",
       "        text-align: right;\n",
       "    }\n",
       "</style>\n",
       "<table border=\"1\" class=\"dataframe\">\n",
       "  <thead>\n",
       "    <tr style=\"text-align: right;\">\n",
       "      <th></th>\n",
       "      <th>Abstract</th>\n",
       "    </tr>\n",
       "  </thead>\n",
       "  <tbody>\n",
       "    <tr>\n",
       "      <th>0</th>\n",
       "      <td>title  nsf workshop on future wireless researc...</td>\n",
       "    </tr>\n",
       "    <tr>\n",
       "      <th>1</th>\n",
       "      <td>this research experience for undergraduates  r...</td>\n",
       "    </tr>\n",
       "    <tr>\n",
       "      <th>2</th>\n",
       "      <td>global science relies on robust  interconnecte...</td>\n",
       "    </tr>\n",
       "    <tr>\n",
       "      <th>3</th>\n",
       "      <td>human contacts underlie the spread of any infe...</td>\n",
       "    </tr>\n",
       "    <tr>\n",
       "      <th>4</th>\n",
       "      <td>networks provide a powerful and compact repres...</td>\n",
       "    </tr>\n",
       "    <tr>\n",
       "      <th>5</th>\n",
       "      <td>databases that contain information about peopl...</td>\n",
       "    </tr>\n",
       "    <tr>\n",
       "      <th>6</th>\n",
       "      <td>the nsf convergence accelerator supports use i...</td>\n",
       "    </tr>\n",
       "    <tr>\n",
       "      <th>7</th>\n",
       "      <td>nontechnical summary  this award is made on an...</td>\n",
       "    </tr>\n",
       "    <tr>\n",
       "      <th>8</th>\n",
       "      <td>the  oader impact of this small business innov...</td>\n",
       "    </tr>\n",
       "    <tr>\n",
       "      <th>9</th>\n",
       "      <td>this nsf includes planning grant is funded by ...</td>\n",
       "    </tr>\n",
       "  </tbody>\n",
       "</table>\n",
       "</div>"
      ],
      "text/plain": [
       "                                            Abstract\n",
       "0  title  nsf workshop on future wireless researc...\n",
       "1  this research experience for undergraduates  r...\n",
       "2  global science relies on robust  interconnecte...\n",
       "3  human contacts underlie the spread of any infe...\n",
       "4  networks provide a powerful and compact repres...\n",
       "5  databases that contain information about peopl...\n",
       "6  the nsf convergence accelerator supports use i...\n",
       "7  nontechnical summary  this award is made on an...\n",
       "8  the  oader impact of this small business innov...\n",
       "9  this nsf includes planning grant is funded by ..."
      ]
     },
     "execution_count": 31,
     "metadata": {},
     "output_type": "execute_result"
    }
   ],
   "source": [
    "df_abstract['Abstract'] = df_abstract['Abstract'].apply(lambda x: clean_string(x))\n",
    "df_abstract.head(10)"
   ]
  },
  {
   "cell_type": "markdown",
   "metadata": {},
   "source": [
    "Ejemplo de limpieza del resumen de la fila 7"
   ]
  },
  {
   "cell_type": "code",
   "execution_count": 32,
   "metadata": {},
   "outputs": [
    {
     "data": {
      "text/plain": [
       "'nontechnical summary  this award is made on an eager proposal invited through the quantum algorithm challenge dear colleague letter  it supports research and education to develop and implement algorithms to run on quantum computers that currently exist or will exist in the near future  a perfect quantum computer is expected to solve certain problems of practical interest much faster than any conventional computer  also called a classical computer  examples include factoring large numbers into pr'"
      ]
     },
     "execution_count": 32,
     "metadata": {},
     "output_type": "execute_result"
    }
   ],
   "source": [
    "df_abstract['Abstract'][7][:500]"
   ]
  },
  {
   "cell_type": "markdown",
   "metadata": {},
   "source": [
    "Se muestra limpio de signos de puntuación, typos del xml y todas las palabras en minúsculas."
   ]
  },
  {
   "cell_type": "markdown",
   "metadata": {},
   "source": [
    "## 4. Preprocesamiento de Datos"
   ]
  },
  {
   "cell_type": "markdown",
   "metadata": {},
   "source": [
    "Una vez que el dataset está limpio, aún se requiere procesar los datos para poder hacer uso de éstos en un modelo. \n",
    "\n",
    "Lo siguiente es hacer uso de la librería Scikit Learn para vectorizar las palabras de cada uno de los resúmenes. \n",
    "\n",
    "Se utilizará el método TfidfVectorizer que compara el número de veces que aparece una palabra en una fila con el total de veces que aparece en todas las filas. "
   ]
  },
  {
   "cell_type": "code",
   "execution_count": 33,
   "metadata": {},
   "outputs": [],
   "source": [
    "from sklearn.feature_extraction.text import TfidfVectorizer\n",
    "\n",
    "tfidfvectorizer = TfidfVectorizer(stop_words='english')\n",
    "tfidf_term_vectors = tfidfvectorizer.fit_transform(df_abstract['Abstract'])"
   ]
  },
  {
   "cell_type": "markdown",
   "metadata": {},
   "source": [
    "El método TfidfVectorizer() tiene como parámetro stop_words ='english', esto porque al ser texto que está en inglés, el conjunto 'english' elimina las palabras conectoras o comunes en inglés como: and, in, or, etc"
   ]
  },
  {
   "cell_type": "code",
   "execution_count": 34,
   "metadata": {},
   "outputs": [
    {
     "data": {
      "text/plain": [
       "<13153x46946 sparse matrix of type '<class 'numpy.float64'>'\n",
       "\twith 2279658 stored elements in Compressed Sparse Row format>"
      ]
     },
     "execution_count": 34,
     "metadata": {},
     "output_type": "execute_result"
    }
   ],
   "source": [
    "tfidf_term_vectors"
   ]
  },
  {
   "cell_type": "markdown",
   "metadata": {},
   "source": [
    "En tfidf_term_vectors se tiene una matriz con los 13,153 resúmenes en las filas y 47,108 columnas que son cada una de las palabras a clasificar."
   ]
  },
  {
   "cell_type": "markdown",
   "metadata": {},
   "source": [
    "## 5. Modelación de Datos"
   ]
  },
  {
   "cell_type": "markdown",
   "metadata": {},
   "source": [
    "El modelo que se utilizará para la clasificación de los tópicos de los resúmens es el modelo NMF (Non Negative Matrix Factorization) que es un modelo que reduce dimensiones. \n",
    "\n",
    "El número de dimensiones las determina el usuario y a partir de este número y el peso que ya se obtuvo con el pre procesamiento, mientras más alto es el valor mayor relación tendrá en la clasificación de una dimensión (ó tópicos)."
   ]
  },
  {
   "cell_type": "markdown",
   "metadata": {},
   "source": [
    "El número de tópicos con los que se experimentará será de 3 a 8 y se observará el comportamiento de las similitudes. De ser necesario se agregarán iteraciones."
   ]
  },
  {
   "cell_type": "code",
   "execution_count": 35,
   "metadata": {},
   "outputs": [
    {
     "name": "stdout",
     "output_type": "stream",
     "text": [
      "=============== 3 TÓPICOS =============\n",
      "record size :  46946\n",
      "Palabras en el tópico #0\n",
      "['time', 'model', 'new', 'human', 'using', 'systems', 'network', 'health', 'social', 'models', 'learning', 'research', 'covid', 'project', 'data']\n",
      "\n",
      "\n",
      "Palabras en el tópico #1\n",
      "['university', 'college', 'mathematics', 'faculty', 'student', 'engineering', 'science', 'teachers', 'project', 'learning', 'program', 'research', 'education', 'students', 'stem']\n",
      "\n",
      "\n",
      "Palabras en el tópico #2\n",
      "['students', 'devices', 'manufacturing', 'applications', 'systems', 'theory', 'high', 'physics', 'project', 'new', 'properties', 'energy', 'research', 'materials', 'quantum']\n",
      "\n",
      "\n",
      "=============== 4 TÓPICOS =============\n",
      "record size :  46946\n",
      "Palabras en el tópico #0\n",
      "['methods', 'new', 'networks', 'health', 'network', 'machine', 'systems', 'research', 'algorithms', 'models', 'social', 'covid', 'project', 'learning', 'data']\n",
      "\n",
      "\n",
      "Palabras en el tópico #1\n",
      "['university', 'college', 'mathematics', 'faculty', 'student', 'engineering', 'learning', 'science', 'teachers', 'project', 'program', 'research', 'education', 'students', 'stem']\n",
      "\n",
      "\n",
      "Palabras en el tópico #2\n",
      "['devices', 'manufacturing', 'applications', 'pi', 'systems', 'project', 'high', 'theory', 'new', 'physics', 'energy', 'research', 'properties', 'materials', 'quantum']\n",
      "\n",
      "\n",
      "Palabras en el tópico #3\n",
      "['earth', 'global', 'sea', 'project', 'environmental', 'research', 'arctic', 'changes', 'change', 'ice', 'carbon', 'species', 'climate', 'water', 'ocean']\n",
      "\n",
      "\n",
      "=============== 5 TÓPICOS =============\n",
      "record size :  46946\n",
      "Palabras en el tópico #0\n",
      "['software', 'applications', 'problems', 'research', 'new', 'methods', 'networks', 'network', 'models', 'machine', 'systems', 'algorithms', 'project', 'learning', 'data']\n",
      "\n",
      "\n",
      "Palabras en el tópico #1\n",
      "['university', 'college', 'mathematics', 'learning', 'faculty', 'student', 'engineering', 'science', 'project', 'teachers', 'program', 'research', 'education', 'students', 'stem']\n",
      "\n",
      "\n",
      "Palabras en el tópico #2\n",
      "['light', 'chemical', 'chemistry', 'theory', 'devices', 'project', 'manufacturing', 'high', 'new', 'physics', 'energy', 'research', 'properties', 'materials', 'quantum']\n",
      "\n",
      "\n",
      "Palabras en el tópico #3\n",
      "['earth', 'global', 'project', 'research', 'environmental', 'sea', 'changes', 'change', 'arctic', 'ice', 'carbon', 'species', 'water', 'climate', 'ocean']\n",
      "\n",
      "\n",
      "Palabras en el tópico #4\n",
      "['rapid', 'viral', 'project', 'coronavirus', 'public', 'spread', 'risk', 'disease', 'cov', 'virus', 'sars', 'health', 'social', 'pandemic', 'covid']\n",
      "\n",
      "\n",
      "=============== 6 TÓPICOS =============\n",
      "record size :  46946\n",
      "Palabras en el tópico #0\n",
      "['new', 'research', 'design', 'models', 'networks', 'software', 'computing', 'ai', 'network', 'machine', 'systems', 'algorithms', 'project', 'learning', 'data']\n",
      "\n",
      "\n",
      "Palabras en el tópico #1\n",
      "['university', 'college', 'mathematics', 'learning', 'student', 'faculty', 'engineering', 'science', 'project', 'teachers', 'program', 'research', 'education', 'students', 'stem']\n",
      "\n",
      "\n",
      "Palabras en el tópico #2\n",
      "['mechanical', 'material', 'light', 'chemistry', 'chemical', 'physics', 'devices', 'high', 'manufacturing', 'new', 'research', 'properties', 'energy', 'materials', 'quantum']\n",
      "\n",
      "\n",
      "Palabras en el tópico #3\n",
      "['earth', 'global', 'project', 'research', 'environmental', 'sea', 'changes', 'change', 'arctic', 'ice', 'carbon', 'species', 'water', 'climate', 'ocean']\n",
      "\n",
      "\n",
      "Palabras en el tópico #4\n",
      "['transmission', 'viral', 'project', 'coronavirus', 'public', 'spread', 'risk', 'disease', 'cov', 'virus', 'sars', 'health', 'social', 'pandemic', 'covid']\n",
      "\n",
      "\n",
      "Palabras en el tópico #5\n",
      "['spaces', 'topology', 'conference', 'physics', 'study', 'mathematics', 'pi', 'geometric', 'problems', 'equations', 'mathematical', 'aic', 'geometry', 'theory', 'alge']\n",
      "\n",
      "\n",
      "=============== 7 TÓPICOS =============\n",
      "record size :  46946\n",
      "Palabras en el tópico #0\n",
      "['research', 'new', 'design', 'models', 'software', 'networks', 'computing', 'ai', 'network', 'systems', 'machine', 'algorithms', 'project', 'learning', 'data']\n",
      "\n",
      "\n",
      "Palabras en el tópico #1\n",
      "['university', 'college', 'mathematics', 'learning', 'engineering', 'faculty', 'student', 'science', 'project', 'teachers', 'program', 'research', 'education', 'students', 'stem']\n",
      "\n",
      "\n",
      "Palabras en el tópico #2\n",
      "['metal', 'material', 'molecular', 'chemistry', 'project', 'cells', 'new', 'chemical', 'cell', 'high', 'properties', 'manufacturing', 'research', 'energy', 'materials']\n",
      "\n",
      "\n",
      "Palabras en el tópico #3\n",
      "['project', 'earth', 'data', 'environmental', 'global', 'changes', 'sea', 'change', 'carbon', 'arctic', 'ice', 'species', 'water', 'climate', 'ocean']\n",
      "\n",
      "\n",
      "Palabras en el tópico #4\n",
      "['viral', 'data', 'project', 'coronavirus', 'public', 'spread', 'risk', 'cov', 'disease', 'virus', 'sars', 'health', 'pandemic', 'social', 'covid']\n",
      "\n",
      "\n",
      "Palabras en el tópico #5\n",
      "['topology', 'spaces', 'conference', 'physics', 'study', 'mathematics', 'pi', 'geometric', 'problems', 'equations', 'mathematical', 'aic', 'geometry', 'theory', 'alge']\n",
      "\n",
      "\n",
      "Palabras en el tópico #6\n",
      "['magnetic', 'devices', 'entanglement', 'states', 'systems', 'topological', 'matter', 'classical', 'materials', 'information', 'computers', 'spin', 'physics', 'computing', 'quantum']\n",
      "\n",
      "\n",
      "=============== 8 TÓPICOS =============\n",
      "record size :  46946\n",
      "Palabras en el tópico #0\n",
      "['new', 'methods', 'computing', 'design', 'software', 'networks', 'network', 'ai', 'models', 'systems', 'machine', 'algorithms', 'project', 'learning', 'data']\n",
      "\n",
      "\n",
      "Palabras en el tópico #1\n",
      "['teaching', 'need', 'income', 'retention', 'science', 'teacher', 'student', 'mathematics', 'program', 'learning', 'project', 'education', 'teachers', 'students', 'stem']\n",
      "\n",
      "\n",
      "Palabras en el tópico #2\n",
      "['chemistry', 'molecular', 'material', 'phase', 'new', 'cells', 'chemical', 'project', 'cell', 'research', 'high', 'manufacturing', 'properties', 'energy', 'materials']\n",
      "\n",
      "\n",
      "Palabras en el tópico #3\n",
      "['soil', 'environmental', 'earth', 'project', 'global', 'changes', 'change', 'sea', 'arctic', 'carbon', 'ice', 'species', 'water', 'climate', 'ocean']\n",
      "\n",
      "\n",
      "Palabras en el tópico #4\n",
      "['viral', 'data', 'project', 'coronavirus', 'public', 'spread', 'risk', 'cov', 'disease', 'virus', 'sars', 'health', 'social', 'pandemic', 'covid']\n",
      "\n",
      "\n",
      "Palabras en el tópico #5\n",
      "['topology', 'spaces', 'physics', 'project', 'study', 'mathematics', 'pi', 'geometric', 'problems', 'equations', 'mathematical', 'geometry', 'aic', 'theory', 'alge']\n",
      "\n",
      "\n",
      "Palabras en el tópico #6\n",
      "['magnetic', 'devices', 'entanglement', 'states', 'systems', 'topological', 'matter', 'classical', 'materials', 'information', 'computers', 'spin', 'physics', 'computing', 'quantum']\n",
      "\n",
      "\n",
      "Palabras en el tópico #7\n",
      "['professional', 'institutions', 'university', 'researchers', 'community', 'science', 'participants', 'workshop', 'engineering', 'program', 'faculty', 'conference', 'reu', 'students', 'research']\n",
      "\n",
      "\n"
     ]
    }
   ],
   "source": [
    "from sklearn.decomposition import NMF\n",
    "\n",
    "for i in range(3,9):\n",
    "    print(f'=============== {i} TÓPICOS =============')\n",
    "    nmf_model = NMF(n_components = i,random_state=42)\n",
    "    nmf_model.fit(tfidf_term_vectors)\n",
    "    \n",
    "    print(\"record size : \",len(tfidfvectorizer.get_feature_names_out()))\n",
    "\n",
    "    for index,topic in enumerate(nmf_model.components_):\n",
    "        print(f'Palabras en el tópico #{index}')\n",
    "        print([tfidfvectorizer.get_feature_names_out()[i] for i in topic.argsort()[-15:]])\n",
    "        print('\\n')\n",
    "    "
   ]
  },
  {
   "cell_type": "markdown",
   "metadata": {},
   "source": [
    "## 6. Interpretación de los resultados"
   ]
  },
  {
   "cell_type": "markdown",
   "metadata": {},
   "source": [
    "En los resultados se observa que en el número de tópicos= 3 y 4 no se puede ver con claridad la clasificación de los tópicos.\n",
    "\n",
    "En el número de tópicos = 5 se pueden clasificar mejor los temas:\n",
    "- computación\n",
    "- universidad\n",
    "- ciencias\n",
    "- calentamiento global\n",
    "- covid\n",
    "\n",
    "En el número de tópicos = 6 parece que se divide el de ciencias y en lugar de ésta, se tiene:\n",
    "- bio-química\n",
    "- matemáticas\n",
    "\n",
    "En el número de tópicos =  7 aparece un nuevo tópico, que parece que tiene que ver con:\n",
    "- computación cuántica\n",
    "\n",
    "En el número de tópicos = 8 ya empieza a parecerse el tópico de universidad, no se logra distinguir la diferencia entre éstos. \n",
    "\n",
    "Por tanto, se considerará que el número de tópicos que mejor clasifica es el 7."
   ]
  },
  {
   "cell_type": "markdown",
   "metadata": {},
   "source": [
    "A continuación se muestra gráficamente cada tópico con el conjunto de las palabras y su peso. "
   ]
  },
  {
   "cell_type": "code",
   "execution_count": 41,
   "metadata": {},
   "outputs": [
    {
     "name": "stdout",
     "output_type": "stream",
     "text": [
      "El Topico # 0\n"
     ]
    },
    {
     "data": {
      "image/png": "[encoded data removed]",
      "text/plain": [
       "<Figure size 432x288 with 1 Axes>"
      ]
     },
     "metadata": {
      "needs_background": "light"
     },
     "output_type": "display_data"
    },
    {
     "name": "stdout",
     "output_type": "stream",
     "text": [
      "El Topico # 1\n"
     ]
    },
    {
     "data": {
      "image/png": "[encoded data removed]",
      "text/plain": [
       "<Figure size 432x288 with 1 Axes>"
      ]
     },
     "metadata": {
      "needs_background": "light"
     },
     "output_type": "display_data"
    },
    {
     "name": "stdout",
     "output_type": "stream",
     "text": [
      "El Topico # 2\n"
     ]
    },
    {
     "data": {
      "image/png": "[encoded data removed]",
      "text/plain": [
       "<Figure size 432x288 with 1 Axes>"
      ]
     },
     "metadata": {
      "needs_background": "light"
     },
     "output_type": "display_data"
    },
    {
     "name": "stdout",
     "output_type": "stream",
     "text": [
      "El Topico # 3\n"
     ]
    },
    {
     "data": {
      "image/png": "[encoded data removed]",
      "text/plain": [
       "<Figure size 432x288 with 1 Axes>"
      ]
     },
     "metadata": {
      "needs_background": "light"
     },
     "output_type": "display_data"
    },
    {
     "name": "stdout",
     "output_type": "stream",
     "text": [
      "El Topico # 4\n"
     ]
    },
    {
     "data": {
      "image/png": "[encoded data removed]",
      "text/plain": [
       "<Figure size 432x288 with 1 Axes>"
      ]
     },
     "metadata": {
      "needs_background": "light"
     },
     "output_type": "display_data"
    },
    {
     "name": "stdout",
     "output_type": "stream",
     "text": [
      "El Topico # 5\n"
     ]
    },
    {
     "data": {
      "image/png": "[encoded data removed]",
      "text/plain": [
       "<Figure size 432x288 with 1 Axes>"
      ]
     },
     "metadata": {
      "needs_background": "light"
     },
     "output_type": "display_data"
    },
    {
     "name": "stdout",
     "output_type": "stream",
     "text": [
      "El Topico # 6\n"
     ]
    },
    {
     "data": {
      "image/png": "[encoded data removed]",
      "text/plain": [
       "<Figure size 432x288 with 1 Axes>"
      ]
     },
     "metadata": {
      "needs_background": "light"
     },
     "output_type": "display_data"
    }
   ],
   "source": [
    "import matplotlib.pyplot as plt\n",
    "\n",
    "nmf_model = NMF(n_components = 7,random_state=42)\n",
    "nmf_model.fit(tfidf_term_vectors)\n",
    "\n",
    "components_df = pd.DataFrame(nmf_model.components_, columns=tfidfvectorizer.get_feature_names_out())\n",
    "for topic in range(components_df.shape[0]):\n",
    "    print('El Topico # {}'.format(topic))\n",
    "    df_comp = components_df.iloc[topic].nlargest(15)\n",
    "    df_comp.plot.barh()    \n",
    "    plt.show()  "
   ]
  },
  {
   "cell_type": "markdown",
   "metadata": {},
   "source": [
    "## 7. Conclusiones"
   ]
  },
  {
   "cell_type": "markdown",
   "metadata": {},
   "source": [
    "Finalmente, se crea una nueva columna en el dataframe que contiene la clasificación del resumen por tópico."
   ]
  },
  {
   "cell_type": "code",
   "execution_count": 44,
   "metadata": {},
   "outputs": [
    {
     "data": {
      "text/html": [
       "<div>\n",
       "<style scoped>\n",
       "    .dataframe tbody tr th:only-of-type {\n",
       "        vertical-align: middle;\n",
       "    }\n",
       "\n",
       "    .dataframe tbody tr th {\n",
       "        vertical-align: top;\n",
       "    }\n",
       "\n",
       "    .dataframe thead th {\n",
       "        text-align: right;\n",
       "    }\n",
       "</style>\n",
       "<table border=\"1\" class=\"dataframe\">\n",
       "  <thead>\n",
       "    <tr style=\"text-align: right;\">\n",
       "      <th></th>\n",
       "      <th>Abstract</th>\n",
       "      <th>Num_Topic</th>\n",
       "      <th>Clasificación</th>\n",
       "    </tr>\n",
       "  </thead>\n",
       "  <tbody>\n",
       "    <tr>\n",
       "      <th>0</th>\n",
       "      <td>title  nsf workshop on future wireless researc...</td>\n",
       "      <td>0</td>\n",
       "      <td>Ciencia de Datos</td>\n",
       "    </tr>\n",
       "    <tr>\n",
       "      <th>1</th>\n",
       "      <td>this research experience for undergraduates  r...</td>\n",
       "      <td>1</td>\n",
       "      <td>Universidad</td>\n",
       "    </tr>\n",
       "    <tr>\n",
       "      <th>2</th>\n",
       "      <td>global science relies on robust  interconnecte...</td>\n",
       "      <td>0</td>\n",
       "      <td>Ciencia de Datos</td>\n",
       "    </tr>\n",
       "    <tr>\n",
       "      <th>3</th>\n",
       "      <td>human contacts underlie the spread of any infe...</td>\n",
       "      <td>4</td>\n",
       "      <td>COVID</td>\n",
       "    </tr>\n",
       "    <tr>\n",
       "      <th>4</th>\n",
       "      <td>networks provide a powerful and compact repres...</td>\n",
       "      <td>0</td>\n",
       "      <td>Ciencia de Datos</td>\n",
       "    </tr>\n",
       "    <tr>\n",
       "      <th>5</th>\n",
       "      <td>databases that contain information about peopl...</td>\n",
       "      <td>4</td>\n",
       "      <td>COVID</td>\n",
       "    </tr>\n",
       "    <tr>\n",
       "      <th>6</th>\n",
       "      <td>the nsf convergence accelerator supports use i...</td>\n",
       "      <td>0</td>\n",
       "      <td>Ciencia de Datos</td>\n",
       "    </tr>\n",
       "    <tr>\n",
       "      <th>7</th>\n",
       "      <td>nontechnical summary  this award is made on an...</td>\n",
       "      <td>6</td>\n",
       "      <td>Computación Cuántica</td>\n",
       "    </tr>\n",
       "    <tr>\n",
       "      <th>8</th>\n",
       "      <td>the  oader impact of this small business innov...</td>\n",
       "      <td>2</td>\n",
       "      <td>Ingeniería Materiales</td>\n",
       "    </tr>\n",
       "    <tr>\n",
       "      <th>9</th>\n",
       "      <td>this nsf includes planning grant is funded by ...</td>\n",
       "      <td>0</td>\n",
       "      <td>Ciencia de Datos</td>\n",
       "    </tr>\n",
       "    <tr>\n",
       "      <th>10</th>\n",
       "      <td>nerve cells communicate with each other using ...</td>\n",
       "      <td>2</td>\n",
       "      <td>Ingeniería Materiales</td>\n",
       "    </tr>\n",
       "    <tr>\n",
       "      <th>11</th>\n",
       "      <td>an active fluid is a dispersion of self driven...</td>\n",
       "      <td>2</td>\n",
       "      <td>Ingeniería Materiales</td>\n",
       "    </tr>\n",
       "    <tr>\n",
       "      <th>12</th>\n",
       "      <td>the  oader impact of this small business innov...</td>\n",
       "      <td>4</td>\n",
       "      <td>COVID</td>\n",
       "    </tr>\n",
       "    <tr>\n",
       "      <th>13</th>\n",
       "      <td>the  oader impact commercial potential of this...</td>\n",
       "      <td>4</td>\n",
       "      <td>COVID</td>\n",
       "    </tr>\n",
       "    <tr>\n",
       "      <th>14</th>\n",
       "      <td>with the support of the chemistry of life proc...</td>\n",
       "      <td>2</td>\n",
       "      <td>Ingeniería Materiales</td>\n",
       "    </tr>\n",
       "    <tr>\n",
       "      <th>15</th>\n",
       "      <td>this research project will advance the foundat...</td>\n",
       "      <td>0</td>\n",
       "      <td>Ciencia de Datos</td>\n",
       "    </tr>\n",
       "    <tr>\n",
       "      <th>16</th>\n",
       "      <td>the goal of this eager project is to examine t...</td>\n",
       "      <td>1</td>\n",
       "      <td>Universidad</td>\n",
       "    </tr>\n",
       "    <tr>\n",
       "      <th>17</th>\n",
       "      <td>roughly half of the us states have adopted k  ...</td>\n",
       "      <td>1</td>\n",
       "      <td>Universidad</td>\n",
       "    </tr>\n",
       "    <tr>\n",
       "      <th>18</th>\n",
       "      <td>ain computer interface  bci  research explore...</td>\n",
       "      <td>1</td>\n",
       "      <td>Universidad</td>\n",
       "    </tr>\n",
       "    <tr>\n",
       "      <th>19</th>\n",
       "      <td>the earth’s deep oceans are home to an enormou...</td>\n",
       "      <td>2</td>\n",
       "      <td>Ingeniería Materiales</td>\n",
       "    </tr>\n",
       "  </tbody>\n",
       "</table>\n",
       "</div>"
      ],
      "text/plain": [
       "                                             Abstract  Num_Topic  \\\n",
       "0   title  nsf workshop on future wireless researc...          0   \n",
       "1   this research experience for undergraduates  r...          1   \n",
       "2   global science relies on robust  interconnecte...          0   \n",
       "3   human contacts underlie the spread of any infe...          4   \n",
       "4   networks provide a powerful and compact repres...          0   \n",
       "5   databases that contain information about peopl...          4   \n",
       "6   the nsf convergence accelerator supports use i...          0   \n",
       "7   nontechnical summary  this award is made on an...          6   \n",
       "8   the  oader impact of this small business innov...          2   \n",
       "9   this nsf includes planning grant is funded by ...          0   \n",
       "10  nerve cells communicate with each other using ...          2   \n",
       "11  an active fluid is a dispersion of self driven...          2   \n",
       "12  the  oader impact of this small business innov...          4   \n",
       "13  the  oader impact commercial potential of this...          4   \n",
       "14  with the support of the chemistry of life proc...          2   \n",
       "15  this research project will advance the foundat...          0   \n",
       "16  the goal of this eager project is to examine t...          1   \n",
       "17  roughly half of the us states have adopted k  ...          1   \n",
       "18   ain computer interface  bci  research explore...          1   \n",
       "19  the earth’s deep oceans are home to an enormou...          2   \n",
       "\n",
       "            Clasificación  \n",
       "0        Ciencia de Datos  \n",
       "1             Universidad  \n",
       "2        Ciencia de Datos  \n",
       "3                   COVID  \n",
       "4        Ciencia de Datos  \n",
       "5                   COVID  \n",
       "6        Ciencia de Datos  \n",
       "7    Computación Cuántica  \n",
       "8   Ingeniería Materiales  \n",
       "9        Ciencia de Datos  \n",
       "10  Ingeniería Materiales  \n",
       "11  Ingeniería Materiales  \n",
       "12                  COVID  \n",
       "13                  COVID  \n",
       "14  Ingeniería Materiales  \n",
       "15       Ciencia de Datos  \n",
       "16            Universidad  \n",
       "17            Universidad  \n",
       "18            Universidad  \n",
       "19  Ingeniería Materiales  "
      ]
     },
     "execution_count": 44,
     "metadata": {},
     "output_type": "execute_result"
    }
   ],
   "source": [
    "topic_results = nmf_model.transform(tfidf_term_vectors)\n",
    "df_abstract['Num_Topic'] = topic_results.argmax(axis=1)\n",
    "topicos = {0:'Ciencia de Datos', 1:'Universidad', 2:'Ingeniería Materiales', 3:'Calentamiento Global', 4:'COVID', 5:'Matemáticas', 6:'Computación Cuántica' }\n",
    "df_abstract['Clasificación'] = df_abstract['Num_Topic'].map(topicos)\n",
    "df_abstract.head(20)"
   ]
  },
  {
   "cell_type": "markdown",
   "metadata": {},
   "source": [
    "Se ha cumplido con el objetivo de clasificar los resúmenes en tópicos.\n",
    "\n",
    "Para una siguiente etapa, se consideraría integrar a la cadena del resumen al título, pues normalmente éste describe en pocas palabras el trabajo."
   ]
  }
 ],
 "metadata": {
  "kernelspec": {
   "display_name": "Python 3.10.6 64-bit",
   "language": "python",
   "name": "python3"
  },
  "language_info": {
   "codemirror_mode": {
    "name": "ipython",
    "version": 3
   },
   "file_extension": ".py",
   "mimetype": "text/x-python",
   "name": "python",
   "nbconvert_exporter": "python",
   "pygments_lexer": "ipython3",
   "version": "3.10.6"
  },
  "orig_nbformat": 4,
  "vscode": {
   "interpreter": {
    "hash": "916dbcbb3f70747c44a77c7bcd40155683ae19c65e1c03b4aa3499c5328201f1"
   }
  }
 },
 "nbformat": 4,
 "nbformat_minor": 2
}
